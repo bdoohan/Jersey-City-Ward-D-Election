{
 "cells": [
  {
   "cell_type": "code",
   "execution_count": 87,
   "metadata": {
    "collapsed": true
   },
   "outputs": [],
   "source": [
    "import pandas as pd\n",
    "import numpy as np\n",
    "import seaborn as sns; sns.set()\n",
    "import matplotlib.pyplot as plt"
   ]
  },
  {
   "cell_type": "code",
   "execution_count": 119,
   "metadata": {
    "collapsed": true
   },
   "outputs": [],
   "source": [
    "results = pd.read_csv(\"JC_WARD_D_edited.csv\", header=0, error_bad_lines=False, verbose=False, encoding=\"UTF-7\")"
   ]
  },
  {
   "cell_type": "code",
   "execution_count": 120,
   "metadata": {
    "collapsed": true
   },
   "outputs": [],
   "source": [
    "results = results.drop('Unnamed: 8', axis=1)"
   ]
  },
  {
   "cell_type": "markdown",
   "metadata": {},
   "source": [
    "### Questions to Ask"
   ]
  },
  {
   "cell_type": "markdown",
   "metadata": {},
   "source": [
    "1. How was turnout by district, race?\n",
    "2. Did Mo's supporters come out and vote?\n",
    "3. Did our model accurately predict who would vote?"
   ]
  },
  {
   "cell_type": "markdown",
   "metadata": {},
   "source": [
    "### First clean data"
   ]
  },
  {
   "cell_type": "code",
   "execution_count": 121,
   "metadata": {
    "collapsed": true
   },
   "outputs": [],
   "source": [
    "def get_last(string):\n",
    "    return(str(string).split(\"|\")[0])\n",
    "def get_first(string):\n",
    "    try:\n",
    "        return(str(string).split(\"|\")[1])\n",
    "    except:\n",
    "        return(\"\")\n",
    "def get_middle(string):\n",
    "    try:\n",
    "        return(str(string).split(\"|\")[2])\n",
    "    except:\n",
    "        return(\"\")\n",
    "\n",
    "results[\"last_name\"] = results.Voter_Name.apply(get_last)\n",
    "results[\"first_name\"] = results.Voter_Name.apply(get_first)\n",
    "results[\"middle_name\"] = results.Voter_Name.apply(get_middle)"
   ]
  },
  {
   "cell_type": "markdown",
   "metadata": {},
   "source": [
    "### Add race"
   ]
  },
  {
   "cell_type": "code",
   "execution_count": 122,
   "metadata": {
    "collapsed": true
   },
   "outputs": [],
   "source": [
    "url = 'https://raw.githubusercontent.com/fivethirtyeight/data/master/most-common-name/surnames.csv'\n",
    "races = pd.read_csv(url,index_col=0)"
   ]
  },
  {
   "cell_type": "code",
   "execution_count": 123,
   "metadata": {},
   "outputs": [
    {
     "data": {
      "text/html": [
       "<div>\n",
       "<style>\n",
       "    .dataframe thead tr:only-child th {\n",
       "        text-align: right;\n",
       "    }\n",
       "\n",
       "    .dataframe thead th {\n",
       "        text-align: left;\n",
       "    }\n",
       "\n",
       "    .dataframe tbody tr th {\n",
       "        vertical-align: top;\n",
       "    }\n",
       "</style>\n",
       "<table border=\"1\" class=\"dataframe\">\n",
       "  <thead>\n",
       "    <tr style=\"text-align: right;\">\n",
       "      <th></th>\n",
       "      <th>name</th>\n",
       "      <th>rank</th>\n",
       "      <th>count</th>\n",
       "      <th>prop100k</th>\n",
       "      <th>cum_prop100k</th>\n",
       "      <th>pctwhite</th>\n",
       "      <th>pctblack</th>\n",
       "      <th>pctapi</th>\n",
       "      <th>pctaian</th>\n",
       "      <th>pct2prace</th>\n",
       "      <th>pcthispanic</th>\n",
       "      <th>last_name</th>\n",
       "    </tr>\n",
       "  </thead>\n",
       "  <tbody>\n",
       "    <tr>\n",
       "      <th>0</th>\n",
       "      <td>SMITH</td>\n",
       "      <td>1</td>\n",
       "      <td>2376206</td>\n",
       "      <td>880.85</td>\n",
       "      <td>880.85</td>\n",
       "      <td>73.35</td>\n",
       "      <td>22.22</td>\n",
       "      <td>0.4</td>\n",
       "      <td>0.85</td>\n",
       "      <td>1.63</td>\n",
       "      <td>1.56</td>\n",
       "      <td>SMITH</td>\n",
       "    </tr>\n",
       "    <tr>\n",
       "      <th>1</th>\n",
       "      <td>JOHNSON</td>\n",
       "      <td>2</td>\n",
       "      <td>1857160</td>\n",
       "      <td>688.44</td>\n",
       "      <td>1569.30</td>\n",
       "      <td>61.55</td>\n",
       "      <td>33.8</td>\n",
       "      <td>0.42</td>\n",
       "      <td>0.91</td>\n",
       "      <td>1.82</td>\n",
       "      <td>1.5</td>\n",
       "      <td>JOHNSON</td>\n",
       "    </tr>\n",
       "    <tr>\n",
       "      <th>2</th>\n",
       "      <td>WILLIAMS</td>\n",
       "      <td>3</td>\n",
       "      <td>1534042</td>\n",
       "      <td>568.66</td>\n",
       "      <td>2137.96</td>\n",
       "      <td>48.52</td>\n",
       "      <td>46.72</td>\n",
       "      <td>0.37</td>\n",
       "      <td>0.78</td>\n",
       "      <td>2.01</td>\n",
       "      <td>1.6</td>\n",
       "      <td>WILLIAMS</td>\n",
       "    </tr>\n",
       "    <tr>\n",
       "      <th>3</th>\n",
       "      <td>BROWN</td>\n",
       "      <td>4</td>\n",
       "      <td>1380145</td>\n",
       "      <td>511.62</td>\n",
       "      <td>2649.58</td>\n",
       "      <td>60.71</td>\n",
       "      <td>34.54</td>\n",
       "      <td>0.41</td>\n",
       "      <td>0.83</td>\n",
       "      <td>1.86</td>\n",
       "      <td>1.64</td>\n",
       "      <td>BROWN</td>\n",
       "    </tr>\n",
       "    <tr>\n",
       "      <th>4</th>\n",
       "      <td>JONES</td>\n",
       "      <td>5</td>\n",
       "      <td>1362755</td>\n",
       "      <td>505.17</td>\n",
       "      <td>3154.75</td>\n",
       "      <td>57.69</td>\n",
       "      <td>37.73</td>\n",
       "      <td>0.35</td>\n",
       "      <td>0.94</td>\n",
       "      <td>1.85</td>\n",
       "      <td>1.44</td>\n",
       "      <td>JONES</td>\n",
       "    </tr>\n",
       "  </tbody>\n",
       "</table>\n",
       "</div>"
      ],
      "text/plain": [
       "       name  rank    count  prop100k  cum_prop100k pctwhite pctblack pctapi  \\\n",
       "0     SMITH     1  2376206    880.85        880.85    73.35    22.22    0.4   \n",
       "1   JOHNSON     2  1857160    688.44       1569.30    61.55     33.8   0.42   \n",
       "2  WILLIAMS     3  1534042    568.66       2137.96    48.52    46.72   0.37   \n",
       "3     BROWN     4  1380145    511.62       2649.58    60.71    34.54   0.41   \n",
       "4     JONES     5  1362755    505.17       3154.75    57.69    37.73   0.35   \n",
       "\n",
       "  pctaian pct2prace pcthispanic last_name  \n",
       "0    0.85      1.63        1.56     SMITH  \n",
       "1    0.91      1.82         1.5   JOHNSON  \n",
       "2    0.78      2.01         1.6  WILLIAMS  \n",
       "3    0.83      1.86        1.64     BROWN  \n",
       "4    0.94      1.85        1.44     JONES  "
      ]
     },
     "execution_count": 123,
     "metadata": {},
     "output_type": "execute_result"
    }
   ],
   "source": [
    "races[\"last_name\"] = races.index\n",
    "races = races.reset_index()\n",
    "races.head()"
   ]
  },
  {
   "cell_type": "code",
   "execution_count": 124,
   "metadata": {
    "collapsed": true
   },
   "outputs": [],
   "source": [
    "def get_race(arow): \n",
    "    if arow[\"pctblack\"]==\"((S))\":\n",
    "        arow[\"pctblack\"] = 0.00\n",
    "    if arow[\"pctaian\"]==\"((S))\":\n",
    "        arow[\"pctaian\"] = 0.00\n",
    "    try:\n",
    "        guess = arow[[\"pctwhite\", \"pctblack\", \"pctapi\", \"pctaian\", \"pct2prace\", \"pcthispanic\"]].astype(float).idxmax(axis=1)\n",
    "        return(guess)\n",
    "    except:\n",
    "        return(\"Unidentified\")"
   ]
  },
  {
   "cell_type": "code",
   "execution_count": 125,
   "metadata": {
    "collapsed": true
   },
   "outputs": [],
   "source": [
    "mapping = {'(S)':.00001}\n",
    "races = races.replace({'pctblack': mapping, 'pctaian': mapping,\n",
    "               'pctwhite': mapping, 'pctapi': mapping, \n",
    "               'pct2prace': mapping, 'pcthispanic': mapping})"
   ]
  },
  {
   "cell_type": "code",
   "execution_count": 126,
   "metadata": {
    "collapsed": true
   },
   "outputs": [],
   "source": [
    "races[\"guess\"] = races.apply(lambda x: get_race(x), axis=1)"
   ]
  },
  {
   "cell_type": "code",
   "execution_count": 127,
   "metadata": {
    "collapsed": true
   },
   "outputs": [],
   "source": [
    "races[\"guess\"] = races.guess.str.replace(\"pct\", \"\")"
   ]
  },
  {
   "cell_type": "code",
   "execution_count": 191,
   "metadata": {},
   "outputs": [
    {
     "data": {
      "text/html": [
       "<div>\n",
       "<style>\n",
       "    .dataframe thead tr:only-child th {\n",
       "        text-align: right;\n",
       "    }\n",
       "\n",
       "    .dataframe thead th {\n",
       "        text-align: left;\n",
       "    }\n",
       "\n",
       "    .dataframe tbody tr th {\n",
       "        vertical-align: top;\n",
       "    }\n",
       "</style>\n",
       "<table border=\"1\" class=\"dataframe\">\n",
       "  <thead>\n",
       "    <tr style=\"text-align: right;\">\n",
       "      <th></th>\n",
       "      <th>name</th>\n",
       "      <th>rank</th>\n",
       "      <th>count</th>\n",
       "      <th>prop100k</th>\n",
       "      <th>cum_prop100k</th>\n",
       "      <th>pctwhite</th>\n",
       "      <th>pctblack</th>\n",
       "      <th>pctapi</th>\n",
       "      <th>pctaian</th>\n",
       "      <th>pct2prace</th>\n",
       "      <th>pcthispanic</th>\n",
       "      <th>last_name</th>\n",
       "      <th>guess</th>\n",
       "    </tr>\n",
       "  </thead>\n",
       "  <tbody>\n",
       "    <tr>\n",
       "      <th>0</th>\n",
       "      <td>SMITH</td>\n",
       "      <td>1</td>\n",
       "      <td>2376206</td>\n",
       "      <td>880.85</td>\n",
       "      <td>880.85</td>\n",
       "      <td>73.35</td>\n",
       "      <td>22.22</td>\n",
       "      <td>0.4</td>\n",
       "      <td>0.85</td>\n",
       "      <td>1.63</td>\n",
       "      <td>1.56</td>\n",
       "      <td>SMITH</td>\n",
       "      <td>white</td>\n",
       "    </tr>\n",
       "    <tr>\n",
       "      <th>1</th>\n",
       "      <td>JOHNSON</td>\n",
       "      <td>2</td>\n",
       "      <td>1857160</td>\n",
       "      <td>688.44</td>\n",
       "      <td>1569.30</td>\n",
       "      <td>61.55</td>\n",
       "      <td>33.8</td>\n",
       "      <td>0.42</td>\n",
       "      <td>0.91</td>\n",
       "      <td>1.82</td>\n",
       "      <td>1.5</td>\n",
       "      <td>JOHNSON</td>\n",
       "      <td>white</td>\n",
       "    </tr>\n",
       "    <tr>\n",
       "      <th>2</th>\n",
       "      <td>WILLIAMS</td>\n",
       "      <td>3</td>\n",
       "      <td>1534042</td>\n",
       "      <td>568.66</td>\n",
       "      <td>2137.96</td>\n",
       "      <td>48.52</td>\n",
       "      <td>46.72</td>\n",
       "      <td>0.37</td>\n",
       "      <td>0.78</td>\n",
       "      <td>2.01</td>\n",
       "      <td>1.6</td>\n",
       "      <td>WILLIAMS</td>\n",
       "      <td>white</td>\n",
       "    </tr>\n",
       "    <tr>\n",
       "      <th>3</th>\n",
       "      <td>BROWN</td>\n",
       "      <td>4</td>\n",
       "      <td>1380145</td>\n",
       "      <td>511.62</td>\n",
       "      <td>2649.58</td>\n",
       "      <td>60.71</td>\n",
       "      <td>34.54</td>\n",
       "      <td>0.41</td>\n",
       "      <td>0.83</td>\n",
       "      <td>1.86</td>\n",
       "      <td>1.64</td>\n",
       "      <td>BROWN</td>\n",
       "      <td>white</td>\n",
       "    </tr>\n",
       "    <tr>\n",
       "      <th>4</th>\n",
       "      <td>JONES</td>\n",
       "      <td>5</td>\n",
       "      <td>1362755</td>\n",
       "      <td>505.17</td>\n",
       "      <td>3154.75</td>\n",
       "      <td>57.69</td>\n",
       "      <td>37.73</td>\n",
       "      <td>0.35</td>\n",
       "      <td>0.94</td>\n",
       "      <td>1.85</td>\n",
       "      <td>1.44</td>\n",
       "      <td>JONES</td>\n",
       "      <td>white</td>\n",
       "    </tr>\n",
       "  </tbody>\n",
       "</table>\n",
       "</div>"
      ],
      "text/plain": [
       "       name  rank    count  prop100k  cum_prop100k pctwhite pctblack pctapi  \\\n",
       "0     SMITH     1  2376206    880.85        880.85    73.35    22.22    0.4   \n",
       "1   JOHNSON     2  1857160    688.44       1569.30    61.55     33.8   0.42   \n",
       "2  WILLIAMS     3  1534042    568.66       2137.96    48.52    46.72   0.37   \n",
       "3     BROWN     4  1380145    511.62       2649.58    60.71    34.54   0.41   \n",
       "4     JONES     5  1362755    505.17       3154.75    57.69    37.73   0.35   \n",
       "\n",
       "  pctaian pct2prace pcthispanic last_name  guess  \n",
       "0    0.85      1.63        1.56     SMITH  white  \n",
       "1    0.91      1.82         1.5   JOHNSON  white  \n",
       "2    0.78      2.01         1.6  WILLIAMS  white  \n",
       "3    0.83      1.86        1.64     BROWN  white  \n",
       "4    0.94      1.85        1.44     JONES  white  "
      ]
     },
     "execution_count": 191,
     "metadata": {},
     "output_type": "execute_result"
    }
   ],
   "source": [
    "races.head()"
   ]
  },
  {
   "cell_type": "code",
   "execution_count": 192,
   "metadata": {},
   "outputs": [
    {
     "data": {
      "text/html": [
       "<div>\n",
       "<style>\n",
       "    .dataframe thead tr:only-child th {\n",
       "        text-align: right;\n",
       "    }\n",
       "\n",
       "    .dataframe thead th {\n",
       "        text-align: left;\n",
       "    }\n",
       "\n",
       "    .dataframe tbody tr th {\n",
       "        vertical-align: top;\n",
       "    }\n",
       "</style>\n",
       "<table border=\"1\" class=\"dataframe\">\n",
       "  <thead>\n",
       "    <tr style=\"text-align: right;\">\n",
       "      <th></th>\n",
       "      <th>Voter_ID</th>\n",
       "      <th>Voter_Name</th>\n",
       "      <th>Ballot_Type</th>\n",
       "      <th>Residence_Address</th>\n",
       "      <th>Zip_Code</th>\n",
       "      <th>Party</th>\n",
       "      <th>Wd_VotI</th>\n",
       "      <th>Dist_VotI</th>\n",
       "      <th>last_name</th>\n",
       "      <th>first_name</th>\n",
       "      <th>middle_name</th>\n",
       "    </tr>\n",
       "  </thead>\n",
       "  <tbody>\n",
       "    <tr>\n",
       "      <th>0</th>\n",
       "      <td>110011008</td>\n",
       "      <td>ACOSTA| WILGABRIEL</td>\n",
       "      <td>M</td>\n",
       "      <td>10 CAMBRIDGE AVE AptUnit 3</td>\n",
       "      <td>7307</td>\n",
       "      <td>UNA</td>\n",
       "      <td>4.0</td>\n",
       "      <td>1.0</td>\n",
       "      <td>ACOSTA</td>\n",
       "      <td>WILGABRIEL</td>\n",
       "      <td></td>\n",
       "    </tr>\n",
       "    <tr>\n",
       "      <th>1</th>\n",
       "      <td>110580340</td>\n",
       "      <td>ALONSO| EDUARDO</td>\n",
       "      <td>M</td>\n",
       "      <td>9 CAMBRIDGE AVE AptUnit 2</td>\n",
       "      <td>7307</td>\n",
       "      <td>CNV</td>\n",
       "      <td>4.0</td>\n",
       "      <td>1.0</td>\n",
       "      <td>ALONSO</td>\n",
       "      <td>EDUARDO</td>\n",
       "      <td></td>\n",
       "    </tr>\n",
       "    <tr>\n",
       "      <th>2</th>\n",
       "      <td>150695981</td>\n",
       "      <td>AMADOR| FAUSTINO</td>\n",
       "      <td>M</td>\n",
       "      <td>51 CAMBRIDGE AVE AptUnit 1</td>\n",
       "      <td>7307</td>\n",
       "      <td>DEM</td>\n",
       "      <td>4.0</td>\n",
       "      <td>1.0</td>\n",
       "      <td>AMADOR</td>\n",
       "      <td>FAUSTINO</td>\n",
       "      <td></td>\n",
       "    </tr>\n",
       "    <tr>\n",
       "      <th>3</th>\n",
       "      <td>150189009</td>\n",
       "      <td>ASTUDILLO| ROBERT| C</td>\n",
       "      <td>M</td>\n",
       "      <td>133 GRIFFITH ST</td>\n",
       "      <td>7307</td>\n",
       "      <td>DEM</td>\n",
       "      <td>4.0</td>\n",
       "      <td>1.0</td>\n",
       "      <td>ASTUDILLO</td>\n",
       "      <td>ROBERT</td>\n",
       "      <td>C</td>\n",
       "    </tr>\n",
       "    <tr>\n",
       "      <th>4</th>\n",
       "      <td>110114794</td>\n",
       "      <td>BAKER| CHRISTOPHER| M</td>\n",
       "      <td>M</td>\n",
       "      <td>12 CAMBRIDGE AVE</td>\n",
       "      <td>7307</td>\n",
       "      <td>DEM</td>\n",
       "      <td>4.0</td>\n",
       "      <td>1.0</td>\n",
       "      <td>BAKER</td>\n",
       "      <td>CHRISTOPHER</td>\n",
       "      <td>M</td>\n",
       "    </tr>\n",
       "  </tbody>\n",
       "</table>\n",
       "</div>"
      ],
      "text/plain": [
       "    Voter_ID             Voter_Name Ballot_Type           Residence_Address  \\\n",
       "0  110011008     ACOSTA| WILGABRIEL          M   10 CAMBRIDGE AVE AptUnit 3   \n",
       "1  110580340        ALONSO| EDUARDO          M    9 CAMBRIDGE AVE AptUnit 2   \n",
       "2  150695981       AMADOR| FAUSTINO          M   51 CAMBRIDGE AVE AptUnit 1   \n",
       "3  150189009   ASTUDILLO| ROBERT| C          M              133 GRIFFITH ST   \n",
       "4  110114794  BAKER| CHRISTOPHER| M          M             12 CAMBRIDGE AVE   \n",
       "\n",
       "  Zip_Code Party  Wd_VotI  Dist_VotI  last_name    first_name middle_name  \n",
       "0     7307   UNA      4.0        1.0     ACOSTA    WILGABRIEL              \n",
       "1     7307   CNV      4.0        1.0     ALONSO       EDUARDO              \n",
       "2     7307   DEM      4.0        1.0     AMADOR      FAUSTINO              \n",
       "3     7307   DEM      4.0        1.0  ASTUDILLO        ROBERT           C  \n",
       "4     7307   DEM      4.0        1.0      BAKER   CHRISTOPHER           M  "
      ]
     },
     "execution_count": 192,
     "metadata": {},
     "output_type": "execute_result"
    }
   ],
   "source": [
    "results.head()"
   ]
  },
  {
   "cell_type": "code",
   "execution_count": 128,
   "metadata": {},
   "outputs": [
    {
     "data": {
      "text/plain": [
       "guess\n",
       "2prace         140\n",
       "aian           547\n",
       "api           6562\n",
       "black         5882\n",
       "hispanic      8212\n",
       "white       130327\n",
       "Name: name, dtype: int64"
      ]
     },
     "execution_count": 128,
     "metadata": {},
     "output_type": "execute_result"
    }
   ],
   "source": [
    "races.groupby(\"guess\")[\"name\"].count()"
   ]
  },
  {
   "cell_type": "code",
   "execution_count": 129,
   "metadata": {},
   "outputs": [
    {
     "data": {
      "text/plain": [
       "Dist_VotI\n",
       "1.0     180\n",
       "2.0     180\n",
       "3.0     212\n",
       "4.0     306\n",
       "5.0     276\n",
       "6.0     206\n",
       "7.0     250\n",
       "8.0     227\n",
       "9.0     255\n",
       "10.0    243\n",
       "11.0    148\n",
       "12.0    240\n",
       "13.0    365\n",
       "14.0    154\n",
       "15.0    252\n",
       "16.0    161\n",
       "17.0    213\n",
       "18.0    181\n",
       "19.0    213\n",
       "20.0    277\n",
       "21.0    228\n",
       "22.0    228\n",
       "23.0    161\n",
       "24.0    145\n",
       "25.0    243\n",
       "26.0    195\n",
       "27.0    260\n",
       "28.0     74\n",
       "29.0    235\n",
       "31.0      1\n",
       "Name: Voter_ID, dtype: int64"
      ]
     },
     "execution_count": 129,
     "metadata": {},
     "output_type": "execute_result"
    }
   ],
   "source": [
    "results.groupby(\"Dist_VotI\")[\"Voter_ID\"].count()"
   ]
  },
  {
   "cell_type": "code",
   "execution_count": 130,
   "metadata": {
    "collapsed": true
   },
   "outputs": [],
   "source": [
    "results_race = pd.merge(results, races, on=\"last_name\", how=\"left\")"
   ]
  },
  {
   "cell_type": "code",
   "execution_count": 131,
   "metadata": {
    "collapsed": true
   },
   "outputs": [],
   "source": [
    "results_race.guess.fillna(\"Unidentified\", inplace=True)"
   ]
  },
  {
   "cell_type": "code",
   "execution_count": 132,
   "metadata": {},
   "outputs": [
    {
     "data": {
      "text/html": [
       "<div>\n",
       "<style>\n",
       "    .dataframe thead tr:only-child th {\n",
       "        text-align: right;\n",
       "    }\n",
       "\n",
       "    .dataframe thead th {\n",
       "        text-align: left;\n",
       "    }\n",
       "\n",
       "    .dataframe tbody tr th {\n",
       "        vertical-align: top;\n",
       "    }\n",
       "</style>\n",
       "<table border=\"1\" class=\"dataframe\">\n",
       "  <thead>\n",
       "    <tr style=\"text-align: right;\">\n",
       "      <th>guess</th>\n",
       "      <th>2prace</th>\n",
       "      <th>Unidentified</th>\n",
       "      <th>api</th>\n",
       "      <th>black</th>\n",
       "      <th>hispanic</th>\n",
       "      <th>white</th>\n",
       "    </tr>\n",
       "    <tr>\n",
       "      <th>Dist_VotI</th>\n",
       "      <th></th>\n",
       "      <th></th>\n",
       "      <th></th>\n",
       "      <th></th>\n",
       "      <th></th>\n",
       "      <th></th>\n",
       "    </tr>\n",
       "  </thead>\n",
       "  <tbody>\n",
       "    <tr>\n",
       "      <th>1.0</th>\n",
       "      <td>NaN</td>\n",
       "      <td>22.0</td>\n",
       "      <td>23.0</td>\n",
       "      <td>1.0</td>\n",
       "      <td>63.0</td>\n",
       "      <td>71.0</td>\n",
       "    </tr>\n",
       "    <tr>\n",
       "      <th>2.0</th>\n",
       "      <td>NaN</td>\n",
       "      <td>29.0</td>\n",
       "      <td>30.0</td>\n",
       "      <td>3.0</td>\n",
       "      <td>56.0</td>\n",
       "      <td>62.0</td>\n",
       "    </tr>\n",
       "    <tr>\n",
       "      <th>3.0</th>\n",
       "      <td>1.0</td>\n",
       "      <td>42.0</td>\n",
       "      <td>14.0</td>\n",
       "      <td>5.0</td>\n",
       "      <td>52.0</td>\n",
       "      <td>98.0</td>\n",
       "    </tr>\n",
       "    <tr>\n",
       "      <th>4.0</th>\n",
       "      <td>3.0</td>\n",
       "      <td>58.0</td>\n",
       "      <td>8.0</td>\n",
       "      <td>4.0</td>\n",
       "      <td>71.0</td>\n",
       "      <td>162.0</td>\n",
       "    </tr>\n",
       "    <tr>\n",
       "      <th>5.0</th>\n",
       "      <td>1.0</td>\n",
       "      <td>37.0</td>\n",
       "      <td>10.0</td>\n",
       "      <td>2.0</td>\n",
       "      <td>100.0</td>\n",
       "      <td>126.0</td>\n",
       "    </tr>\n",
       "  </tbody>\n",
       "</table>\n",
       "</div>"
      ],
      "text/plain": [
       "guess      2prace  Unidentified   api  black  hispanic  white\n",
       "Dist_VotI                                                    \n",
       "1.0           NaN          22.0  23.0    1.0      63.0   71.0\n",
       "2.0           NaN          29.0  30.0    3.0      56.0   62.0\n",
       "3.0           1.0          42.0  14.0    5.0      52.0   98.0\n",
       "4.0           3.0          58.0   8.0    4.0      71.0  162.0\n",
       "5.0           1.0          37.0  10.0    2.0     100.0  126.0"
      ]
     },
     "execution_count": 132,
     "metadata": {},
     "output_type": "execute_result"
    }
   ],
   "source": [
    "results_race.groupby([\"Dist_VotI\", \"guess\"])[\"Voter_ID\"].count().fillna(0).replace('NaN', 0).unstack().head()"
   ]
  },
  {
   "cell_type": "code",
   "execution_count": 133,
   "metadata": {},
   "outputs": [
    {
     "data": {
      "text/plain": [
       "<matplotlib.axes._subplots.AxesSubplot at 0x1a0d3a4290>"
      ]
     },
     "execution_count": 133,
     "metadata": {},
     "output_type": "execute_result"
    }
   ],
   "source": [
    "sns.heatmap(results_race.groupby([\"Dist_VotI\", \"guess\"])[\"Voter_ID\"].count().fillna(0).replace('NaN', 0).unstack())"
   ]
  },
  {
   "cell_type": "code",
   "execution_count": 134,
   "metadata": {},
   "outputs": [
    {
     "data": {
      "image/png": "[encoded data removed]",
      "text/plain": [
       "<matplotlib.figure.Figure at 0x1a0d3a4ad0>"
      ]
     },
     "metadata": {},
     "output_type": "display_data"
    }
   ],
   "source": [
    "plt.show()"
   ]
  },
  {
   "cell_type": "markdown",
   "metadata": {},
   "source": [
    "### Did Mo's Supporters Come Out and Vote?"
   ]
  },
  {
   "cell_type": "code",
   "execution_count": 225,
   "metadata": {
    "collapsed": true
   },
   "outputs": [],
   "source": [
    "mo_base = pd.read_csv(\"Election Day Mo Supporter List - Master 11052017.csv\", \n",
    "                     names = [\"first_name\", \"last_name\", \"full_name\", \"address\", \"Dist_VotI\", \"email\", \"phone\"])"
   ]
  },
  {
   "cell_type": "code",
   "execution_count": 226,
   "metadata": {
    "collapsed": true
   },
   "outputs": [],
   "source": [
    "mo_base[\"mo_supporter\"] = int(1)"
   ]
  },
  {
   "cell_type": "code",
   "execution_count": 227,
   "metadata": {
    "collapsed": true
   },
   "outputs": [],
   "source": [
    "results_race['first_name'] = results_race['first_name'].apply(lambda x: x.strip(\" \"))"
   ]
  },
  {
   "cell_type": "code",
   "execution_count": 228,
   "metadata": {
    "collapsed": true
   },
   "outputs": [],
   "source": [
    "results_race['last_name'] = results_race['last_name'].apply(lambda x: x.strip(\" \"))"
   ]
  },
  {
   "cell_type": "code",
   "execution_count": 229,
   "metadata": {
    "collapsed": true
   },
   "outputs": [],
   "source": [
    "mo_base['first_name'] = mo_base['first_name'].astype(str).apply(lambda x: x.strip(\" \"))\n",
    "mo_base['last_name'] = mo_base['last_name'].astype(str).apply(lambda x: x.strip(\" \"))\n",
    "\n",
    "mo_base['first_name'] = mo_base['first_name'].astype(str).apply(lambda x: x.split(',', 1)[0])"
   ]
  },
  {
   "cell_type": "code",
   "execution_count": 230,
   "metadata": {
    "collapsed": true
   },
   "outputs": [],
   "source": [
    "results_race_mo = pd.merge(results_race, mo_base[[\"first_name\", \"last_name\", \"mo_supporter\"]],\n",
    "                          on=[\"last_name\", \"first_name\"], how=\"left\")"
   ]
  },
  {
   "cell_type": "code",
   "execution_count": 231,
   "metadata": {},
   "outputs": [
    {
     "data": {
      "text/html": [
       "<div>\n",
       "<style>\n",
       "    .dataframe thead tr:only-child th {\n",
       "        text-align: right;\n",
       "    }\n",
       "\n",
       "    .dataframe thead th {\n",
       "        text-align: left;\n",
       "    }\n",
       "\n",
       "    .dataframe tbody tr th {\n",
       "        vertical-align: top;\n",
       "    }\n",
       "</style>\n",
       "<table border=\"1\" class=\"dataframe\">\n",
       "  <thead>\n",
       "    <tr style=\"text-align: right;\">\n",
       "      <th></th>\n",
       "      <th>Voter_ID</th>\n",
       "      <th>Voter_Name</th>\n",
       "      <th>Ballot_Type</th>\n",
       "      <th>Residence_Address</th>\n",
       "      <th>Zip_Code</th>\n",
       "      <th>Party</th>\n",
       "      <th>Wd_VotI</th>\n",
       "      <th>Dist_VotI</th>\n",
       "      <th>last_name</th>\n",
       "      <th>first_name</th>\n",
       "      <th>...</th>\n",
       "      <th>prop100k</th>\n",
       "      <th>cum_prop100k</th>\n",
       "      <th>pctwhite</th>\n",
       "      <th>pctblack</th>\n",
       "      <th>pctapi</th>\n",
       "      <th>pctaian</th>\n",
       "      <th>pct2prace</th>\n",
       "      <th>pcthispanic</th>\n",
       "      <th>guess</th>\n",
       "      <th>mo_supporter</th>\n",
       "    </tr>\n",
       "  </thead>\n",
       "  <tbody>\n",
       "    <tr>\n",
       "      <th>0</th>\n",
       "      <td>110011008</td>\n",
       "      <td>ACOSTA| WILGABRIEL</td>\n",
       "      <td>M</td>\n",
       "      <td>10 CAMBRIDGE AVE AptUnit 3</td>\n",
       "      <td>7307</td>\n",
       "      <td>UNA</td>\n",
       "      <td>4.0</td>\n",
       "      <td>1.0</td>\n",
       "      <td>ACOSTA</td>\n",
       "      <td>WILGABRIEL</td>\n",
       "      <td>...</td>\n",
       "      <td>28.35</td>\n",
       "      <td>29508.57</td>\n",
       "      <td>8.04</td>\n",
       "      <td>0.69</td>\n",
       "      <td>2.36</td>\n",
       "      <td>0.29</td>\n",
       "      <td>0.63</td>\n",
       "      <td>87.99</td>\n",
       "      <td>hispanic</td>\n",
       "      <td>NaN</td>\n",
       "    </tr>\n",
       "    <tr>\n",
       "      <th>1</th>\n",
       "      <td>110580340</td>\n",
       "      <td>ALONSO| EDUARDO</td>\n",
       "      <td>M</td>\n",
       "      <td>9 CAMBRIDGE AVE AptUnit 2</td>\n",
       "      <td>7307</td>\n",
       "      <td>CNV</td>\n",
       "      <td>4.0</td>\n",
       "      <td>1.0</td>\n",
       "      <td>ALONSO</td>\n",
       "      <td>EDUARDO</td>\n",
       "      <td>...</td>\n",
       "      <td>7.71</td>\n",
       "      <td>46058.33</td>\n",
       "      <td>9.28</td>\n",
       "      <td>0.2</td>\n",
       "      <td>0.92</td>\n",
       "      <td>0.17</td>\n",
       "      <td>0.4</td>\n",
       "      <td>89.02</td>\n",
       "      <td>hispanic</td>\n",
       "      <td>NaN</td>\n",
       "    </tr>\n",
       "    <tr>\n",
       "      <th>2</th>\n",
       "      <td>150695981</td>\n",
       "      <td>AMADOR| FAUSTINO</td>\n",
       "      <td>M</td>\n",
       "      <td>51 CAMBRIDGE AVE AptUnit 1</td>\n",
       "      <td>7307</td>\n",
       "      <td>DEM</td>\n",
       "      <td>4.0</td>\n",
       "      <td>1.0</td>\n",
       "      <td>AMADOR</td>\n",
       "      <td>FAUSTINO</td>\n",
       "      <td>...</td>\n",
       "      <td>5.93</td>\n",
       "      <td>49417.15</td>\n",
       "      <td>9.6</td>\n",
       "      <td>0.26</td>\n",
       "      <td>1.54</td>\n",
       "      <td>0.44</td>\n",
       "      <td>0.61</td>\n",
       "      <td>87.54</td>\n",
       "      <td>hispanic</td>\n",
       "      <td>NaN</td>\n",
       "    </tr>\n",
       "    <tr>\n",
       "      <th>3</th>\n",
       "      <td>150189009</td>\n",
       "      <td>ASTUDILLO| ROBERT| C</td>\n",
       "      <td>M</td>\n",
       "      <td>133 GRIFFITH ST</td>\n",
       "      <td>7307</td>\n",
       "      <td>DEM</td>\n",
       "      <td>4.0</td>\n",
       "      <td>1.0</td>\n",
       "      <td>ASTUDILLO</td>\n",
       "      <td>ROBERT</td>\n",
       "      <td>...</td>\n",
       "      <td>0.72</td>\n",
       "      <td>71834.70</td>\n",
       "      <td>4.77</td>\n",
       "      <td>1e-05</td>\n",
       "      <td>4.77</td>\n",
       "      <td>1e-05</td>\n",
       "      <td>0.36</td>\n",
       "      <td>89.89</td>\n",
       "      <td>hispanic</td>\n",
       "      <td>NaN</td>\n",
       "    </tr>\n",
       "    <tr>\n",
       "      <th>4</th>\n",
       "      <td>110114794</td>\n",
       "      <td>BAKER| CHRISTOPHER| M</td>\n",
       "      <td>M</td>\n",
       "      <td>12 CAMBRIDGE AVE</td>\n",
       "      <td>7307</td>\n",
       "      <td>DEM</td>\n",
       "      <td>4.0</td>\n",
       "      <td>1.0</td>\n",
       "      <td>BAKER</td>\n",
       "      <td>CHRISTOPHER</td>\n",
       "      <td>...</td>\n",
       "      <td>153.23</td>\n",
       "      <td>10784.51</td>\n",
       "      <td>82.08</td>\n",
       "      <td>13.63</td>\n",
       "      <td>0.45</td>\n",
       "      <td>0.83</td>\n",
       "      <td>1.54</td>\n",
       "      <td>1.47</td>\n",
       "      <td>white</td>\n",
       "      <td>NaN</td>\n",
       "    </tr>\n",
       "  </tbody>\n",
       "</table>\n",
       "<p>5 rows × 24 columns</p>\n",
       "</div>"
      ],
      "text/plain": [
       "    Voter_ID             Voter_Name Ballot_Type           Residence_Address  \\\n",
       "0  110011008     ACOSTA| WILGABRIEL          M   10 CAMBRIDGE AVE AptUnit 3   \n",
       "1  110580340        ALONSO| EDUARDO          M    9 CAMBRIDGE AVE AptUnit 2   \n",
       "2  150695981       AMADOR| FAUSTINO          M   51 CAMBRIDGE AVE AptUnit 1   \n",
       "3  150189009   ASTUDILLO| ROBERT| C          M              133 GRIFFITH ST   \n",
       "4  110114794  BAKER| CHRISTOPHER| M          M             12 CAMBRIDGE AVE   \n",
       "\n",
       "  Zip_Code Party  Wd_VotI  Dist_VotI  last_name   first_name     ...       \\\n",
       "0     7307   UNA      4.0        1.0     ACOSTA   WILGABRIEL     ...        \n",
       "1     7307   CNV      4.0        1.0     ALONSO      EDUARDO     ...        \n",
       "2     7307   DEM      4.0        1.0     AMADOR     FAUSTINO     ...        \n",
       "3     7307   DEM      4.0        1.0  ASTUDILLO       ROBERT     ...        \n",
       "4     7307   DEM      4.0        1.0      BAKER  CHRISTOPHER     ...        \n",
       "\n",
       "  prop100k cum_prop100k  pctwhite  pctblack  pctapi  pctaian pct2prace  \\\n",
       "0    28.35     29508.57      8.04      0.69    2.36     0.29      0.63   \n",
       "1     7.71     46058.33      9.28       0.2    0.92     0.17       0.4   \n",
       "2     5.93     49417.15       9.6      0.26    1.54     0.44      0.61   \n",
       "3     0.72     71834.70      4.77     1e-05    4.77    1e-05      0.36   \n",
       "4   153.23     10784.51     82.08     13.63    0.45     0.83      1.54   \n",
       "\n",
       "  pcthispanic     guess mo_supporter  \n",
       "0       87.99  hispanic          NaN  \n",
       "1       89.02  hispanic          NaN  \n",
       "2       87.54  hispanic          NaN  \n",
       "3       89.89  hispanic          NaN  \n",
       "4        1.47     white          NaN  \n",
       "\n",
       "[5 rows x 24 columns]"
      ]
     },
     "execution_count": 231,
     "metadata": {},
     "output_type": "execute_result"
    }
   ],
   "source": [
    "results_race_mo.head()"
   ]
  },
  {
   "cell_type": "code",
   "execution_count": 232,
   "metadata": {
    "collapsed": true
   },
   "outputs": [],
   "source": [
    "results_race_mo.fillna(0, inplace=True)"
   ]
  },
  {
   "cell_type": "code",
   "execution_count": 233,
   "metadata": {},
   "outputs": [
    {
     "data": {
      "text/plain": [
       "count    6369.000000\n",
       "mean        0.129377\n",
       "std         0.335643\n",
       "min         0.000000\n",
       "25%         0.000000\n",
       "50%         0.000000\n",
       "75%         0.000000\n",
       "max         1.000000\n",
       "Name: mo_supporter, dtype: float64"
      ]
     },
     "execution_count": 233,
     "metadata": {},
     "output_type": "execute_result"
    }
   ],
   "source": [
    "results_race_mo.mo_supporter.describe()"
   ]
  },
  {
   "cell_type": "code",
   "execution_count": 234,
   "metadata": {},
   "outputs": [
    {
     "data": {
      "text/html": [
       "<div>\n",
       "<style>\n",
       "    .dataframe thead tr:only-child th {\n",
       "        text-align: right;\n",
       "    }\n",
       "\n",
       "    .dataframe thead th {\n",
       "        text-align: left;\n",
       "    }\n",
       "\n",
       "    .dataframe tbody tr th {\n",
       "        vertical-align: top;\n",
       "    }\n",
       "</style>\n",
       "<table border=\"1\" class=\"dataframe\">\n",
       "  <thead>\n",
       "    <tr style=\"text-align: right;\">\n",
       "      <th></th>\n",
       "      <th>first_name</th>\n",
       "      <th>last_name</th>\n",
       "      <th>full_name</th>\n",
       "      <th>address</th>\n",
       "      <th>Dist_VotI</th>\n",
       "      <th>email</th>\n",
       "      <th>phone</th>\n",
       "      <th>mo_supporter</th>\n",
       "    </tr>\n",
       "  </thead>\n",
       "  <tbody>\n",
       "    <tr>\n",
       "      <th>0</th>\n",
       "      <td>DAISY</td>\n",
       "      <td>MUNOZ</td>\n",
       "      <td>DAISYMUNOZ</td>\n",
       "      <td>112 FRANKLIN STREET</td>\n",
       "      <td>1</td>\n",
       "      <td>NaN</td>\n",
       "      <td>2016531621</td>\n",
       "      <td>1</td>\n",
       "    </tr>\n",
       "  </tbody>\n",
       "</table>\n",
       "</div>"
      ],
      "text/plain": [
       "  first_name last_name   full_name              address Dist_VotI email  \\\n",
       "0      DAISY     MUNOZ  DAISYMUNOZ  112 FRANKLIN STREET         1   NaN   \n",
       "\n",
       "        phone  mo_supporter  \n",
       "0  2016531621             1  "
      ]
     },
     "execution_count": 234,
     "metadata": {},
     "output_type": "execute_result"
    }
   ],
   "source": [
    "mo_base[(mo_base.last_name==\"MUNOZ\") & (mo_base.first_name==\"DAISY\")]"
   ]
  },
  {
   "cell_type": "code",
   "execution_count": 235,
   "metadata": {},
   "outputs": [
    {
     "data": {
      "text/html": [
       "<div>\n",
       "<style>\n",
       "    .dataframe thead tr:only-child th {\n",
       "        text-align: right;\n",
       "    }\n",
       "\n",
       "    .dataframe thead th {\n",
       "        text-align: left;\n",
       "    }\n",
       "\n",
       "    .dataframe tbody tr th {\n",
       "        vertical-align: top;\n",
       "    }\n",
       "</style>\n",
       "<table border=\"1\" class=\"dataframe\">\n",
       "  <thead>\n",
       "    <tr style=\"text-align: right;\">\n",
       "      <th></th>\n",
       "      <th>Voter_ID</th>\n",
       "      <th>Voter_Name</th>\n",
       "      <th>Ballot_Type</th>\n",
       "      <th>Residence_Address</th>\n",
       "      <th>Zip_Code</th>\n",
       "      <th>Party</th>\n",
       "      <th>Wd_VotI</th>\n",
       "      <th>Dist_VotI</th>\n",
       "      <th>last_name</th>\n",
       "      <th>first_name</th>\n",
       "      <th>...</th>\n",
       "      <th>prop100k</th>\n",
       "      <th>cum_prop100k</th>\n",
       "      <th>pctwhite</th>\n",
       "      <th>pctblack</th>\n",
       "      <th>pctapi</th>\n",
       "      <th>pctaian</th>\n",
       "      <th>pct2prace</th>\n",
       "      <th>pcthispanic</th>\n",
       "      <th>guess</th>\n",
       "      <th>mo_supporter</th>\n",
       "    </tr>\n",
       "  </thead>\n",
       "  <tbody>\n",
       "    <tr>\n",
       "      <th>104</th>\n",
       "      <td>150527999</td>\n",
       "      <td>MUNOZ| DAISY| M</td>\n",
       "      <td>M</td>\n",
       "      <td>112 FRANKLIN ST AptUnit 1</td>\n",
       "      <td>7307</td>\n",
       "      <td>DEM</td>\n",
       "      <td>4.0</td>\n",
       "      <td>1.0</td>\n",
       "      <td>MUNOZ</td>\n",
       "      <td>DAISY</td>\n",
       "      <td>...</td>\n",
       "      <td>43.66</td>\n",
       "      <td>24526.31</td>\n",
       "      <td>5.52</td>\n",
       "      <td>0.3</td>\n",
       "      <td>0.88</td>\n",
       "      <td>0.29</td>\n",
       "      <td>0.41</td>\n",
       "      <td>92.61</td>\n",
       "      <td>hispanic</td>\n",
       "      <td>1.0</td>\n",
       "    </tr>\n",
       "  </tbody>\n",
       "</table>\n",
       "<p>1 rows × 24 columns</p>\n",
       "</div>"
      ],
      "text/plain": [
       "      Voter_ID       Voter_Name Ballot_Type          Residence_Address  \\\n",
       "104  150527999  MUNOZ| DAISY| M          M   112 FRANKLIN ST AptUnit 1   \n",
       "\n",
       "    Zip_Code Party  Wd_VotI  Dist_VotI last_name first_name     ...       \\\n",
       "104     7307   DEM      4.0        1.0     MUNOZ      DAISY     ...        \n",
       "\n",
       "    prop100k cum_prop100k  pctwhite  pctblack  pctapi  pctaian pct2prace  \\\n",
       "104    43.66     24526.31      5.52       0.3    0.88     0.29      0.41   \n",
       "\n",
       "    pcthispanic     guess mo_supporter  \n",
       "104       92.61  hispanic          1.0  \n",
       "\n",
       "[1 rows x 24 columns]"
      ]
     },
     "execution_count": 235,
     "metadata": {},
     "output_type": "execute_result"
    }
   ],
   "source": [
    "results_race_mo[(results_race_mo.last_name==\"MUNOZ\") & (results_race_mo.first_name==\"DAISY\")]"
   ]
  },
  {
   "cell_type": "code",
   "execution_count": 236,
   "metadata": {},
   "outputs": [
    {
     "data": {
      "text/html": [
       "<div>\n",
       "<style>\n",
       "    .dataframe thead tr:only-child th {\n",
       "        text-align: right;\n",
       "    }\n",
       "\n",
       "    .dataframe thead th {\n",
       "        text-align: left;\n",
       "    }\n",
       "\n",
       "    .dataframe tbody tr th {\n",
       "        vertical-align: top;\n",
       "    }\n",
       "</style>\n",
       "<table border=\"1\" class=\"dataframe\">\n",
       "  <thead>\n",
       "    <tr style=\"text-align: right;\">\n",
       "      <th></th>\n",
       "      <th>first_name</th>\n",
       "      <th>last_name</th>\n",
       "      <th>full_name</th>\n",
       "      <th>address</th>\n",
       "      <th>Dist_VotI</th>\n",
       "      <th>email</th>\n",
       "      <th>phone</th>\n",
       "      <th>mo_supporter</th>\n",
       "    </tr>\n",
       "  </thead>\n",
       "  <tbody>\n",
       "    <tr>\n",
       "      <th>1096</th>\n",
       "      <td>ELIZABETH</td>\n",
       "      <td>MIGLIORE</td>\n",
       "      <td>ELIZABETH, AMIGLIORE</td>\n",
       "      <td>100 MANHATTAN AVE 1R</td>\n",
       "      <td>20</td>\n",
       "      <td>NaN</td>\n",
       "      <td>NaN</td>\n",
       "      <td>1</td>\n",
       "    </tr>\n",
       "  </tbody>\n",
       "</table>\n",
       "</div>"
      ],
      "text/plain": [
       "     first_name last_name             full_name               address  \\\n",
       "1096  ELIZABETH  MIGLIORE  ELIZABETH, AMIGLIORE  100 MANHATTAN AVE 1R   \n",
       "\n",
       "     Dist_VotI email phone  mo_supporter  \n",
       "1096        20   NaN   NaN             1  "
      ]
     },
     "execution_count": 236,
     "metadata": {},
     "output_type": "execute_result"
    }
   ],
   "source": [
    "mo_base[(mo_base.last_name==\"MIGLIORE\")]"
   ]
  },
  {
   "cell_type": "code",
   "execution_count": 238,
   "metadata": {},
   "outputs": [
    {
     "data": {
      "text/html": [
       "<div>\n",
       "<style>\n",
       "    .dataframe thead tr:only-child th {\n",
       "        text-align: right;\n",
       "    }\n",
       "\n",
       "    .dataframe thead th {\n",
       "        text-align: left;\n",
       "    }\n",
       "\n",
       "    .dataframe tbody tr th {\n",
       "        vertical-align: top;\n",
       "    }\n",
       "</style>\n",
       "<table border=\"1\" class=\"dataframe\">\n",
       "  <thead>\n",
       "    <tr style=\"text-align: right;\">\n",
       "      <th></th>\n",
       "      <th>Voter_ID</th>\n",
       "      <th>Voter_Name</th>\n",
       "      <th>Ballot_Type</th>\n",
       "      <th>Residence_Address</th>\n",
       "      <th>Zip_Code</th>\n",
       "      <th>Party</th>\n",
       "      <th>Wd_VotI</th>\n",
       "      <th>Dist_VotI</th>\n",
       "      <th>last_name</th>\n",
       "      <th>first_name</th>\n",
       "      <th>...</th>\n",
       "      <th>prop100k</th>\n",
       "      <th>cum_prop100k</th>\n",
       "      <th>pctwhite</th>\n",
       "      <th>pctblack</th>\n",
       "      <th>pctapi</th>\n",
       "      <th>pctaian</th>\n",
       "      <th>pct2prace</th>\n",
       "      <th>pcthispanic</th>\n",
       "      <th>guess</th>\n",
       "      <th>mo_supporter</th>\n",
       "    </tr>\n",
       "  </thead>\n",
       "  <tbody>\n",
       "    <tr>\n",
       "      <th>4358</th>\n",
       "      <td>104597805</td>\n",
       "      <td>DOOHAN| BRENDAN| C</td>\n",
       "      <td>M</td>\n",
       "      <td>100 MANHATTAN AVE AptUnit 1R</td>\n",
       "      <td>73073027</td>\n",
       "      <td>DEM</td>\n",
       "      <td>4.0</td>\n",
       "      <td>20.0</td>\n",
       "      <td>DOOHAN</td>\n",
       "      <td>BRENDAN</td>\n",
       "      <td>...</td>\n",
       "      <td>0.08</td>\n",
       "      <td>86210.69</td>\n",
       "      <td>98.55</td>\n",
       "      <td>0</td>\n",
       "      <td>1e-05</td>\n",
       "      <td>0</td>\n",
       "      <td>1e-05</td>\n",
       "      <td>1e-05</td>\n",
       "      <td>white</td>\n",
       "      <td>1.0</td>\n",
       "    </tr>\n",
       "  </tbody>\n",
       "</table>\n",
       "<p>1 rows × 24 columns</p>\n",
       "</div>"
      ],
      "text/plain": [
       "       Voter_ID          Voter_Name Ballot_Type             Residence_Address  \\\n",
       "4358  104597805  DOOHAN| BRENDAN| C          M   100 MANHATTAN AVE AptUnit 1R   \n",
       "\n",
       "      Zip_Code Party  Wd_VotI  Dist_VotI last_name first_name     ...       \\\n",
       "4358  73073027   DEM      4.0       20.0    DOOHAN    BRENDAN     ...        \n",
       "\n",
       "     prop100k cum_prop100k  pctwhite  pctblack  pctapi  pctaian pct2prace  \\\n",
       "4358     0.08     86210.69     98.55         0   1e-05        0     1e-05   \n",
       "\n",
       "     pcthispanic  guess mo_supporter  \n",
       "4358       1e-05  white          1.0  \n",
       "\n",
       "[1 rows x 24 columns]"
      ]
     },
     "execution_count": 238,
     "metadata": {},
     "output_type": "execute_result"
    }
   ],
   "source": [
    "results_race_mo[(results_race_mo.last_name==\"DOOHAN\") & (results_race_mo.first_name==\"BRENDAN\")]"
   ]
  },
  {
   "cell_type": "code",
   "execution_count": 244,
   "metadata": {},
   "outputs": [
    {
     "data": {
      "text/html": [
       "<div>\n",
       "<style>\n",
       "    .dataframe thead tr:only-child th {\n",
       "        text-align: right;\n",
       "    }\n",
       "\n",
       "    .dataframe thead th {\n",
       "        text-align: left;\n",
       "    }\n",
       "\n",
       "    .dataframe tbody tr th {\n",
       "        vertical-align: top;\n",
       "    }\n",
       "</style>\n",
       "<table border=\"1\" class=\"dataframe\">\n",
       "  <thead>\n",
       "    <tr style=\"text-align: right;\">\n",
       "      <th></th>\n",
       "      <th>Voter_ID</th>\n",
       "      <th>Voter_Name</th>\n",
       "      <th>Ballot_Type</th>\n",
       "      <th>Residence_Address</th>\n",
       "      <th>Zip_Code</th>\n",
       "      <th>Party</th>\n",
       "      <th>Wd_VotI</th>\n",
       "      <th>Dist_VotI</th>\n",
       "      <th>last_name</th>\n",
       "      <th>first_name</th>\n",
       "      <th>...</th>\n",
       "      <th>prop100k</th>\n",
       "      <th>cum_prop100k</th>\n",
       "      <th>pctwhite</th>\n",
       "      <th>pctblack</th>\n",
       "      <th>pctapi</th>\n",
       "      <th>pctaian</th>\n",
       "      <th>pct2prace</th>\n",
       "      <th>pcthispanic</th>\n",
       "      <th>guess</th>\n",
       "      <th>mo_supporter</th>\n",
       "    </tr>\n",
       "  </thead>\n",
       "  <tbody>\n",
       "    <tr>\n",
       "      <th>0</th>\n",
       "      <td>110011008</td>\n",
       "      <td>ACOSTA| WILGABRIEL</td>\n",
       "      <td>M</td>\n",
       "      <td>10 CAMBRIDGE AVE AptUnit 3</td>\n",
       "      <td>7307</td>\n",
       "      <td>UNA</td>\n",
       "      <td>4.0</td>\n",
       "      <td>1.0</td>\n",
       "      <td>ACOSTA</td>\n",
       "      <td>WILGABRIEL</td>\n",
       "      <td>...</td>\n",
       "      <td>28.35</td>\n",
       "      <td>29508.57</td>\n",
       "      <td>8.04</td>\n",
       "      <td>0.69</td>\n",
       "      <td>2.36</td>\n",
       "      <td>0.29</td>\n",
       "      <td>0.63</td>\n",
       "      <td>87.99</td>\n",
       "      <td>hispanic</td>\n",
       "      <td>0.0</td>\n",
       "    </tr>\n",
       "    <tr>\n",
       "      <th>1</th>\n",
       "      <td>110580340</td>\n",
       "      <td>ALONSO| EDUARDO</td>\n",
       "      <td>M</td>\n",
       "      <td>9 CAMBRIDGE AVE AptUnit 2</td>\n",
       "      <td>7307</td>\n",
       "      <td>CNV</td>\n",
       "      <td>4.0</td>\n",
       "      <td>1.0</td>\n",
       "      <td>ALONSO</td>\n",
       "      <td>EDUARDO</td>\n",
       "      <td>...</td>\n",
       "      <td>7.71</td>\n",
       "      <td>46058.33</td>\n",
       "      <td>9.28</td>\n",
       "      <td>0.2</td>\n",
       "      <td>0.92</td>\n",
       "      <td>0.17</td>\n",
       "      <td>0.4</td>\n",
       "      <td>89.02</td>\n",
       "      <td>hispanic</td>\n",
       "      <td>0.0</td>\n",
       "    </tr>\n",
       "    <tr>\n",
       "      <th>2</th>\n",
       "      <td>150695981</td>\n",
       "      <td>AMADOR| FAUSTINO</td>\n",
       "      <td>M</td>\n",
       "      <td>51 CAMBRIDGE AVE AptUnit 1</td>\n",
       "      <td>7307</td>\n",
       "      <td>DEM</td>\n",
       "      <td>4.0</td>\n",
       "      <td>1.0</td>\n",
       "      <td>AMADOR</td>\n",
       "      <td>FAUSTINO</td>\n",
       "      <td>...</td>\n",
       "      <td>5.93</td>\n",
       "      <td>49417.15</td>\n",
       "      <td>9.6</td>\n",
       "      <td>0.26</td>\n",
       "      <td>1.54</td>\n",
       "      <td>0.44</td>\n",
       "      <td>0.61</td>\n",
       "      <td>87.54</td>\n",
       "      <td>hispanic</td>\n",
       "      <td>0.0</td>\n",
       "    </tr>\n",
       "    <tr>\n",
       "      <th>3</th>\n",
       "      <td>150189009</td>\n",
       "      <td>ASTUDILLO| ROBERT| C</td>\n",
       "      <td>M</td>\n",
       "      <td>133 GRIFFITH ST</td>\n",
       "      <td>7307</td>\n",
       "      <td>DEM</td>\n",
       "      <td>4.0</td>\n",
       "      <td>1.0</td>\n",
       "      <td>ASTUDILLO</td>\n",
       "      <td>ROBERT</td>\n",
       "      <td>...</td>\n",
       "      <td>0.72</td>\n",
       "      <td>71834.70</td>\n",
       "      <td>4.77</td>\n",
       "      <td>1e-05</td>\n",
       "      <td>4.77</td>\n",
       "      <td>1e-05</td>\n",
       "      <td>0.36</td>\n",
       "      <td>89.89</td>\n",
       "      <td>hispanic</td>\n",
       "      <td>0.0</td>\n",
       "    </tr>\n",
       "    <tr>\n",
       "      <th>4</th>\n",
       "      <td>110114794</td>\n",
       "      <td>BAKER| CHRISTOPHER| M</td>\n",
       "      <td>M</td>\n",
       "      <td>12 CAMBRIDGE AVE</td>\n",
       "      <td>7307</td>\n",
       "      <td>DEM</td>\n",
       "      <td>4.0</td>\n",
       "      <td>1.0</td>\n",
       "      <td>BAKER</td>\n",
       "      <td>CHRISTOPHER</td>\n",
       "      <td>...</td>\n",
       "      <td>153.23</td>\n",
       "      <td>10784.51</td>\n",
       "      <td>82.08</td>\n",
       "      <td>13.63</td>\n",
       "      <td>0.45</td>\n",
       "      <td>0.83</td>\n",
       "      <td>1.54</td>\n",
       "      <td>1.47</td>\n",
       "      <td>white</td>\n",
       "      <td>0.0</td>\n",
       "    </tr>\n",
       "  </tbody>\n",
       "</table>\n",
       "<p>5 rows × 24 columns</p>\n",
       "</div>"
      ],
      "text/plain": [
       "    Voter_ID             Voter_Name Ballot_Type           Residence_Address  \\\n",
       "0  110011008     ACOSTA| WILGABRIEL          M   10 CAMBRIDGE AVE AptUnit 3   \n",
       "1  110580340        ALONSO| EDUARDO          M    9 CAMBRIDGE AVE AptUnit 2   \n",
       "2  150695981       AMADOR| FAUSTINO          M   51 CAMBRIDGE AVE AptUnit 1   \n",
       "3  150189009   ASTUDILLO| ROBERT| C          M              133 GRIFFITH ST   \n",
       "4  110114794  BAKER| CHRISTOPHER| M          M             12 CAMBRIDGE AVE   \n",
       "\n",
       "  Zip_Code Party  Wd_VotI  Dist_VotI  last_name   first_name     ...       \\\n",
       "0     7307   UNA      4.0        1.0     ACOSTA   WILGABRIEL     ...        \n",
       "1     7307   CNV      4.0        1.0     ALONSO      EDUARDO     ...        \n",
       "2     7307   DEM      4.0        1.0     AMADOR     FAUSTINO     ...        \n",
       "3     7307   DEM      4.0        1.0  ASTUDILLO       ROBERT     ...        \n",
       "4     7307   DEM      4.0        1.0      BAKER  CHRISTOPHER     ...        \n",
       "\n",
       "  prop100k cum_prop100k  pctwhite  pctblack  pctapi  pctaian pct2prace  \\\n",
       "0    28.35     29508.57      8.04      0.69    2.36     0.29      0.63   \n",
       "1     7.71     46058.33      9.28       0.2    0.92     0.17       0.4   \n",
       "2     5.93     49417.15       9.6      0.26    1.54     0.44      0.61   \n",
       "3     0.72     71834.70      4.77     1e-05    4.77    1e-05      0.36   \n",
       "4   153.23     10784.51     82.08     13.63    0.45     0.83      1.54   \n",
       "\n",
       "  pcthispanic     guess mo_supporter  \n",
       "0       87.99  hispanic          0.0  \n",
       "1       89.02  hispanic          0.0  \n",
       "2       87.54  hispanic          0.0  \n",
       "3       89.89  hispanic          0.0  \n",
       "4        1.47     white          0.0  \n",
       "\n",
       "[5 rows x 24 columns]"
      ]
     },
     "execution_count": 244,
     "metadata": {},
     "output_type": "execute_result"
    }
   ],
   "source": [
    "results_race_mo.head()"
   ]
  },
  {
   "cell_type": "code",
   "execution_count": 239,
   "metadata": {
    "collapsed": true
   },
   "outputs": [],
   "source": [
    "results_race_mo.to_csv(\"results_race_mo.csv\")"
   ]
  },
  {
   "cell_type": "markdown",
   "metadata": {},
   "source": [
    "### QGIS"
   ]
  },
  {
   "cell_type": "code",
   "execution_count": 250,
   "metadata": {},
   "outputs": [],
   "source": [
    "x = results_race_mo.groupby([\"Dist_VotI\", \"guess\"])[\"Voter_ID\"].count().unstack()\n",
    "races_dist = pd.DataFrame(x)\n",
    "races_dist[\"District\"] = races_dist.index"
   ]
  },
  {
   "cell_type": "markdown",
   "metadata": {},
   "source": [
    "x = results_race_mo.groupby(\"Dist_VotI\")[\"mo_supporter\"].sum()\n",
    "mo_votes = pd.DataFrame(x)\n",
    "mo_votes[\"District\"] = mo_votes.index"
   ]
  },
  {
   "cell_type": "code",
   "execution_count": 252,
   "metadata": {},
   "outputs": [],
   "source": [
    "x = results_race_mo.groupby(\"Dist_VotI\")[\"Voter_ID\"].count()\n",
    "votes = pd.DataFrame(x)\n",
    "votes[\"District\"] = votes.index"
   ]
  },
  {
   "cell_type": "code",
   "execution_count": 253,
   "metadata": {
    "collapsed": true
   },
   "outputs": [],
   "source": [
    "qgis = pd.merge(races_dist, mo_votes, on=\"District\", how=\"inner\")"
   ]
  },
  {
   "cell_type": "code",
   "execution_count": 255,
   "metadata": {},
   "outputs": [],
   "source": [
    "qgis_final = pd.merge(qgis, votes, on=\"District\", how=\"inner\")"
   ]
  },
  {
   "cell_type": "code",
   "execution_count": 256,
   "metadata": {},
   "outputs": [
    {
     "data": {
      "text/html": [
       "<div>\n",
       "<style>\n",
       "    .dataframe thead tr:only-child th {\n",
       "        text-align: right;\n",
       "    }\n",
       "\n",
       "    .dataframe thead th {\n",
       "        text-align: left;\n",
       "    }\n",
       "\n",
       "    .dataframe tbody tr th {\n",
       "        vertical-align: top;\n",
       "    }\n",
       "</style>\n",
       "<table border=\"1\" class=\"dataframe\">\n",
       "  <thead>\n",
       "    <tr style=\"text-align: right;\">\n",
       "      <th></th>\n",
       "      <th>2prace</th>\n",
       "      <th>Unidentified</th>\n",
       "      <th>api</th>\n",
       "      <th>black</th>\n",
       "      <th>hispanic</th>\n",
       "      <th>white</th>\n",
       "      <th>District</th>\n",
       "      <th>mo_supporter</th>\n",
       "      <th>Voter_ID</th>\n",
       "    </tr>\n",
       "  </thead>\n",
       "  <tbody>\n",
       "    <tr>\n",
       "      <th>0</th>\n",
       "      <td>NaN</td>\n",
       "      <td>12.0</td>\n",
       "      <td>NaN</td>\n",
       "      <td>NaN</td>\n",
       "      <td>NaN</td>\n",
       "      <td>NaN</td>\n",
       "      <td>0.0</td>\n",
       "      <td>0.0</td>\n",
       "      <td>12</td>\n",
       "    </tr>\n",
       "    <tr>\n",
       "      <th>1</th>\n",
       "      <td>NaN</td>\n",
       "      <td>23.0</td>\n",
       "      <td>23.0</td>\n",
       "      <td>1.0</td>\n",
       "      <td>63.0</td>\n",
       "      <td>72.0</td>\n",
       "      <td>1.0</td>\n",
       "      <td>21.0</td>\n",
       "      <td>182</td>\n",
       "    </tr>\n",
       "    <tr>\n",
       "      <th>2</th>\n",
       "      <td>NaN</td>\n",
       "      <td>29.0</td>\n",
       "      <td>30.0</td>\n",
       "      <td>3.0</td>\n",
       "      <td>56.0</td>\n",
       "      <td>62.0</td>\n",
       "      <td>2.0</td>\n",
       "      <td>32.0</td>\n",
       "      <td>180</td>\n",
       "    </tr>\n",
       "    <tr>\n",
       "      <th>3</th>\n",
       "      <td>1.0</td>\n",
       "      <td>42.0</td>\n",
       "      <td>14.0</td>\n",
       "      <td>5.0</td>\n",
       "      <td>53.0</td>\n",
       "      <td>98.0</td>\n",
       "      <td>3.0</td>\n",
       "      <td>32.0</td>\n",
       "      <td>213</td>\n",
       "    </tr>\n",
       "    <tr>\n",
       "      <th>4</th>\n",
       "      <td>3.0</td>\n",
       "      <td>58.0</td>\n",
       "      <td>8.0</td>\n",
       "      <td>4.0</td>\n",
       "      <td>71.0</td>\n",
       "      <td>164.0</td>\n",
       "      <td>4.0</td>\n",
       "      <td>56.0</td>\n",
       "      <td>308</td>\n",
       "    </tr>\n",
       "  </tbody>\n",
       "</table>\n",
       "</div>"
      ],
      "text/plain": [
       "   2prace  Unidentified   api  black  hispanic  white  District  mo_supporter  \\\n",
       "0     NaN          12.0   NaN    NaN       NaN    NaN       0.0           0.0   \n",
       "1     NaN          23.0  23.0    1.0      63.0   72.0       1.0          21.0   \n",
       "2     NaN          29.0  30.0    3.0      56.0   62.0       2.0          32.0   \n",
       "3     1.0          42.0  14.0    5.0      53.0   98.0       3.0          32.0   \n",
       "4     3.0          58.0   8.0    4.0      71.0  164.0       4.0          56.0   \n",
       "\n",
       "   Voter_ID  \n",
       "0        12  \n",
       "1       182  \n",
       "2       180  \n",
       "3       213  \n",
       "4       308  "
      ]
     },
     "execution_count": 256,
     "metadata": {},
     "output_type": "execute_result"
    }
   ],
   "source": [
    "qgis_final.head()"
   ]
  },
  {
   "cell_type": "code",
   "execution_count": 258,
   "metadata": {},
   "outputs": [],
   "source": [
    "actuals = pd.read_csv(\"Actuals_Election.csv\")"
   ]
  },
  {
   "cell_type": "code",
   "execution_count": 260,
   "metadata": {},
   "outputs": [],
   "source": [
    "qgis_final2 = pd.merge(qgis_final, actuals, on=\"District\", how=\"inner\")"
   ]
  },
  {
   "cell_type": "code",
   "execution_count": 261,
   "metadata": {},
   "outputs": [
    {
     "data": {
      "text/html": [
       "<div>\n",
       "<style>\n",
       "    .dataframe thead tr:only-child th {\n",
       "        text-align: right;\n",
       "    }\n",
       "\n",
       "    .dataframe thead th {\n",
       "        text-align: left;\n",
       "    }\n",
       "\n",
       "    .dataframe tbody tr th {\n",
       "        vertical-align: top;\n",
       "    }\n",
       "</style>\n",
       "<table border=\"1\" class=\"dataframe\">\n",
       "  <thead>\n",
       "    <tr style=\"text-align: right;\">\n",
       "      <th></th>\n",
       "      <th>2prace</th>\n",
       "      <th>Unidentified</th>\n",
       "      <th>api</th>\n",
       "      <th>black</th>\n",
       "      <th>hispanic</th>\n",
       "      <th>white</th>\n",
       "      <th>District</th>\n",
       "      <th>mo_supporter</th>\n",
       "      <th>Voter_ID</th>\n",
       "      <th>Carmen Vega (1C)</th>\n",
       "      <th>Michael Yun (3C)</th>\n",
       "      <th>Moriah Kinberg (5C)</th>\n",
       "      <th>Rafael Torres (7C)</th>\n",
       "      <th>mo_percentage</th>\n",
       "    </tr>\n",
       "  </thead>\n",
       "  <tbody>\n",
       "    <tr>\n",
       "      <th>0</th>\n",
       "      <td>NaN</td>\n",
       "      <td>23.0</td>\n",
       "      <td>23.0</td>\n",
       "      <td>1.0</td>\n",
       "      <td>63.0</td>\n",
       "      <td>72.0</td>\n",
       "      <td>1</td>\n",
       "      <td>21.0</td>\n",
       "      <td>182</td>\n",
       "      <td>16</td>\n",
       "      <td>80</td>\n",
       "      <td>25</td>\n",
       "      <td>3</td>\n",
       "      <td>20.16%</td>\n",
       "    </tr>\n",
       "    <tr>\n",
       "      <th>1</th>\n",
       "      <td>NaN</td>\n",
       "      <td>29.0</td>\n",
       "      <td>30.0</td>\n",
       "      <td>3.0</td>\n",
       "      <td>56.0</td>\n",
       "      <td>62.0</td>\n",
       "      <td>2</td>\n",
       "      <td>32.0</td>\n",
       "      <td>180</td>\n",
       "      <td>7</td>\n",
       "      <td>61</td>\n",
       "      <td>22</td>\n",
       "      <td>3</td>\n",
       "      <td>23.66%</td>\n",
       "    </tr>\n",
       "    <tr>\n",
       "      <th>2</th>\n",
       "      <td>1.0</td>\n",
       "      <td>42.0</td>\n",
       "      <td>14.0</td>\n",
       "      <td>5.0</td>\n",
       "      <td>53.0</td>\n",
       "      <td>98.0</td>\n",
       "      <td>3</td>\n",
       "      <td>32.0</td>\n",
       "      <td>213</td>\n",
       "      <td>14</td>\n",
       "      <td>77</td>\n",
       "      <td>68</td>\n",
       "      <td>2</td>\n",
       "      <td>42.24%</td>\n",
       "    </tr>\n",
       "    <tr>\n",
       "      <th>3</th>\n",
       "      <td>3.0</td>\n",
       "      <td>58.0</td>\n",
       "      <td>8.0</td>\n",
       "      <td>4.0</td>\n",
       "      <td>71.0</td>\n",
       "      <td>164.0</td>\n",
       "      <td>4</td>\n",
       "      <td>56.0</td>\n",
       "      <td>308</td>\n",
       "      <td>12</td>\n",
       "      <td>94</td>\n",
       "      <td>117</td>\n",
       "      <td>3</td>\n",
       "      <td>51.77%</td>\n",
       "    </tr>\n",
       "    <tr>\n",
       "      <th>4</th>\n",
       "      <td>1.0</td>\n",
       "      <td>37.0</td>\n",
       "      <td>10.0</td>\n",
       "      <td>2.0</td>\n",
       "      <td>101.0</td>\n",
       "      <td>127.0</td>\n",
       "      <td>5</td>\n",
       "      <td>40.0</td>\n",
       "      <td>278</td>\n",
       "      <td>12</td>\n",
       "      <td>118</td>\n",
       "      <td>73</td>\n",
       "      <td>5</td>\n",
       "      <td>35.10%</td>\n",
       "    </tr>\n",
       "  </tbody>\n",
       "</table>\n",
       "</div>"
      ],
      "text/plain": [
       "   2prace  Unidentified   api  black  hispanic  white District  mo_supporter  \\\n",
       "0     NaN          23.0  23.0    1.0      63.0   72.0        1          21.0   \n",
       "1     NaN          29.0  30.0    3.0      56.0   62.0        2          32.0   \n",
       "2     1.0          42.0  14.0    5.0      53.0   98.0        3          32.0   \n",
       "3     3.0          58.0   8.0    4.0      71.0  164.0        4          56.0   \n",
       "4     1.0          37.0  10.0    2.0     101.0  127.0        5          40.0   \n",
       "\n",
       "   Voter_ID  Carmen Vega (1C)   Michael Yun (3C)   Moriah Kinberg (5C)   \\\n",
       "0       182                 16                 80                    25   \n",
       "1       180                  7                 61                    22   \n",
       "2       213                 14                 77                    68   \n",
       "3       308                 12                 94                   117   \n",
       "4       278                 12                118                    73   \n",
       "\n",
       "   Rafael Torres (7C) mo_percentage  \n",
       "0                   3        20.16%  \n",
       "1                   3        23.66%  \n",
       "2                   2        42.24%  \n",
       "3                   3        51.77%  \n",
       "4                   5        35.10%  "
      ]
     },
     "execution_count": 261,
     "metadata": {},
     "output_type": "execute_result"
    }
   ],
   "source": [
    "qgis_final2.head()"
   ]
  },
  {
   "cell_type": "code",
   "execution_count": 262,
   "metadata": {
    "collapsed": true
   },
   "outputs": [],
   "source": [
    "qgis_final2.to_csv(\"QGIS_input.csv\", index=False)"
   ]
  },
  {
   "cell_type": "markdown",
   "metadata": {},
   "source": [
    "### QGIS done"
   ]
  },
  {
   "cell_type": "code",
   "execution_count": 146,
   "metadata": {
    "collapsed": true
   },
   "outputs": [],
   "source": [
    "#results_race_mo = pd.read_csv(\"results_race_mo.csv\")"
   ]
  },
  {
   "cell_type": "code",
   "execution_count": 147,
   "metadata": {
    "collapsed": true
   },
   "outputs": [],
   "source": [
    "mo_groupby = mo_base.groupby(\"Dist_VotI\", as_index=False).mo_supporter.count() "
   ]
  },
  {
   "cell_type": "code",
   "execution_count": 148,
   "metadata": {
    "collapsed": true
   },
   "outputs": [],
   "source": [
    "results_race_mo[\"Dist_VotI\"] = results_race_mo.Dist_VotI_x.astype(str).copy()"
   ]
  },
  {
   "cell_type": "code",
   "execution_count": 149,
   "metadata": {
    "collapsed": true
   },
   "outputs": [],
   "source": [
    "mo_groupby[\"Dist_VotI\"] = mo_groupby.Dist_VotI.astype(str).copy()"
   ]
  },
  {
   "cell_type": "code",
   "execution_count": 150,
   "metadata": {
    "collapsed": true
   },
   "outputs": [],
   "source": [
    "results_race_mo[\"Dist_VotI\"] = results_race_mo.Dist_VotI_x.copy()"
   ]
  },
  {
   "cell_type": "code",
   "execution_count": 151,
   "metadata": {
    "collapsed": true
   },
   "outputs": [],
   "source": [
    "results_groupby = pd.DataFrame(\n",
    "        results_race_mo.groupby([\"Dist_VotI\", \"mo_supporter\"])[\"Voter_ID\"].count().fillna(0).replace('NaN', 0)\n",
    "    )"
   ]
  },
  {
   "cell_type": "code",
   "execution_count": 152,
   "metadata": {
    "collapsed": true
   },
   "outputs": [],
   "source": [
    "results_groupby = results_groupby.unstack()\n",
    "results_groupby[\"Dist_VotI\"] = results_groupby.index\n",
    "results_groupby[\"Dist_VotI\"] = results_groupby[\"Dist_VotI\"].round(0)"
   ]
  },
  {
   "cell_type": "code",
   "execution_count": 153,
   "metadata": {},
   "outputs": [
    {
     "data": {
      "text/html": [
       "<div>\n",
       "<style>\n",
       "    .dataframe thead tr:only-child th {\n",
       "        text-align: right;\n",
       "    }\n",
       "\n",
       "    .dataframe thead th {\n",
       "        text-align: left;\n",
       "    }\n",
       "\n",
       "    .dataframe tbody tr th {\n",
       "        vertical-align: top;\n",
       "    }\n",
       "</style>\n",
       "<table border=\"1\" class=\"dataframe\">\n",
       "  <thead>\n",
       "    <tr>\n",
       "      <th></th>\n",
       "      <th colspan=\"2\" halign=\"left\">Voter_ID</th>\n",
       "      <th>Dist_VotI</th>\n",
       "    </tr>\n",
       "    <tr>\n",
       "      <th>mo_supporter</th>\n",
       "      <th>0.0</th>\n",
       "      <th>1.0</th>\n",
       "      <th></th>\n",
       "    </tr>\n",
       "    <tr>\n",
       "      <th>Dist_VotI</th>\n",
       "      <th></th>\n",
       "      <th></th>\n",
       "      <th></th>\n",
       "    </tr>\n",
       "  </thead>\n",
       "  <tbody>\n",
       "    <tr>\n",
       "      <th>0.0</th>\n",
       "      <td>12.0</td>\n",
       "      <td>NaN</td>\n",
       "      <td>0.0</td>\n",
       "    </tr>\n",
       "    <tr>\n",
       "      <th>1.0</th>\n",
       "      <td>164.0</td>\n",
       "      <td>16.0</td>\n",
       "      <td>1.0</td>\n",
       "    </tr>\n",
       "    <tr>\n",
       "      <th>2.0</th>\n",
       "      <td>158.0</td>\n",
       "      <td>22.0</td>\n",
       "      <td>2.0</td>\n",
       "    </tr>\n",
       "    <tr>\n",
       "      <th>3.0</th>\n",
       "      <td>189.0</td>\n",
       "      <td>24.0</td>\n",
       "      <td>3.0</td>\n",
       "    </tr>\n",
       "    <tr>\n",
       "      <th>4.0</th>\n",
       "      <td>255.0</td>\n",
       "      <td>53.0</td>\n",
       "      <td>4.0</td>\n",
       "    </tr>\n",
       "  </tbody>\n",
       "</table>\n",
       "</div>"
      ],
      "text/plain": [
       "             Voter_ID       Dist_VotI\n",
       "mo_supporter      0.0   1.0          \n",
       "Dist_VotI                            \n",
       "0.0              12.0   NaN       0.0\n",
       "1.0             164.0  16.0       1.0\n",
       "2.0             158.0  22.0       2.0\n",
       "3.0             189.0  24.0       3.0\n",
       "4.0             255.0  53.0       4.0"
      ]
     },
     "execution_count": 153,
     "metadata": {},
     "output_type": "execute_result"
    }
   ],
   "source": [
    "results_groupby.head()"
   ]
  },
  {
   "cell_type": "code",
   "execution_count": 154,
   "metadata": {},
   "outputs": [
    {
     "name": "stderr",
     "output_type": "stream",
     "text": [
      "/Users/brendandoohan/anaconda2/lib/python2.7/site-packages/ipykernel_launcher.py:1: FutureWarning: convert_objects is deprecated.  Use the data-type specific converters pd.to_datetime, pd.to_timedelta and pd.to_numeric.\n",
      "  \"\"\"Entry point for launching an IPython kernel.\n"
     ]
    }
   ],
   "source": [
    "mo_groupby = mo_groupby.convert_objects(convert_numeric=True)"
   ]
  },
  {
   "cell_type": "code",
   "execution_count": 155,
   "metadata": {},
   "outputs": [
    {
     "data": {
      "text/html": [
       "<div>\n",
       "<style>\n",
       "    .dataframe thead tr:only-child th {\n",
       "        text-align: right;\n",
       "    }\n",
       "\n",
       "    .dataframe thead th {\n",
       "        text-align: left;\n",
       "    }\n",
       "\n",
       "    .dataframe tbody tr th {\n",
       "        vertical-align: top;\n",
       "    }\n",
       "</style>\n",
       "<table border=\"1\" class=\"dataframe\">\n",
       "  <thead>\n",
       "    <tr style=\"text-align: right;\">\n",
       "      <th></th>\n",
       "      <th>Dist_VotI</th>\n",
       "      <th>mo_supporter</th>\n",
       "    </tr>\n",
       "  </thead>\n",
       "  <tbody>\n",
       "    <tr>\n",
       "      <th>0</th>\n",
       "      <td>1.0</td>\n",
       "      <td>45</td>\n",
       "    </tr>\n",
       "    <tr>\n",
       "      <th>1</th>\n",
       "      <td>10.0</td>\n",
       "      <td>51</td>\n",
       "    </tr>\n",
       "    <tr>\n",
       "      <th>2</th>\n",
       "      <td>11.0</td>\n",
       "      <td>41</td>\n",
       "    </tr>\n",
       "    <tr>\n",
       "      <th>3</th>\n",
       "      <td>12.0</td>\n",
       "      <td>53</td>\n",
       "    </tr>\n",
       "    <tr>\n",
       "      <th>4</th>\n",
       "      <td>13.0</td>\n",
       "      <td>139</td>\n",
       "    </tr>\n",
       "  </tbody>\n",
       "</table>\n",
       "</div>"
      ],
      "text/plain": [
       "   Dist_VotI  mo_supporter\n",
       "0        1.0            45\n",
       "1       10.0            51\n",
       "2       11.0            41\n",
       "3       12.0            53\n",
       "4       13.0           139"
      ]
     },
     "execution_count": 155,
     "metadata": {},
     "output_type": "execute_result"
    }
   ],
   "source": [
    "mo_groupby.head()"
   ]
  },
  {
   "cell_type": "code",
   "execution_count": 156,
   "metadata": {},
   "outputs": [],
   "source": [
    "mo_turnout = pd.merge(\n",
    "    results_groupby,\n",
    "    mo_groupby,\n",
    "    on=\"Dist_VotI\",\n",
    "    how=\"inner\")"
   ]
  },
  {
   "cell_type": "code",
   "execution_count": 157,
   "metadata": {
    "collapsed": true
   },
   "outputs": [],
   "source": [
    "mo_turnout.columns = [\"District\", \"Total_Voters\", \"Mo_Voters\", \"District_x\", \"Mo_supporters\"]"
   ]
  },
  {
   "cell_type": "code",
   "execution_count": 158,
   "metadata": {
    "collapsed": true
   },
   "outputs": [],
   "source": [
    "mo_turnout[\"turnout_rate\"] = mo_turnout[\"Mo_Voters\"]/ mo_turnout.Mo_supporters"
   ]
  },
  {
   "cell_type": "code",
   "execution_count": 159,
   "metadata": {},
   "outputs": [
    {
     "data": {
      "image/png": "[encoded data removed]",
      "text/plain": [
       "<matplotlib.figure.Figure at 0x1a0d6fd210>"
      ]
     },
     "metadata": {},
     "output_type": "display_data"
    }
   ],
   "source": [
    "import matplotlib.pyplot as plt\n",
    "#import plotly.plotly as py\n",
    "# Learn about API authentication here: https://plot.ly/python/getting-started\n",
    "# Find your api_key here: https://plot.ly/settings/api\n",
    "\n",
    "y = mo_turnout.turnout_rate\n",
    "x = mo_turnout.District\n",
    "width = 1/1.5\n",
    "plt.bar(x, y, width, color=\"blue\")\n",
    "#fig = plt.gcf()\n",
    "#plot_url = py.plot_mpl(fig, filename='mpl-basic-bar')\n",
    "plt.show()"
   ]
  },
  {
   "cell_type": "code",
   "execution_count": 160,
   "metadata": {
    "collapsed": true
   },
   "outputs": [],
   "source": [
    "probs = pd.read_csv(\"voters_with_petition_flag.csv\")"
   ]
  },
  {
   "cell_type": "code",
   "execution_count": 161,
   "metadata": {
    "collapsed": true
   },
   "outputs": [],
   "source": [
    "probs[\"Voter_ID\"] = probs[\"VOTER.ID\"].astype(str)\n",
    "results_race_mo[\"Voter_ID\"] = results_race_mo[\"Voter_ID\"].astype(str) "
   ]
  },
  {
   "cell_type": "code",
   "execution_count": 162,
   "metadata": {
    "collapsed": true
   },
   "outputs": [],
   "source": [
    "model_eval = pd.merge(probs[[\"Voter_ID\", \"LAST.NAME\", \"FIRST.NAME\", \n",
    "                             \"likely_to_vote\"]], results_race_mo, on=\"Voter_ID\", how=\"left\")"
   ]
  },
  {
   "cell_type": "code",
   "execution_count": 163,
   "metadata": {
    "collapsed": true
   },
   "outputs": [],
   "source": [
    "model_eval = pd.read_csv(\"model_eval.csv\")"
   ]
  },
  {
   "cell_type": "code",
   "execution_count": 164,
   "metadata": {
    "collapsed": true
   },
   "outputs": [],
   "source": [
    "#model_eval.to_csv(\"model_eval.csv\", index=False)"
   ]
  },
  {
   "cell_type": "code",
   "execution_count": 165,
   "metadata": {
    "collapsed": true
   },
   "outputs": [],
   "source": [
    "model_eval[\"pred_vote\"] = model_eval.likely_to_vote.apply(lambda x: 1 if x>0.50 else 0)"
   ]
  },
  {
   "cell_type": "code",
   "execution_count": 166,
   "metadata": {
    "collapsed": true
   },
   "outputs": [],
   "source": [
    "import math\n",
    "model_eval[\"act_vote\"] = model_eval.Voter_Name.apply(lambda x: 0 if pd.isnull(x) == True else 1)"
   ]
  },
  {
   "cell_type": "code",
   "execution_count": 167,
   "metadata": {
    "collapsed": true
   },
   "outputs": [],
   "source": [
    "model_eval_deduped = pd.DataFrame(\n",
    "    model_eval.fillna(0).groupby([\"Voter_ID\", \"LAST.NAME\", \"FIRST.NAME\"])[[\"Dist_VotI\", \"pred_vote\", \"act_vote\"]].max()\n",
    ")"
   ]
  },
  {
   "cell_type": "code",
   "execution_count": 168,
   "metadata": {
    "collapsed": true
   },
   "outputs": [],
   "source": [
    "model_eval_deduped[\"Voter_ID\"] = model_eval_deduped.index.get_level_values(0)\n",
    "model_eval_deduped[\"LAST.NAME\"] = model_eval_deduped.index.get_level_values(1)\n",
    "model_eval_deduped[\"FIRST.NAME\"] = model_eval_deduped.index.get_level_values(2)"
   ]
  },
  {
   "cell_type": "code",
   "execution_count": 169,
   "metadata": {
    "collapsed": true
   },
   "outputs": [],
   "source": [
    "model_eval_deduped.sort_values(\"Voter_ID\", inplace=True)"
   ]
  },
  {
   "cell_type": "code",
   "execution_count": 170,
   "metadata": {},
   "outputs": [
    {
     "data": {
      "text/html": [
       "<div>\n",
       "<style>\n",
       "    .dataframe thead tr:only-child th {\n",
       "        text-align: right;\n",
       "    }\n",
       "\n",
       "    .dataframe thead th {\n",
       "        text-align: left;\n",
       "    }\n",
       "\n",
       "    .dataframe tbody tr th {\n",
       "        vertical-align: top;\n",
       "    }\n",
       "</style>\n",
       "<table border=\"1\" class=\"dataframe\">\n",
       "  <thead>\n",
       "    <tr style=\"text-align: right;\">\n",
       "      <th>pred_vote</th>\n",
       "      <th>0</th>\n",
       "      <th>1</th>\n",
       "    </tr>\n",
       "    <tr>\n",
       "      <th>act_vote</th>\n",
       "      <th></th>\n",
       "      <th></th>\n",
       "    </tr>\n",
       "  </thead>\n",
       "  <tbody>\n",
       "    <tr>\n",
       "      <th>0</th>\n",
       "      <td>6139</td>\n",
       "      <td>8234</td>\n",
       "    </tr>\n",
       "    <tr>\n",
       "      <th>1</th>\n",
       "      <td>1117</td>\n",
       "      <td>5416</td>\n",
       "    </tr>\n",
       "  </tbody>\n",
       "</table>\n",
       "</div>"
      ],
      "text/plain": [
       "pred_vote     0     1\n",
       "act_vote             \n",
       "0          6139  8234\n",
       "1          1117  5416"
      ]
     },
     "execution_count": 170,
     "metadata": {},
     "output_type": "execute_result"
    }
   ],
   "source": [
    "pd.crosstab(model_eval.act_vote, model_eval.pred_vote, values=model_eval.Voter_ID, aggfunc=\"count\")"
   ]
  },
  {
   "cell_type": "code",
   "execution_count": 171,
   "metadata": {},
   "outputs": [
    {
     "data": {
      "text/html": [
       "<div>\n",
       "<style>\n",
       "    .dataframe thead tr:only-child th {\n",
       "        text-align: right;\n",
       "    }\n",
       "\n",
       "    .dataframe thead th {\n",
       "        text-align: left;\n",
       "    }\n",
       "\n",
       "    .dataframe tbody tr th {\n",
       "        vertical-align: top;\n",
       "    }\n",
       "</style>\n",
       "<table border=\"1\" class=\"dataframe\">\n",
       "  <thead>\n",
       "    <tr style=\"text-align: right;\">\n",
       "      <th>pred_vote</th>\n",
       "      <th>0</th>\n",
       "      <th>1</th>\n",
       "    </tr>\n",
       "    <tr>\n",
       "      <th>act_vote</th>\n",
       "      <th></th>\n",
       "      <th></th>\n",
       "    </tr>\n",
       "  </thead>\n",
       "  <tbody>\n",
       "    <tr>\n",
       "      <th>0</th>\n",
       "      <td>5393</td>\n",
       "      <td>8234</td>\n",
       "    </tr>\n",
       "    <tr>\n",
       "      <th>1</th>\n",
       "      <td>909</td>\n",
       "      <td>5408</td>\n",
       "    </tr>\n",
       "  </tbody>\n",
       "</table>\n",
       "</div>"
      ],
      "text/plain": [
       "pred_vote     0     1\n",
       "act_vote             \n",
       "0          5393  8234\n",
       "1           909  5408"
      ]
     },
     "execution_count": 171,
     "metadata": {},
     "output_type": "execute_result"
    }
   ],
   "source": [
    "pd.crosstab(model_eval_deduped.act_vote, model_eval_deduped.pred_vote, \n",
    "            values=model_eval_deduped.Voter_ID, aggfunc=\"count\")\n"
   ]
  },
  {
   "cell_type": "code",
   "execution_count": 172,
   "metadata": {
    "collapsed": true
   },
   "outputs": [],
   "source": [
    "from sklearn.metrics import cohen_kappa_score\n",
    "from sklearn.metrics import accuracy_score"
   ]
  },
  {
   "cell_type": "code",
   "execution_count": 173,
   "metadata": {},
   "outputs": [
    {
     "data": {
      "text/plain": [
       "0.19747085179099277"
      ]
     },
     "execution_count": 173,
     "metadata": {},
     "output_type": "execute_result"
    }
   ],
   "source": [
    "cohen_kappa_score(model_eval.act_vote, model_eval.pred_vote, labels=None, weights=None)"
   ]
  },
  {
   "cell_type": "code",
   "execution_count": 174,
   "metadata": {},
   "outputs": [
    {
     "data": {
      "text/plain": [
       "0.19211118969204233"
      ]
     },
     "execution_count": 174,
     "metadata": {},
     "output_type": "execute_result"
    }
   ],
   "source": [
    "cohen_kappa_score(model_eval_deduped.act_vote, model_eval_deduped.pred_vote, labels=None, weights=None)"
   ]
  },
  {
   "cell_type": "code",
   "execution_count": 175,
   "metadata": {},
   "outputs": [
    {
     "data": {
      "text/plain": [
       "0.55271214005548641"
      ]
     },
     "execution_count": 175,
     "metadata": {},
     "output_type": "execute_result"
    }
   ],
   "source": [
    "accuracy_score(model_eval.act_vote, model_eval.pred_vote)"
   ]
  },
  {
   "cell_type": "code",
   "execution_count": 176,
   "metadata": {},
   "outputs": [
    {
     "data": {
      "text/plain": [
       "0.54156638588046535"
      ]
     },
     "execution_count": 176,
     "metadata": {},
     "output_type": "execute_result"
    }
   ],
   "source": [
    "accuracy_score(model_eval_deduped.act_vote, model_eval_deduped.pred_vote)\n"
   ]
  },
  {
   "cell_type": "code",
   "execution_count": 177,
   "metadata": {},
   "outputs": [
    {
     "data": {
      "text/plain": [
       "<matplotlib.axes._subplots.AxesSubplot at 0x1a0d1ec890>"
      ]
     },
     "execution_count": 177,
     "metadata": {},
     "output_type": "execute_result"
    }
   ],
   "source": [
    "sns.heatmap(\n",
    "    model_eval_deduped.groupby([\"pred_vote\", \"act_vote\"])[\"Voter_ID\"].count().fillna(0).replace('NaN', 0).unstack(),\n",
    "        )"
   ]
  },
  {
   "cell_type": "code",
   "execution_count": 178,
   "metadata": {},
   "outputs": [
    {
     "data": {
      "image/png": "[encoded data removed]",
      "text/plain": [
       "<matplotlib.figure.Figure at 0x1a0f79be90>"
      ]
     },
     "metadata": {},
     "output_type": "display_data"
    }
   ],
   "source": [
    "plt.show()"
   ]
  },
  {
   "cell_type": "code",
   "execution_count": 179,
   "metadata": {},
   "outputs": [
    {
     "data": {
      "text/html": [
       "<div>\n",
       "<style>\n",
       "    .dataframe thead tr:only-child th {\n",
       "        text-align: right;\n",
       "    }\n",
       "\n",
       "    .dataframe thead th {\n",
       "        text-align: left;\n",
       "    }\n",
       "\n",
       "    .dataframe tbody tr th {\n",
       "        vertical-align: top;\n",
       "    }\n",
       "</style>\n",
       "<table border=\"1\" class=\"dataframe\">\n",
       "  <thead>\n",
       "    <tr style=\"text-align: right;\">\n",
       "      <th></th>\n",
       "      <th>Voter_ID</th>\n",
       "      <th>LAST.NAME</th>\n",
       "      <th>FIRST.NAME</th>\n",
       "      <th>likely_to_vote</th>\n",
       "      <th>Unnamed: 0</th>\n",
       "      <th>Voter_Name</th>\n",
       "      <th>Ballot_Type</th>\n",
       "      <th>Residence_Address</th>\n",
       "      <th>Zip_Code</th>\n",
       "      <th>Party</th>\n",
       "      <th>...</th>\n",
       "      <th>pctapi</th>\n",
       "      <th>pctaian</th>\n",
       "      <th>pct2prace</th>\n",
       "      <th>pcthispanic</th>\n",
       "      <th>guess</th>\n",
       "      <th>Dist_VotI_y</th>\n",
       "      <th>mo_supporter</th>\n",
       "      <th>Dist_VotI</th>\n",
       "      <th>pred_vote</th>\n",
       "      <th>act_vote</th>\n",
       "    </tr>\n",
       "  </thead>\n",
       "  <tbody>\n",
       "    <tr>\n",
       "      <th>0</th>\n",
       "      <td>101116560</td>\n",
       "      <td>WARRENDAVIS</td>\n",
       "      <td>KAREN</td>\n",
       "      <td>NaN</td>\n",
       "      <td>NaN</td>\n",
       "      <td>NaN</td>\n",
       "      <td>NaN</td>\n",
       "      <td>NaN</td>\n",
       "      <td>NaN</td>\n",
       "      <td>NaN</td>\n",
       "      <td>...</td>\n",
       "      <td>NaN</td>\n",
       "      <td>NaN</td>\n",
       "      <td>NaN</td>\n",
       "      <td>NaN</td>\n",
       "      <td>NaN</td>\n",
       "      <td>NaN</td>\n",
       "      <td>NaN</td>\n",
       "      <td>NaN</td>\n",
       "      <td>0</td>\n",
       "      <td>0</td>\n",
       "    </tr>\n",
       "    <tr>\n",
       "      <th>1</th>\n",
       "      <td>101116560</td>\n",
       "      <td>WARRENDAVIS</td>\n",
       "      <td>KAREN</td>\n",
       "      <td>0.977017</td>\n",
       "      <td>NaN</td>\n",
       "      <td>NaN</td>\n",
       "      <td>NaN</td>\n",
       "      <td>NaN</td>\n",
       "      <td>NaN</td>\n",
       "      <td>NaN</td>\n",
       "      <td>...</td>\n",
       "      <td>NaN</td>\n",
       "      <td>NaN</td>\n",
       "      <td>NaN</td>\n",
       "      <td>NaN</td>\n",
       "      <td>NaN</td>\n",
       "      <td>NaN</td>\n",
       "      <td>NaN</td>\n",
       "      <td>NaN</td>\n",
       "      <td>1</td>\n",
       "      <td>0</td>\n",
       "    </tr>\n",
       "    <tr>\n",
       "      <th>2</th>\n",
       "      <td>101138510</td>\n",
       "      <td>JEANBAPTISTE</td>\n",
       "      <td>DIDIER</td>\n",
       "      <td>0.966093</td>\n",
       "      <td>4389.0</td>\n",
       "      <td>JEANBAPTISTE| DIDIER</td>\n",
       "      <td>M</td>\n",
       "      <td>193 GRIFFITH ST AptUnit 2</td>\n",
       "      <td>73072926</td>\n",
       "      <td>DEM</td>\n",
       "      <td>...</td>\n",
       "      <td>0.43</td>\n",
       "      <td>0.11</td>\n",
       "      <td>9.62</td>\n",
       "      <td>2.04</td>\n",
       "      <td>black</td>\n",
       "      <td>0.0</td>\n",
       "      <td>0.0</td>\n",
       "      <td>20.0</td>\n",
       "      <td>1</td>\n",
       "      <td>1</td>\n",
       "    </tr>\n",
       "    <tr>\n",
       "      <th>3</th>\n",
       "      <td>101139593</td>\n",
       "      <td>WYATT</td>\n",
       "      <td>ROBERT</td>\n",
       "      <td>0.841616</td>\n",
       "      <td>562.0</td>\n",
       "      <td>WYATT| ROBERT</td>\n",
       "      <td>M</td>\n",
       "      <td>126 WEBSTER AVE AptUnit 4E</td>\n",
       "      <td>7307</td>\n",
       "      <td>DEM</td>\n",
       "      <td>...</td>\n",
       "      <td>0.34</td>\n",
       "      <td>0.55</td>\n",
       "      <td>1.50</td>\n",
       "      <td>1.80</td>\n",
       "      <td>white</td>\n",
       "      <td>0.0</td>\n",
       "      <td>0.0</td>\n",
       "      <td>3.0</td>\n",
       "      <td>1</td>\n",
       "      <td>1</td>\n",
       "    </tr>\n",
       "    <tr>\n",
       "      <th>4</th>\n",
       "      <td>101173448</td>\n",
       "      <td>PURVIS</td>\n",
       "      <td>ANGEL</td>\n",
       "      <td>0.619970</td>\n",
       "      <td>NaN</td>\n",
       "      <td>NaN</td>\n",
       "      <td>NaN</td>\n",
       "      <td>NaN</td>\n",
       "      <td>NaN</td>\n",
       "      <td>NaN</td>\n",
       "      <td>...</td>\n",
       "      <td>NaN</td>\n",
       "      <td>NaN</td>\n",
       "      <td>NaN</td>\n",
       "      <td>NaN</td>\n",
       "      <td>NaN</td>\n",
       "      <td>NaN</td>\n",
       "      <td>NaN</td>\n",
       "      <td>NaN</td>\n",
       "      <td>1</td>\n",
       "      <td>0</td>\n",
       "    </tr>\n",
       "  </tbody>\n",
       "</table>\n",
       "<p>5 rows × 32 columns</p>\n",
       "</div>"
      ],
      "text/plain": [
       "    Voter_ID     LAST.NAME FIRST.NAME  likely_to_vote  Unnamed: 0  \\\n",
       "0  101116560   WARRENDAVIS      KAREN             NaN         NaN   \n",
       "1  101116560   WARRENDAVIS      KAREN        0.977017         NaN   \n",
       "2  101138510  JEANBAPTISTE     DIDIER        0.966093      4389.0   \n",
       "3  101139593         WYATT     ROBERT        0.841616       562.0   \n",
       "4  101173448        PURVIS      ANGEL        0.619970         NaN   \n",
       "\n",
       "             Voter_Name Ballot_Type           Residence_Address  Zip_Code  \\\n",
       "0                   NaN         NaN                         NaN       NaN   \n",
       "1                   NaN         NaN                         NaN       NaN   \n",
       "2  JEANBAPTISTE| DIDIER          M    193 GRIFFITH ST AptUnit 2  73072926   \n",
       "3         WYATT| ROBERT          M   126 WEBSTER AVE AptUnit 4E      7307   \n",
       "4                   NaN         NaN                         NaN       NaN   \n",
       "\n",
       "  Party    ...     pctapi  pctaian pct2prace pcthispanic  guess Dist_VotI_y  \\\n",
       "0   NaN    ...        NaN      NaN       NaN         NaN    NaN         NaN   \n",
       "1   NaN    ...        NaN      NaN       NaN         NaN    NaN         NaN   \n",
       "2   DEM    ...       0.43     0.11      9.62        2.04  black         0.0   \n",
       "3   DEM    ...       0.34     0.55      1.50        1.80  white         0.0   \n",
       "4   NaN    ...        NaN      NaN       NaN         NaN    NaN         NaN   \n",
       "\n",
       "   mo_supporter  Dist_VotI  pred_vote  act_vote  \n",
       "0           NaN        NaN          0         0  \n",
       "1           NaN        NaN          1         0  \n",
       "2           0.0       20.0          1         1  \n",
       "3           0.0        3.0          1         1  \n",
       "4           NaN        NaN          1         0  \n",
       "\n",
       "[5 rows x 32 columns]"
      ]
     },
     "execution_count": 179,
     "metadata": {},
     "output_type": "execute_result"
    }
   ],
   "source": [
    "model_eval.head()"
   ]
  },
  {
   "cell_type": "code",
   "execution_count": 180,
   "metadata": {
    "collapsed": true
   },
   "outputs": [],
   "source": [
    "#https://ocefpaf.github.io/python4oceanographers/blog/2015/02/02/cartopy_folium_shapefile/"
   ]
  },
  {
   "cell_type": "code",
   "execution_count": 181,
   "metadata": {
    "collapsed": true
   },
   "outputs": [],
   "source": [
    "import folium\n",
    "import pandas as pd"
   ]
  },
  {
   "cell_type": "code",
   "execution_count": 182,
   "metadata": {},
   "outputs": [
    {
     "data": {
      "text/html": [
       "<div style=\"width:100%;\"><div style=\"position:relative;width:100%;height:0;padding-bottom:60%;\"><iframe src=\"data:text/html;charset=utf-8;base64,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\" style=\"position:absolute;width:100%;height:100%;left:0;top:0;border:none !important;\" allowfullscreen webkitallowfullscreen mozallowfullscreen></iframe></div></div>"
      ],
      "text/plain": [
       "<folium.folium.Map at 0x1a0e0fab50>"
      ]
     },
     "metadata": {},
     "output_type": "display_data"
    }
   ],
   "source": [
    "JC_COORDINATES = (40.7437326, -74.0550381)\n",
    "\n",
    "# for speed purposes\n",
    "MAX_RECORDS = 1000\n",
    "\n",
    "# create empty map zoomed in on San Francisco\n",
    "map = folium.Map(location=JC_COORDINATES, zoom_start=12)\n",
    " \n",
    "display(map)\n"
   ]
  },
  {
   "cell_type": "code",
   "execution_count": 183,
   "metadata": {
    "collapsed": true
   },
   "outputs": [],
   "source": [
    "# definition of the boundaries in the map\n",
    "district_geo = r'JC_WardD.geojson'\n",
    "\n"
   ]
  },
  {
   "cell_type": "code",
   "execution_count": 184,
   "metadata": {},
   "outputs": [
    {
     "data": {
      "text/html": [
       "<div>\n",
       "<style>\n",
       "    .dataframe thead tr:only-child th {\n",
       "        text-align: right;\n",
       "    }\n",
       "\n",
       "    .dataframe thead th {\n",
       "        text-align: left;\n",
       "    }\n",
       "\n",
       "    .dataframe tbody tr th {\n",
       "        vertical-align: top;\n",
       "    }\n",
       "</style>\n",
       "<table border=\"1\" class=\"dataframe\">\n",
       "  <thead>\n",
       "    <tr style=\"text-align: right;\">\n",
       "      <th></th>\n",
       "      <th>Voter_ID</th>\n",
       "      <th>LAST.NAME</th>\n",
       "      <th>FIRST.NAME</th>\n",
       "      <th>likely_to_vote</th>\n",
       "      <th>Unnamed: 0</th>\n",
       "      <th>Voter_Name</th>\n",
       "      <th>Ballot_Type</th>\n",
       "      <th>Residence_Address</th>\n",
       "      <th>Zip_Code</th>\n",
       "      <th>Party</th>\n",
       "      <th>...</th>\n",
       "      <th>pctapi</th>\n",
       "      <th>pctaian</th>\n",
       "      <th>pct2prace</th>\n",
       "      <th>pcthispanic</th>\n",
       "      <th>guess</th>\n",
       "      <th>Dist_VotI_y</th>\n",
       "      <th>mo_supporter</th>\n",
       "      <th>Dist_VotI</th>\n",
       "      <th>pred_vote</th>\n",
       "      <th>act_vote</th>\n",
       "    </tr>\n",
       "  </thead>\n",
       "  <tbody>\n",
       "    <tr>\n",
       "      <th>0</th>\n",
       "      <td>101116560</td>\n",
       "      <td>WARRENDAVIS</td>\n",
       "      <td>KAREN</td>\n",
       "      <td>NaN</td>\n",
       "      <td>NaN</td>\n",
       "      <td>NaN</td>\n",
       "      <td>NaN</td>\n",
       "      <td>NaN</td>\n",
       "      <td>NaN</td>\n",
       "      <td>NaN</td>\n",
       "      <td>...</td>\n",
       "      <td>NaN</td>\n",
       "      <td>NaN</td>\n",
       "      <td>NaN</td>\n",
       "      <td>NaN</td>\n",
       "      <td>NaN</td>\n",
       "      <td>NaN</td>\n",
       "      <td>NaN</td>\n",
       "      <td>NaN</td>\n",
       "      <td>0</td>\n",
       "      <td>0</td>\n",
       "    </tr>\n",
       "    <tr>\n",
       "      <th>1</th>\n",
       "      <td>101116560</td>\n",
       "      <td>WARRENDAVIS</td>\n",
       "      <td>KAREN</td>\n",
       "      <td>0.977017</td>\n",
       "      <td>NaN</td>\n",
       "      <td>NaN</td>\n",
       "      <td>NaN</td>\n",
       "      <td>NaN</td>\n",
       "      <td>NaN</td>\n",
       "      <td>NaN</td>\n",
       "      <td>...</td>\n",
       "      <td>NaN</td>\n",
       "      <td>NaN</td>\n",
       "      <td>NaN</td>\n",
       "      <td>NaN</td>\n",
       "      <td>NaN</td>\n",
       "      <td>NaN</td>\n",
       "      <td>NaN</td>\n",
       "      <td>NaN</td>\n",
       "      <td>1</td>\n",
       "      <td>0</td>\n",
       "    </tr>\n",
       "    <tr>\n",
       "      <th>2</th>\n",
       "      <td>101138510</td>\n",
       "      <td>JEANBAPTISTE</td>\n",
       "      <td>DIDIER</td>\n",
       "      <td>0.966093</td>\n",
       "      <td>4389.0</td>\n",
       "      <td>JEANBAPTISTE| DIDIER</td>\n",
       "      <td>M</td>\n",
       "      <td>193 GRIFFITH ST AptUnit 2</td>\n",
       "      <td>73072926</td>\n",
       "      <td>DEM</td>\n",
       "      <td>...</td>\n",
       "      <td>0.43</td>\n",
       "      <td>0.11</td>\n",
       "      <td>9.62</td>\n",
       "      <td>2.04</td>\n",
       "      <td>black</td>\n",
       "      <td>0.0</td>\n",
       "      <td>0.0</td>\n",
       "      <td>20.0</td>\n",
       "      <td>1</td>\n",
       "      <td>1</td>\n",
       "    </tr>\n",
       "    <tr>\n",
       "      <th>3</th>\n",
       "      <td>101139593</td>\n",
       "      <td>WYATT</td>\n",
       "      <td>ROBERT</td>\n",
       "      <td>0.841616</td>\n",
       "      <td>562.0</td>\n",
       "      <td>WYATT| ROBERT</td>\n",
       "      <td>M</td>\n",
       "      <td>126 WEBSTER AVE AptUnit 4E</td>\n",
       "      <td>7307</td>\n",
       "      <td>DEM</td>\n",
       "      <td>...</td>\n",
       "      <td>0.34</td>\n",
       "      <td>0.55</td>\n",
       "      <td>1.50</td>\n",
       "      <td>1.80</td>\n",
       "      <td>white</td>\n",
       "      <td>0.0</td>\n",
       "      <td>0.0</td>\n",
       "      <td>3.0</td>\n",
       "      <td>1</td>\n",
       "      <td>1</td>\n",
       "    </tr>\n",
       "    <tr>\n",
       "      <th>4</th>\n",
       "      <td>101173448</td>\n",
       "      <td>PURVIS</td>\n",
       "      <td>ANGEL</td>\n",
       "      <td>0.619970</td>\n",
       "      <td>NaN</td>\n",
       "      <td>NaN</td>\n",
       "      <td>NaN</td>\n",
       "      <td>NaN</td>\n",
       "      <td>NaN</td>\n",
       "      <td>NaN</td>\n",
       "      <td>...</td>\n",
       "      <td>NaN</td>\n",
       "      <td>NaN</td>\n",
       "      <td>NaN</td>\n",
       "      <td>NaN</td>\n",
       "      <td>NaN</td>\n",
       "      <td>NaN</td>\n",
       "      <td>NaN</td>\n",
       "      <td>NaN</td>\n",
       "      <td>1</td>\n",
       "      <td>0</td>\n",
       "    </tr>\n",
       "  </tbody>\n",
       "</table>\n",
       "<p>5 rows × 32 columns</p>\n",
       "</div>"
      ],
      "text/plain": [
       "    Voter_ID     LAST.NAME FIRST.NAME  likely_to_vote  Unnamed: 0  \\\n",
       "0  101116560   WARRENDAVIS      KAREN             NaN         NaN   \n",
       "1  101116560   WARRENDAVIS      KAREN        0.977017         NaN   \n",
       "2  101138510  JEANBAPTISTE     DIDIER        0.966093      4389.0   \n",
       "3  101139593         WYATT     ROBERT        0.841616       562.0   \n",
       "4  101173448        PURVIS      ANGEL        0.619970         NaN   \n",
       "\n",
       "             Voter_Name Ballot_Type           Residence_Address  Zip_Code  \\\n",
       "0                   NaN         NaN                         NaN       NaN   \n",
       "1                   NaN         NaN                         NaN       NaN   \n",
       "2  JEANBAPTISTE| DIDIER          M    193 GRIFFITH ST AptUnit 2  73072926   \n",
       "3         WYATT| ROBERT          M   126 WEBSTER AVE AptUnit 4E      7307   \n",
       "4                   NaN         NaN                         NaN       NaN   \n",
       "\n",
       "  Party    ...     pctapi  pctaian pct2prace pcthispanic  guess Dist_VotI_y  \\\n",
       "0   NaN    ...        NaN      NaN       NaN         NaN    NaN         NaN   \n",
       "1   NaN    ...        NaN      NaN       NaN         NaN    NaN         NaN   \n",
       "2   DEM    ...       0.43     0.11      9.62        2.04  black         0.0   \n",
       "3   DEM    ...       0.34     0.55      1.50        1.80  white         0.0   \n",
       "4   NaN    ...        NaN      NaN       NaN         NaN    NaN         NaN   \n",
       "\n",
       "   mo_supporter  Dist_VotI  pred_vote  act_vote  \n",
       "0           NaN        NaN          0         0  \n",
       "1           NaN        NaN          1         0  \n",
       "2           0.0       20.0          1         1  \n",
       "3           0.0        3.0          1         1  \n",
       "4           NaN        NaN          1         0  \n",
       "\n",
       "[5 rows x 32 columns]"
      ]
     },
     "execution_count": 184,
     "metadata": {},
     "output_type": "execute_result"
    }
   ],
   "source": [
    "model_eval.head()"
   ]
  },
  {
   "cell_type": "code",
   "execution_count": 185,
   "metadata": {
    "collapsed": true
   },
   "outputs": [],
   "source": [
    "# calculating total number of incidents per district\n",
    "crimedata2 = pd.DataFrame(model_eval['Dist_VotI'].value_counts().astype(float))\n",
    "crimedata2.to_json('crimeagg.json')\n",
    "crimedata2 = crimedata2.reset_index()\n",
    "crimedata2.columns = ['District', 'Number']\n",
    "\n"
   ]
  },
  {
   "cell_type": "code",
   "execution_count": 186,
   "metadata": {},
   "outputs": [
    {
     "ename": "AttributeError",
     "evalue": "'NoneType' object has no attribute 'get'",
     "output_type": "error",
     "traceback": [
      "\u001b[0;31m---------------------------------------------------------------------------\u001b[0m",
      "\u001b[0;31mAttributeError\u001b[0m                            Traceback (most recent call last)",
      "\u001b[0;32m/Users/brendandoohan/anaconda2/lib/python2.7/site-packages/IPython/core/formatters.pyc\u001b[0m in \u001b[0;36m__call__\u001b[0;34m(self, obj)\u001b[0m\n\u001b[1;32m    336\u001b[0m             \u001b[0mmethod\u001b[0m \u001b[0;34m=\u001b[0m \u001b[0mget_real_method\u001b[0m\u001b[0;34m(\u001b[0m\u001b[0mobj\u001b[0m\u001b[0;34m,\u001b[0m \u001b[0mself\u001b[0m\u001b[0;34m.\u001b[0m\u001b[0mprint_method\u001b[0m\u001b[0;34m)\u001b[0m\u001b[0;34m\u001b[0m\u001b[0m\n\u001b[1;32m    337\u001b[0m             \u001b[0;32mif\u001b[0m \u001b[0mmethod\u001b[0m \u001b[0;32mis\u001b[0m \u001b[0;32mnot\u001b[0m \u001b[0mNone\u001b[0m\u001b[0;34m:\u001b[0m\u001b[0;34m\u001b[0m\u001b[0m\n\u001b[0;32m--> 338\u001b[0;31m                 \u001b[0;32mreturn\u001b[0m \u001b[0mmethod\u001b[0m\u001b[0;34m(\u001b[0m\u001b[0;34m)\u001b[0m\u001b[0;34m\u001b[0m\u001b[0m\n\u001b[0m\u001b[1;32m    339\u001b[0m             \u001b[0;32mreturn\u001b[0m \u001b[0mNone\u001b[0m\u001b[0;34m\u001b[0m\u001b[0m\n\u001b[1;32m    340\u001b[0m         \u001b[0;32melse\u001b[0m\u001b[0;34m:\u001b[0m\u001b[0;34m\u001b[0m\u001b[0m\n",
      "\u001b[0;32m/Users/brendandoohan/anaconda2/lib/python2.7/site-packages/folium/map.pyc\u001b[0m in \u001b[0;36m_repr_html_\u001b[0;34m(self, **kwargs)\u001b[0m\n\u001b[1;32m    249\u001b[0m             \u001b[0mself\u001b[0m\u001b[0;34m.\u001b[0m\u001b[0m_parent\u001b[0m \u001b[0;34m=\u001b[0m \u001b[0mNone\u001b[0m\u001b[0;34m\u001b[0m\u001b[0m\n\u001b[1;32m    250\u001b[0m         \u001b[0;32melse\u001b[0m\u001b[0;34m:\u001b[0m\u001b[0;34m\u001b[0m\u001b[0m\n\u001b[0;32m--> 251\u001b[0;31m             \u001b[0mout\u001b[0m \u001b[0;34m=\u001b[0m \u001b[0mself\u001b[0m\u001b[0;34m.\u001b[0m\u001b[0m_parent\u001b[0m\u001b[0;34m.\u001b[0m\u001b[0m_repr_html_\u001b[0m\u001b[0;34m(\u001b[0m\u001b[0;34m**\u001b[0m\u001b[0mkwargs\u001b[0m\u001b[0;34m)\u001b[0m\u001b[0;34m\u001b[0m\u001b[0m\n\u001b[0m\u001b[1;32m    252\u001b[0m         \u001b[0;32mreturn\u001b[0m \u001b[0mout\u001b[0m\u001b[0;34m\u001b[0m\u001b[0m\n\u001b[1;32m    253\u001b[0m \u001b[0;34m\u001b[0m\u001b[0m\n",
      "\u001b[0;32m/Users/brendandoohan/anaconda2/lib/python2.7/site-packages/branca/element.pyc\u001b[0m in \u001b[0;36m_repr_html_\u001b[0;34m(self, **kwargs)\u001b[0m\n\u001b[1;32m    309\u001b[0m \u001b[0;34m\u001b[0m\u001b[0m\n\u001b[1;32m    310\u001b[0m         \"\"\"\n\u001b[0;32m--> 311\u001b[0;31m         \u001b[0mhtml\u001b[0m \u001b[0;34m=\u001b[0m \u001b[0mself\u001b[0m\u001b[0;34m.\u001b[0m\u001b[0mrender\u001b[0m\u001b[0;34m(\u001b[0m\u001b[0;34m**\u001b[0m\u001b[0mkwargs\u001b[0m\u001b[0;34m)\u001b[0m\u001b[0;34m\u001b[0m\u001b[0m\n\u001b[0m\u001b[1;32m    312\u001b[0m         \u001b[0mhtml\u001b[0m \u001b[0;34m=\u001b[0m \u001b[0;34m\"data:text/html;charset=utf-8;base64,\"\u001b[0m \u001b[0;34m+\u001b[0m \u001b[0mbase64\u001b[0m\u001b[0;34m.\u001b[0m\u001b[0mb64encode\u001b[0m\u001b[0;34m(\u001b[0m\u001b[0mhtml\u001b[0m\u001b[0;34m.\u001b[0m\u001b[0mencode\u001b[0m\u001b[0;34m(\u001b[0m\u001b[0;34m'utf8'\u001b[0m\u001b[0;34m)\u001b[0m\u001b[0;34m)\u001b[0m\u001b[0;34m.\u001b[0m\u001b[0mdecode\u001b[0m\u001b[0;34m(\u001b[0m\u001b[0;34m'utf8'\u001b[0m\u001b[0;34m)\u001b[0m  \u001b[0;31m# noqa\u001b[0m\u001b[0;34m\u001b[0m\u001b[0m\n\u001b[1;32m    313\u001b[0m \u001b[0;34m\u001b[0m\u001b[0m\n",
      "\u001b[0;32m/Users/brendandoohan/anaconda2/lib/python2.7/site-packages/branca/element.pyc\u001b[0m in \u001b[0;36mrender\u001b[0;34m(self, **kwargs)\u001b[0m\n\u001b[1;32m    299\u001b[0m         \u001b[0;34m\"\"\"Renders the HTML representation of the element.\"\"\"\u001b[0m\u001b[0;34m\u001b[0m\u001b[0m\n\u001b[1;32m    300\u001b[0m         \u001b[0;32mfor\u001b[0m \u001b[0mname\u001b[0m\u001b[0;34m,\u001b[0m \u001b[0mchild\u001b[0m \u001b[0;32min\u001b[0m \u001b[0mself\u001b[0m\u001b[0;34m.\u001b[0m\u001b[0m_children\u001b[0m\u001b[0;34m.\u001b[0m\u001b[0mitems\u001b[0m\u001b[0;34m(\u001b[0m\u001b[0;34m)\u001b[0m\u001b[0;34m:\u001b[0m\u001b[0;34m\u001b[0m\u001b[0m\n\u001b[0;32m--> 301\u001b[0;31m             \u001b[0mchild\u001b[0m\u001b[0;34m.\u001b[0m\u001b[0mrender\u001b[0m\u001b[0;34m(\u001b[0m\u001b[0;34m**\u001b[0m\u001b[0mkwargs\u001b[0m\u001b[0;34m)\u001b[0m\u001b[0;34m\u001b[0m\u001b[0m\n\u001b[0m\u001b[1;32m    302\u001b[0m         \u001b[0;32mreturn\u001b[0m \u001b[0mself\u001b[0m\u001b[0;34m.\u001b[0m\u001b[0m_template\u001b[0m\u001b[0;34m.\u001b[0m\u001b[0mrender\u001b[0m\u001b[0;34m(\u001b[0m\u001b[0mthis\u001b[0m\u001b[0;34m=\u001b[0m\u001b[0mself\u001b[0m\u001b[0;34m,\u001b[0m \u001b[0mkwargs\u001b[0m\u001b[0;34m=\u001b[0m\u001b[0mkwargs\u001b[0m\u001b[0;34m)\u001b[0m\u001b[0;34m\u001b[0m\u001b[0m\n\u001b[1;32m    303\u001b[0m \u001b[0;34m\u001b[0m\u001b[0m\n",
      "\u001b[0;32m/Users/brendandoohan/anaconda2/lib/python2.7/site-packages/folium/map.pyc\u001b[0m in \u001b[0;36mrender\u001b[0;34m(self, **kwargs)\u001b[0m\n\u001b[1;32m    336\u001b[0m             '</style>'), name='map_style')\n\u001b[1;32m    337\u001b[0m \u001b[0;34m\u001b[0m\u001b[0m\n\u001b[0;32m--> 338\u001b[0;31m         \u001b[0msuper\u001b[0m\u001b[0;34m(\u001b[0m\u001b[0mLegacyMap\u001b[0m\u001b[0;34m,\u001b[0m \u001b[0mself\u001b[0m\u001b[0;34m)\u001b[0m\u001b[0;34m.\u001b[0m\u001b[0mrender\u001b[0m\u001b[0;34m(\u001b[0m\u001b[0;34m**\u001b[0m\u001b[0mkwargs\u001b[0m\u001b[0;34m)\u001b[0m\u001b[0;34m\u001b[0m\u001b[0m\n\u001b[0m\u001b[1;32m    339\u001b[0m \u001b[0;34m\u001b[0m\u001b[0m\n\u001b[1;32m    340\u001b[0m \u001b[0;34m\u001b[0m\u001b[0m\n",
      "\u001b[0;32m/Users/brendandoohan/anaconda2/lib/python2.7/site-packages/branca/element.pyc\u001b[0m in \u001b[0;36mrender\u001b[0;34m(self, **kwargs)\u001b[0m\n\u001b[1;32m    615\u001b[0m \u001b[0;34m\u001b[0m\u001b[0m\n\u001b[1;32m    616\u001b[0m         \u001b[0;32mfor\u001b[0m \u001b[0mname\u001b[0m\u001b[0;34m,\u001b[0m \u001b[0melement\u001b[0m \u001b[0;32min\u001b[0m \u001b[0mself\u001b[0m\u001b[0;34m.\u001b[0m\u001b[0m_children\u001b[0m\u001b[0;34m.\u001b[0m\u001b[0mitems\u001b[0m\u001b[0;34m(\u001b[0m\u001b[0;34m)\u001b[0m\u001b[0;34m:\u001b[0m\u001b[0;34m\u001b[0m\u001b[0m\n\u001b[0;32m--> 617\u001b[0;31m             \u001b[0melement\u001b[0m\u001b[0;34m.\u001b[0m\u001b[0mrender\u001b[0m\u001b[0;34m(\u001b[0m\u001b[0;34m**\u001b[0m\u001b[0mkwargs\u001b[0m\u001b[0;34m)\u001b[0m\u001b[0;34m\u001b[0m\u001b[0m\n\u001b[0m",
      "\u001b[0;32m/Users/brendandoohan/anaconda2/lib/python2.7/site-packages/branca/element.pyc\u001b[0m in \u001b[0;36mrender\u001b[0;34m(self, **kwargs)\u001b[0m\n\u001b[1;32m    611\u001b[0m         \u001b[0mscript\u001b[0m \u001b[0;34m=\u001b[0m \u001b[0mself\u001b[0m\u001b[0;34m.\u001b[0m\u001b[0m_template\u001b[0m\u001b[0;34m.\u001b[0m\u001b[0mmodule\u001b[0m\u001b[0;34m.\u001b[0m\u001b[0m__dict__\u001b[0m\u001b[0;34m.\u001b[0m\u001b[0mget\u001b[0m\u001b[0;34m(\u001b[0m\u001b[0;34m'script'\u001b[0m\u001b[0;34m,\u001b[0m \u001b[0mNone\u001b[0m\u001b[0;34m)\u001b[0m\u001b[0;34m\u001b[0m\u001b[0m\n\u001b[1;32m    612\u001b[0m         \u001b[0;32mif\u001b[0m \u001b[0mscript\u001b[0m \u001b[0;32mis\u001b[0m \u001b[0;32mnot\u001b[0m \u001b[0mNone\u001b[0m\u001b[0;34m:\u001b[0m\u001b[0;34m\u001b[0m\u001b[0m\n\u001b[0;32m--> 613\u001b[0;31m             figure.script.add_child(Element(script(self, kwargs)),\n\u001b[0m\u001b[1;32m    614\u001b[0m                                     name=self.get_name())\n\u001b[1;32m    615\u001b[0m \u001b[0;34m\u001b[0m\u001b[0m\n",
      "\u001b[0;32m/Users/brendandoohan/anaconda2/lib/python2.7/site-packages/jinja2/runtime.pyc\u001b[0m in \u001b[0;36m__call__\u001b[0;34m(self, *args, **kwargs)\u001b[0m\n\u001b[1;32m    547\u001b[0m                             (self.name, len(self.arguments)))\n\u001b[1;32m    548\u001b[0m \u001b[0;34m\u001b[0m\u001b[0m\n\u001b[0;32m--> 549\u001b[0;31m         \u001b[0;32mreturn\u001b[0m \u001b[0mself\u001b[0m\u001b[0;34m.\u001b[0m\u001b[0m_invoke\u001b[0m\u001b[0;34m(\u001b[0m\u001b[0marguments\u001b[0m\u001b[0;34m,\u001b[0m \u001b[0mautoescape\u001b[0m\u001b[0;34m)\u001b[0m\u001b[0;34m\u001b[0m\u001b[0m\n\u001b[0m\u001b[1;32m    550\u001b[0m \u001b[0;34m\u001b[0m\u001b[0m\n\u001b[1;32m    551\u001b[0m     \u001b[0;32mdef\u001b[0m \u001b[0m_invoke\u001b[0m\u001b[0;34m(\u001b[0m\u001b[0mself\u001b[0m\u001b[0;34m,\u001b[0m \u001b[0marguments\u001b[0m\u001b[0;34m,\u001b[0m \u001b[0mautoescape\u001b[0m\u001b[0;34m)\u001b[0m\u001b[0;34m:\u001b[0m\u001b[0;34m\u001b[0m\u001b[0m\n",
      "\u001b[0;32m/Users/brendandoohan/anaconda2/lib/python2.7/site-packages/jinja2/runtime.pyc\u001b[0m in \u001b[0;36m_invoke\u001b[0;34m(self, arguments, autoescape)\u001b[0m\n\u001b[1;32m    551\u001b[0m     \u001b[0;32mdef\u001b[0m \u001b[0m_invoke\u001b[0m\u001b[0;34m(\u001b[0m\u001b[0mself\u001b[0m\u001b[0;34m,\u001b[0m \u001b[0marguments\u001b[0m\u001b[0;34m,\u001b[0m \u001b[0mautoescape\u001b[0m\u001b[0;34m)\u001b[0m\u001b[0;34m:\u001b[0m\u001b[0;34m\u001b[0m\u001b[0m\n\u001b[1;32m    552\u001b[0m         \u001b[0;34m\"\"\"This method is being swapped out by the async implementation.\"\"\"\u001b[0m\u001b[0;34m\u001b[0m\u001b[0m\n\u001b[0;32m--> 553\u001b[0;31m         \u001b[0mrv\u001b[0m \u001b[0;34m=\u001b[0m \u001b[0mself\u001b[0m\u001b[0;34m.\u001b[0m\u001b[0m_func\u001b[0m\u001b[0;34m(\u001b[0m\u001b[0;34m*\u001b[0m\u001b[0marguments\u001b[0m\u001b[0;34m)\u001b[0m\u001b[0;34m\u001b[0m\u001b[0m\n\u001b[0m\u001b[1;32m    554\u001b[0m         \u001b[0;32mif\u001b[0m \u001b[0mautoescape\u001b[0m\u001b[0;34m:\u001b[0m\u001b[0;34m\u001b[0m\u001b[0m\n\u001b[1;32m    555\u001b[0m             \u001b[0mrv\u001b[0m \u001b[0;34m=\u001b[0m \u001b[0mMarkup\u001b[0m\u001b[0;34m(\u001b[0m\u001b[0mrv\u001b[0m\u001b[0;34m)\u001b[0m\u001b[0;34m\u001b[0m\u001b[0m\n",
      "\u001b[0;32m<template>\u001b[0m in \u001b[0;36mmacro\u001b[0;34m(l_1_this, l_1_kwargs)\u001b[0m\n",
      "\u001b[0;32m/Users/brendandoohan/anaconda2/lib/python2.7/site-packages/jinja2/runtime.pyc\u001b[0m in \u001b[0;36mcall\u001b[0;34m(_Context__self, _Context__obj, *args, **kwargs)\u001b[0m\n\u001b[1;32m    258\u001b[0m                 \u001b[0margs\u001b[0m \u001b[0;34m=\u001b[0m \u001b[0;34m(\u001b[0m\u001b[0m__self\u001b[0m\u001b[0;34m.\u001b[0m\u001b[0menvironment\u001b[0m\u001b[0;34m,\u001b[0m\u001b[0;34m)\u001b[0m \u001b[0;34m+\u001b[0m \u001b[0margs\u001b[0m\u001b[0;34m\u001b[0m\u001b[0m\n\u001b[1;32m    259\u001b[0m         \u001b[0;32mtry\u001b[0m\u001b[0;34m:\u001b[0m\u001b[0;34m\u001b[0m\u001b[0m\n\u001b[0;32m--> 260\u001b[0;31m             \u001b[0;32mreturn\u001b[0m \u001b[0m__obj\u001b[0m\u001b[0;34m(\u001b[0m\u001b[0;34m*\u001b[0m\u001b[0margs\u001b[0m\u001b[0;34m,\u001b[0m \u001b[0;34m**\u001b[0m\u001b[0mkwargs\u001b[0m\u001b[0;34m)\u001b[0m\u001b[0;34m\u001b[0m\u001b[0m\n\u001b[0m\u001b[1;32m    261\u001b[0m         \u001b[0;32mexcept\u001b[0m \u001b[0mStopIteration\u001b[0m\u001b[0;34m:\u001b[0m\u001b[0;34m\u001b[0m\u001b[0m\n\u001b[1;32m    262\u001b[0m             return __self.environment.undefined('value was undefined because '\n",
      "\u001b[0;32m/Users/brendandoohan/anaconda2/lib/python2.7/site-packages/folium/features.pyc\u001b[0m in \u001b[0;36mstyle_data\u001b[0;34m(self)\u001b[0m\n\u001b[1;32m    563\u001b[0m \u001b[0;34m\u001b[0m\u001b[0m\n\u001b[1;32m    564\u001b[0m         \u001b[0;32mfor\u001b[0m \u001b[0mfeature\u001b[0m \u001b[0;32min\u001b[0m \u001b[0mself\u001b[0m\u001b[0;34m.\u001b[0m\u001b[0mdata\u001b[0m\u001b[0;34m[\u001b[0m\u001b[0;34m'features'\u001b[0m\u001b[0;34m]\u001b[0m\u001b[0;34m:\u001b[0m\u001b[0;34m\u001b[0m\u001b[0m\n\u001b[0;32m--> 565\u001b[0;31m             \u001b[0mfeature\u001b[0m\u001b[0;34m.\u001b[0m\u001b[0msetdefault\u001b[0m\u001b[0;34m(\u001b[0m\u001b[0;34m'properties'\u001b[0m\u001b[0;34m,\u001b[0m \u001b[0;34m{\u001b[0m\u001b[0;34m}\u001b[0m\u001b[0;34m)\u001b[0m\u001b[0;34m.\u001b[0m\u001b[0msetdefault\u001b[0m\u001b[0;34m(\u001b[0m\u001b[0;34m'style'\u001b[0m\u001b[0;34m,\u001b[0m \u001b[0;34m{\u001b[0m\u001b[0;34m}\u001b[0m\u001b[0;34m)\u001b[0m\u001b[0;34m.\u001b[0m\u001b[0mupdate\u001b[0m\u001b[0;34m(\u001b[0m\u001b[0mself\u001b[0m\u001b[0;34m.\u001b[0m\u001b[0mstyle_function\u001b[0m\u001b[0;34m(\u001b[0m\u001b[0mfeature\u001b[0m\u001b[0;34m)\u001b[0m\u001b[0;34m)\u001b[0m  \u001b[0;31m# noqa\u001b[0m\u001b[0;34m\u001b[0m\u001b[0m\n\u001b[0m\u001b[1;32m    566\u001b[0m             \u001b[0mfeature\u001b[0m\u001b[0;34m.\u001b[0m\u001b[0msetdefault\u001b[0m\u001b[0;34m(\u001b[0m\u001b[0;34m'properties'\u001b[0m\u001b[0;34m,\u001b[0m \u001b[0;34m{\u001b[0m\u001b[0;34m}\u001b[0m\u001b[0;34m)\u001b[0m\u001b[0;34m.\u001b[0m\u001b[0msetdefault\u001b[0m\u001b[0;34m(\u001b[0m\u001b[0;34m'highlight'\u001b[0m\u001b[0;34m,\u001b[0m \u001b[0;34m{\u001b[0m\u001b[0;34m}\u001b[0m\u001b[0;34m)\u001b[0m\u001b[0;34m.\u001b[0m\u001b[0mupdate\u001b[0m\u001b[0;34m(\u001b[0m\u001b[0mself\u001b[0m\u001b[0;34m.\u001b[0m\u001b[0mhighlight_function\u001b[0m\u001b[0;34m(\u001b[0m\u001b[0mfeature\u001b[0m\u001b[0;34m)\u001b[0m\u001b[0;34m)\u001b[0m  \u001b[0;31m# noqa\u001b[0m\u001b[0;34m\u001b[0m\u001b[0m\n\u001b[1;32m    567\u001b[0m         \u001b[0;32mreturn\u001b[0m \u001b[0mjson\u001b[0m\u001b[0;34m.\u001b[0m\u001b[0mdumps\u001b[0m\u001b[0;34m(\u001b[0m\u001b[0mself\u001b[0m\u001b[0;34m.\u001b[0m\u001b[0mdata\u001b[0m\u001b[0;34m,\u001b[0m \u001b[0msort_keys\u001b[0m\u001b[0;34m=\u001b[0m\u001b[0mTrue\u001b[0m\u001b[0;34m)\u001b[0m\u001b[0;34m\u001b[0m\u001b[0m\n",
      "\u001b[0;32m/Users/brendandoohan/anaconda2/lib/python2.7/site-packages/folium/folium.pyc\u001b[0m in \u001b[0;36mstyle_function\u001b[0;34m(x)\u001b[0m\n\u001b[1;32m    303\u001b[0m                 \u001b[0;34m'color'\u001b[0m\u001b[0;34m:\u001b[0m \u001b[0mline_color\u001b[0m\u001b[0;34m,\u001b[0m\u001b[0;34m\u001b[0m\u001b[0m\n\u001b[1;32m    304\u001b[0m                 \u001b[0;34m'fillOpacity'\u001b[0m\u001b[0;34m:\u001b[0m \u001b[0mfill_opacity\u001b[0m\u001b[0;34m,\u001b[0m\u001b[0;34m\u001b[0m\u001b[0m\n\u001b[0;32m--> 305\u001b[0;31m                 \u001b[0;34m'fillColor'\u001b[0m\u001b[0;34m:\u001b[0m \u001b[0mcolor_scale_fun\u001b[0m\u001b[0;34m(\u001b[0m\u001b[0mx\u001b[0m\u001b[0;34m)\u001b[0m\u001b[0;34m\u001b[0m\u001b[0m\n\u001b[0m\u001b[1;32m    306\u001b[0m             }\n\u001b[1;32m    307\u001b[0m \u001b[0;34m\u001b[0m\u001b[0m\n",
      "\u001b[0;32m/Users/brendandoohan/anaconda2/lib/python2.7/site-packages/folium/folium.pyc\u001b[0m in \u001b[0;36mcolor_scale_fun\u001b[0;34m(x)\u001b[0m\n\u001b[1;32m    291\u001b[0m                 return color_range[len(\n\u001b[1;32m    292\u001b[0m                     [u for u in color_domain if\n\u001b[0;32m--> 293\u001b[0;31m                      \u001b[0mget_by_key\u001b[0m\u001b[0;34m(\u001b[0m\u001b[0mx\u001b[0m\u001b[0;34m,\u001b[0m \u001b[0mkey_on\u001b[0m\u001b[0;34m)\u001b[0m \u001b[0;32min\u001b[0m \u001b[0mcolor_data\u001b[0m \u001b[0;32mand\u001b[0m\u001b[0;34m\u001b[0m\u001b[0m\n\u001b[0m\u001b[1;32m    294\u001b[0m                      u <= color_data[get_by_key(x, key_on)]])]\n\u001b[1;32m    295\u001b[0m         \u001b[0;32melse\u001b[0m\u001b[0;34m:\u001b[0m\u001b[0;34m\u001b[0m\u001b[0m\n",
      "\u001b[0;32m/Users/brendandoohan/anaconda2/lib/python2.7/site-packages/folium/folium.pyc\u001b[0m in \u001b[0;36mget_by_key\u001b[0;34m(obj, key)\u001b[0m\n\u001b[1;32m    286\u001b[0m                 return (obj.get(key, None) if len(key.split('.')) <= 1 else\n\u001b[1;32m    287\u001b[0m                         get_by_key(obj.get(key.split('.')[0], None),\n\u001b[0;32m--> 288\u001b[0;31m                                    '.'.join(key.split('.')[1:])))\n\u001b[0m\u001b[1;32m    289\u001b[0m \u001b[0;34m\u001b[0m\u001b[0m\n\u001b[1;32m    290\u001b[0m             \u001b[0;32mdef\u001b[0m \u001b[0mcolor_scale_fun\u001b[0m\u001b[0;34m(\u001b[0m\u001b[0mx\u001b[0m\u001b[0;34m)\u001b[0m\u001b[0;34m:\u001b[0m\u001b[0;34m\u001b[0m\u001b[0m\n",
      "\u001b[0;32m/Users/brendandoohan/anaconda2/lib/python2.7/site-packages/folium/folium.pyc\u001b[0m in \u001b[0;36mget_by_key\u001b[0;34m(obj, key)\u001b[0m\n\u001b[1;32m    285\u001b[0m             \u001b[0;32mdef\u001b[0m \u001b[0mget_by_key\u001b[0m\u001b[0;34m(\u001b[0m\u001b[0mobj\u001b[0m\u001b[0;34m,\u001b[0m \u001b[0mkey\u001b[0m\u001b[0;34m)\u001b[0m\u001b[0;34m:\u001b[0m\u001b[0;34m\u001b[0m\u001b[0m\n\u001b[1;32m    286\u001b[0m                 return (obj.get(key, None) if len(key.split('.')) <= 1 else\n\u001b[0;32m--> 287\u001b[0;31m                         get_by_key(obj.get(key.split('.')[0], None),\n\u001b[0m\u001b[1;32m    288\u001b[0m                                    '.'.join(key.split('.')[1:])))\n\u001b[1;32m    289\u001b[0m \u001b[0;34m\u001b[0m\u001b[0m\n",
      "\u001b[0;31mAttributeError\u001b[0m: 'NoneType' object has no attribute 'get'"
     ]
    },
    {
     "data": {
      "text/plain": [
       "<folium.folium.Map at 0x1a0e108690>"
      ]
     },
     "execution_count": 186,
     "metadata": {},
     "output_type": "execute_result"
    }
   ],
   "source": [
    "import os\n",
    "\n",
    "map1 = folium.Map(location=JC_COORDINATES, zoom_start=12)\n",
    "\n",
    "\n",
    "map1.choropleth(\n",
    "                    geo_data=open('JC_WardD.geojson').read(),\n",
    "                    data=crimedata2,\n",
    "                    columns=['District', 'Number'],\n",
    "                    key_on='features.geometry.properties.District',\n",
    "                    fill_color='YlGn',\n",
    ")\n",
    "\n",
    "map1"
   ]
  },
  {
   "cell_type": "code",
   "execution_count": 187,
   "metadata": {},
   "outputs": [
    {
     "data": {
      "text/plain": [
       "{u'coordinates': [[[618792.5421170034, 695136.4846226797],\n",
       "   [618766.1944006719, 695107.648066178],\n",
       "   [618764.478196755, 695105.7697890922],\n",
       "   [618741.9729924202, 695076.191436179],\n",
       "   [618728.0199363381, 695057.8528901786],\n",
       "   [618699.8949925862, 695029.727946423],\n",
       "   [618682.3356445022, 695005.362181507],\n",
       "   [618675.110265255, 694995.9934338406],\n",
       "   [618638.4499055035, 694903.2386980951],\n",
       "   [618622.5500029214, 694863.010104008],\n",
       "   [618620.6723820046, 694861.16135443],\n",
       "   [618596.9614714198, 694837.817241013],\n",
       "   [618571.2056174204, 694910.8374361768],\n",
       "   [618573.4398649223, 694934.8787266761],\n",
       "   [618550.3099899217, 694941.8301563412],\n",
       "   [618470.730096586, 694974.6201170087],\n",
       "   [618461.7901538387, 694978.7398594245],\n",
       "   [618457.458141502, 694979.8963531777],\n",
       "   [618453.6999469213, 694980.8999600932],\n",
       "   [618447.1100650877, 694981.1299465075],\n",
       "   [618441.2698536702, 694979.489857927],\n",
       "   [618435.8801006712, 694976.779889591],\n",
       "   [618431.2800442539, 694972.8300943449],\n",
       "   [618415.7774505876, 694956.2582770959],\n",
       "   [618397.0986821689, 694936.7599565089],\n",
       "   [618352.0803995021, 694889.7666121796],\n",
       "   [618329.576507505, 694866.2896250114],\n",
       "   [618308.5542398356, 694844.3802200109],\n",
       "   [618302.2888324223, 694837.8503774256],\n",
       "   [618268.8699360043, 694803.0217069238],\n",
       "   [618264.0923865028, 694798.0423861742],\n",
       "   [618256.5399081707, 694790.1710108444],\n",
       "   [618242.2899366692, 694775.3199906796],\n",
       "   [618224.3598544188, 694755.9499506801],\n",
       "   [618214.1899272539, 694741.990004845],\n",
       "   [618209.900237672, 694733.5408747569],\n",
       "   [618206.6098899208, 694727.0599165931],\n",
       "   [618200.2099683359, 694711.6498424262],\n",
       "   [618192.7998781689, 694688.5301380083],\n",
       "   [618188.5000180043, 694677.0498460084],\n",
       "   [618185.2700375877, 694670.8700683415],\n",
       "   [618181.4800189212, 694666.6099062562],\n",
       "   [618175.7798990868, 694662.8100450933],\n",
       "   [618168.6798476689, 694659.9701557606],\n",
       "   [618162.9898984209, 694658.7700269297],\n",
       "   [618155.5000840053, 694659.8399066776],\n",
       "   [618149.0499656722, 694662.0000073463],\n",
       "   [618145.4499072544, 694665.1899615899],\n",
       "   [618143.3101477548, 694668.4501256794],\n",
       "   [618140.9400737546, 694673.7201282606],\n",
       "   [618141.1598895863, 694681.3598767594],\n",
       "   [618142.7937445864, 694687.8949686736],\n",
       "   [618144.0299625881, 694692.8398406729],\n",
       "   [618151.1998957545, 694711.4798952565],\n",
       "   [618172.0226887539, 694754.4542187601],\n",
       "   [618202.2910009213, 694816.9219415933],\n",
       "   [618243.885734003, 694901.1934265941],\n",
       "   [618246.2423565872, 694905.9558842629],\n",
       "   [618259.6740882546, 694933.1018273458],\n",
       "   [618292.7757280879, 694999.9999875128],\n",
       "   [618296.1375980042, 695006.7945933416],\n",
       "   [618310.3751023374, 695035.7069370896],\n",
       "   [618317.1588814221, 695049.5848620906],\n",
       "   [618336.969865419, 695090.1900958419],\n",
       "   [618343.3766767532, 695099.5394865945],\n",
       "   [618347.730014503, 695105.9699199274],\n",
       "   [618350.5899169222, 695112.4298807606],\n",
       "   [618351.310059838, 695118.8799990937],\n",
       "   [618349.160129752, 695125.3301174268],\n",
       "   [618347.5932037532, 695126.9006523415],\n",
       "   [618344.8599415049, 695129.6401481777],\n",
       "   [618339.8399384208, 695132.5098930895],\n",
       "   [618331.9498623386, 695133.2198654264],\n",
       "   [618324.7700866722, 695131.7999207601],\n",
       "   [618320.2648463361, 695129.5929041728],\n",
       "   [618315.869842004, 695127.4400213435],\n",
       "   [618304.6900743358, 695120.3101143464],\n",
       "   [618289.9200907536, 695109.5201096758],\n",
       "   [618285.7658995874, 695107.144786343],\n",
       "   [618281.909936171, 695104.940066345],\n",
       "   [618273.8499129191, 695101.6700597629],\n",
       "   [618268.3591102548, 695100.513894096],\n",
       "   [618260.2200189196, 695098.7999867573],\n",
       "   [618250.1800127551, 695098.7999867573],\n",
       "   [618240.8601495028, 695099.5099590942],\n",
       "   [618237.7253132537, 695100.6867940128],\n",
       "   [618210.4901315048, 695111.589987427],\n",
       "   [618168.5135094188, 695133.4117941782],\n",
       "   [618142.0932866707, 695147.1460186765],\n",
       "   [618137.9499222524, 695149.2998857573],\n",
       "   [618061.174485255, 695185.7558495924],\n",
       "   [617907.4500551708, 695258.7501261756],\n",
       "   [617902.7354976721, 695260.9886387587],\n",
       "   [617674.6299827546, 695369.3001019284],\n",
       "   [617682.0262934193, 695384.9440995082],\n",
       "   [617794.403693337, 695621.8481532633],\n",
       "   [617822.4298840053, 695681.9100410119],\n",
       "   [617883.1069280021, 695807.7191725969],\n",
       "   [617897.2181202546, 695836.9897833467],\n",
       "   [617899.459913671, 695841.6600495949],\n",
       "   [617911.6157292537, 695866.8719414249],\n",
       "   [618008.5049711689, 696067.8436523452],\n",
       "   [618079.8598153368, 696216.6012288406],\n",
       "   [618125.5916792527, 696311.9409331754],\n",
       "   [618137.4125217535, 696336.584912762],\n",
       "   [618139.5401421711, 696341.0199432597],\n",
       "   [618224.0252094194, 696517.3069922626],\n",
       "   [618350.3185920045, 696781.4458996803],\n",
       "   [618420.1301321723, 696927.4000040963],\n",
       "   [618441.0054185055, 696917.6916901767],\n",
       "   [618464.6264342554, 696906.7061478421],\n",
       "   [618581.0100597553, 696852.5799437612],\n",
       "   [618625.8183690868, 696829.2912764251],\n",
       "   [618653.4498755038, 696814.9300846756],\n",
       "   [619216.9795883372, 696557.177975513],\n",
       "   [619210.4635252543, 696544.1898125112],\n",
       "   [619208.8214681707, 696540.6425755098],\n",
       "   [619205.0222631693, 696532.434586674],\n",
       "   [619200.3871018365, 696522.4208271801],\n",
       "   [619197.9658468366, 696517.0271371752],\n",
       "   [619197.0413080044, 696514.9680861756],\n",
       "   [619192.6896106713, 696508.0540580079],\n",
       "   [619187.4169834219, 696501.8142410964],\n",
       "   [619184.3864776716, 696499.105257012],\n",
       "   [619182.7175177522, 696497.6134620905],\n",
       "   [619181.3261163384, 696496.3696981743],\n",
       "   [619174.5361036696, 696491.8273844272],\n",
       "   [619172.3510686718, 696490.210589759],\n",
       "   [619172.3067774214, 696490.1777814254],\n",
       "   [619170.3612432554, 696488.1997670084],\n",
       "   [619168.7496979199, 696485.9441940933],\n",
       "   [619168.7227950878, 696485.890716508],\n",
       "   [619168.3573102541, 696485.1590906754],\n",
       "   [619167.5095429197, 696483.4635560066],\n",
       "   [619167.4714852534, 696483.3434775099],\n",
       "   [619167.3169580027, 696482.8556175902],\n",
       "   [619166.6716180854, 696480.8198605105],\n",
       "   [619166.5968150869, 696480.3208457604],\n",
       "   [619166.2565926723, 696478.0777400136],\n",
       "   [619162.3514167555, 696420.8183400929],\n",
       "   [619160.135213837, 696388.3203735948],\n",
       "   [619160.1358700022, 696387.954888761],\n",
       "   [619160.1099514216, 696386.2340916768],\n",
       "   [619160.0833766721, 696384.4896725938],\n",
       "   [619159.8848862536, 696381.5736679286],\n",
       "   [619158.8950588368, 696367.044169426],\n",
       "   [619158.7615289204, 696365.0848557577],\n",
       "   [619158.129640419, 696361.4339444265],\n",
       "   [619156.2352872528, 696350.4887563437],\n",
       "   [619155.4446064197, 696345.9198678434],\n",
       "   [619154.9774157554, 696344.2620627582],\n",
       "   [619151.5758477524, 696332.1954858452],\n",
       "   [619150.0886460021, 696327.2237110063],\n",
       "   [619149.3452091701, 696325.1466154233],\n",
       "   [619143.75171642, 696311.1761709303],\n",
       "   [619142.5027031712, 696308.0567545965],\n",
       "   [619140.7842026688, 696304.8356324285],\n",
       "   [619135.0552115031, 696294.098449178],\n",
       "   [619132.7957015857, 696289.8638775945],\n",
       "   [619131.1195238382, 696287.4111265913],\n",
       "   [619123.8898795024, 696276.8304390907],\n",
       "   [619121.0499901697, 696272.9255912602],\n",
       "   [619110.8367560022, 696260.0128874257],\n",
       "   [619099.1556770056, 696245.0988752618],\n",
       "   [619098.6648643389, 696244.4305695072],\n",
       "   [619095.5142800882, 696240.4522310123],\n",
       "   [619089.5438195877, 696232.0113030076],\n",
       "   [619075.7443065047, 696212.5018275902],\n",
       "   [619071.6577005051, 696206.7246081755],\n",
       "   [619065.9218195863, 696197.6055319235],\n",
       "   [619054.0993366688, 696178.80898159],\n",
       "   [619049.662337672, 696171.7548618466],\n",
       "   [619044.9782919213, 696163.3277133405],\n",
       "   [619036.601340171, 696148.2558930963],\n",
       "   [619033.7506240867, 696143.1269663423],\n",
       "   [619029.592495922, 696135.6453540102],\n",
       "   [619026.2890248373, 696128.8609187603],\n",
       "   [619014.6673289202, 696104.9925281778],\n",
       "   [619011.507230252, 696098.5023836792],\n",
       "   [619009.6243600026, 696094.0358571783],\n",
       "   [619009.1309226714, 696092.8655839264],\n",
       "   [618995.4593620859, 696060.4345464259],\n",
       "   [618981.7946912535, 696022.1521426737],\n",
       "   [618980.5522396713, 696018.670850426],\n",
       "   [618977.4561172538, 696008.0911471769],\n",
       "   [618974.019444339, 695996.3477323428],\n",
       "   [618969.5995056704, 695981.244088009],\n",
       "   [618968.09754017, 695976.1115523428],\n",
       "   [618966.2727406695, 695968.1945734248],\n",
       "   [618966.1477409191, 695967.6522516757],\n",
       "   [618959.3629775867, 695938.218255423],\n",
       "   [618958.137258254, 695932.9003526792],\n",
       "   [618957.2632442527, 695927.7599430084],\n",
       "   [618950.7051865049, 695889.1832485124],\n",
       "   [618945.9092643373, 695849.0684993416],\n",
       "   [618943.8023131713, 695807.5718631744],\n",
       "   [618936.4411074221, 695719.2636408433],\n",
       "   [618939.331193503, 695700.1478654295],\n",
       "   [618957.4574695863, 695580.2524359301],\n",
       "   [618963.6776015051, 695539.1098016798],\n",
       "   [618974.2809267528, 695468.9767398462],\n",
       "   [618986.6513088383, 695387.1547250077],\n",
       "   [618987.8127238378, 695379.452640675],\n",
       "   [618988.0446787551, 695371.6347429231],\n",
       "   [618987.9377235882, 695366.3296354264],\n",
       "   [618987.8688260876, 695364.473668009],\n",
       "   [618987.8678418361, 695364.4507021755],\n",
       "   [618987.6401520036, 695361.069147259],\n",
       "   [618987.6355588362, 695360.9963127598],\n",
       "   [618987.6286690868, 695360.8870610073],\n",
       "   [618986.3140391707, 695349.2069662586],\n",
       "   [618986.3114145026, 695349.1905620918],\n",
       "   [618983.2241503373, 695334.3346206769],\n",
       "   [618982.8334030882, 695333.1463028416],\n",
       "   [618978.136234004, 695318.8582736775],\n",
       "   [618977.3740964197, 695316.5400368422],\n",
       "   [618976.194308754, 695314.0876139253],\n",
       "   [618970.9695816711, 695303.22772751],\n",
       "   [618969.2533777542, 695299.6601493433],\n",
       "   [618967.7530526705, 695297.365862593],\n",
       "   [618961.7130385041, 695288.130644843],\n",
       "   [618959.0007735863, 695283.9836715087],\n",
       "   [618957.6776135042, 695282.444304511],\n",
       "   [618947.7724495865, 695270.9197212607],\n",
       "   [618946.7911523357, 695269.7779912576],\n",
       "   [618946.054605253, 695269.0319297612],\n",
       "   [618945.8810491711, 695268.826877676],\n",
       "   [618945.6815745048, 695268.6467599273],\n",
       "   [618942.2219357528, 695265.30982434],\n",
       "   [618934.0733300038, 695258.1920564249],\n",
       "   [618933.9814666696, 695258.1192219257],\n",
       "   [618933.8095510043, 695257.9899570942],\n",
       "   [618933.088423837, 695257.4489476755],\n",
       "   [618925.4739377536, 695251.7196284235],\n",
       "   [618924.202942919, 695250.8479110077],\n",
       "   [618914.8276335858, 695244.9676734284],\n",
       "   [618891.1813554205, 695225.1655476764],\n",
       "   [618886.6501965038, 695221.3712639287],\n",
       "   [618878.5462100878, 695214.5835478455],\n",
       "   [618838.76118467, 695181.2679976746],\n",
       "   [618816.1890513375, 695162.3654764295],\n",
       "   [618814.038793169, 695160.0121346787],\n",
       "   [618806.317680005, 695151.5616922602],\n",
       "   [618792.5421170034, 695136.4846226797]]],\n",
       " u'type': u'Polygon'}"
      ]
     },
     "execution_count": 187,
     "metadata": {},
     "output_type": "execute_result"
    }
   ],
   "source": [
    "pd.read_json('JC_WardD.geojson')[\"features\"][0][\"geometry\"]"
   ]
  },
  {
   "cell_type": "code",
   "execution_count": 188,
   "metadata": {
    "collapsed": true
   },
   "outputs": [],
   "source": [
    "coords = pd.read_json('JC_WardD.geojson')[\"features\"][0][\"geometry\"][\"coordinates\"][0]"
   ]
  },
  {
   "cell_type": "code",
   "execution_count": 189,
   "metadata": {},
   "outputs": [
    {
     "data": {
      "text/plain": [
       "[[618792.5421170034, 695136.4846226797],\n",
       " [618766.1944006719, 695107.648066178],\n",
       " [618764.478196755, 695105.7697890922],\n",
       " [618741.9729924202, 695076.191436179],\n",
       " [618728.0199363381, 695057.8528901786],\n",
       " [618699.8949925862, 695029.727946423],\n",
       " [618682.3356445022, 695005.362181507],\n",
       " [618675.110265255, 694995.9934338406],\n",
       " [618638.4499055035, 694903.2386980951],\n",
       " [618622.5500029214, 694863.010104008],\n",
       " [618620.6723820046, 694861.16135443],\n",
       " [618596.9614714198, 694837.817241013],\n",
       " [618571.2056174204, 694910.8374361768],\n",
       " [618573.4398649223, 694934.8787266761],\n",
       " [618550.3099899217, 694941.8301563412],\n",
       " [618470.730096586, 694974.6201170087],\n",
       " [618461.7901538387, 694978.7398594245],\n",
       " [618457.458141502, 694979.8963531777],\n",
       " [618453.6999469213, 694980.8999600932],\n",
       " [618447.1100650877, 694981.1299465075],\n",
       " [618441.2698536702, 694979.489857927],\n",
       " [618435.8801006712, 694976.779889591],\n",
       " [618431.2800442539, 694972.8300943449],\n",
       " [618415.7774505876, 694956.2582770959],\n",
       " [618397.0986821689, 694936.7599565089],\n",
       " [618352.0803995021, 694889.7666121796],\n",
       " [618329.576507505, 694866.2896250114],\n",
       " [618308.5542398356, 694844.3802200109],\n",
       " [618302.2888324223, 694837.8503774256],\n",
       " [618268.8699360043, 694803.0217069238],\n",
       " [618264.0923865028, 694798.0423861742],\n",
       " [618256.5399081707, 694790.1710108444],\n",
       " [618242.2899366692, 694775.3199906796],\n",
       " [618224.3598544188, 694755.9499506801],\n",
       " [618214.1899272539, 694741.990004845],\n",
       " [618209.900237672, 694733.5408747569],\n",
       " [618206.6098899208, 694727.0599165931],\n",
       " [618200.2099683359, 694711.6498424262],\n",
       " [618192.7998781689, 694688.5301380083],\n",
       " [618188.5000180043, 694677.0498460084],\n",
       " [618185.2700375877, 694670.8700683415],\n",
       " [618181.4800189212, 694666.6099062562],\n",
       " [618175.7798990868, 694662.8100450933],\n",
       " [618168.6798476689, 694659.9701557606],\n",
       " [618162.9898984209, 694658.7700269297],\n",
       " [618155.5000840053, 694659.8399066776],\n",
       " [618149.0499656722, 694662.0000073463],\n",
       " [618145.4499072544, 694665.1899615899],\n",
       " [618143.3101477548, 694668.4501256794],\n",
       " [618140.9400737546, 694673.7201282606],\n",
       " [618141.1598895863, 694681.3598767594],\n",
       " [618142.7937445864, 694687.8949686736],\n",
       " [618144.0299625881, 694692.8398406729],\n",
       " [618151.1998957545, 694711.4798952565],\n",
       " [618172.0226887539, 694754.4542187601],\n",
       " [618202.2910009213, 694816.9219415933],\n",
       " [618243.885734003, 694901.1934265941],\n",
       " [618246.2423565872, 694905.9558842629],\n",
       " [618259.6740882546, 694933.1018273458],\n",
       " [618292.7757280879, 694999.9999875128],\n",
       " [618296.1375980042, 695006.7945933416],\n",
       " [618310.3751023374, 695035.7069370896],\n",
       " [618317.1588814221, 695049.5848620906],\n",
       " [618336.969865419, 695090.1900958419],\n",
       " [618343.3766767532, 695099.5394865945],\n",
       " [618347.730014503, 695105.9699199274],\n",
       " [618350.5899169222, 695112.4298807606],\n",
       " [618351.310059838, 695118.8799990937],\n",
       " [618349.160129752, 695125.3301174268],\n",
       " [618347.5932037532, 695126.9006523415],\n",
       " [618344.8599415049, 695129.6401481777],\n",
       " [618339.8399384208, 695132.5098930895],\n",
       " [618331.9498623386, 695133.2198654264],\n",
       " [618324.7700866722, 695131.7999207601],\n",
       " [618320.2648463361, 695129.5929041728],\n",
       " [618315.869842004, 695127.4400213435],\n",
       " [618304.6900743358, 695120.3101143464],\n",
       " [618289.9200907536, 695109.5201096758],\n",
       " [618285.7658995874, 695107.144786343],\n",
       " [618281.909936171, 695104.940066345],\n",
       " [618273.8499129191, 695101.6700597629],\n",
       " [618268.3591102548, 695100.513894096],\n",
       " [618260.2200189196, 695098.7999867573],\n",
       " [618250.1800127551, 695098.7999867573],\n",
       " [618240.8601495028, 695099.5099590942],\n",
       " [618237.7253132537, 695100.6867940128],\n",
       " [618210.4901315048, 695111.589987427],\n",
       " [618168.5135094188, 695133.4117941782],\n",
       " [618142.0932866707, 695147.1460186765],\n",
       " [618137.9499222524, 695149.2998857573],\n",
       " [618061.174485255, 695185.7558495924],\n",
       " [617907.4500551708, 695258.7501261756],\n",
       " [617902.7354976721, 695260.9886387587],\n",
       " [617674.6299827546, 695369.3001019284],\n",
       " [617682.0262934193, 695384.9440995082],\n",
       " [617794.403693337, 695621.8481532633],\n",
       " [617822.4298840053, 695681.9100410119],\n",
       " [617883.1069280021, 695807.7191725969],\n",
       " [617897.2181202546, 695836.9897833467],\n",
       " [617899.459913671, 695841.6600495949],\n",
       " [617911.6157292537, 695866.8719414249],\n",
       " [618008.5049711689, 696067.8436523452],\n",
       " [618079.8598153368, 696216.6012288406],\n",
       " [618125.5916792527, 696311.9409331754],\n",
       " [618137.4125217535, 696336.584912762],\n",
       " [618139.5401421711, 696341.0199432597],\n",
       " [618224.0252094194, 696517.3069922626],\n",
       " [618350.3185920045, 696781.4458996803],\n",
       " [618420.1301321723, 696927.4000040963],\n",
       " [618441.0054185055, 696917.6916901767],\n",
       " [618464.6264342554, 696906.7061478421],\n",
       " [618581.0100597553, 696852.5799437612],\n",
       " [618625.8183690868, 696829.2912764251],\n",
       " [618653.4498755038, 696814.9300846756],\n",
       " [619216.9795883372, 696557.177975513],\n",
       " [619210.4635252543, 696544.1898125112],\n",
       " [619208.8214681707, 696540.6425755098],\n",
       " [619205.0222631693, 696532.434586674],\n",
       " [619200.3871018365, 696522.4208271801],\n",
       " [619197.9658468366, 696517.0271371752],\n",
       " [619197.0413080044, 696514.9680861756],\n",
       " [619192.6896106713, 696508.0540580079],\n",
       " [619187.4169834219, 696501.8142410964],\n",
       " [619184.3864776716, 696499.105257012],\n",
       " [619182.7175177522, 696497.6134620905],\n",
       " [619181.3261163384, 696496.3696981743],\n",
       " [619174.5361036696, 696491.8273844272],\n",
       " [619172.3510686718, 696490.210589759],\n",
       " [619172.3067774214, 696490.1777814254],\n",
       " [619170.3612432554, 696488.1997670084],\n",
       " [619168.7496979199, 696485.9441940933],\n",
       " [619168.7227950878, 696485.890716508],\n",
       " [619168.3573102541, 696485.1590906754],\n",
       " [619167.5095429197, 696483.4635560066],\n",
       " [619167.4714852534, 696483.3434775099],\n",
       " [619167.3169580027, 696482.8556175902],\n",
       " [619166.6716180854, 696480.8198605105],\n",
       " [619166.5968150869, 696480.3208457604],\n",
       " [619166.2565926723, 696478.0777400136],\n",
       " [619162.3514167555, 696420.8183400929],\n",
       " [619160.135213837, 696388.3203735948],\n",
       " [619160.1358700022, 696387.954888761],\n",
       " [619160.1099514216, 696386.2340916768],\n",
       " [619160.0833766721, 696384.4896725938],\n",
       " [619159.8848862536, 696381.5736679286],\n",
       " [619158.8950588368, 696367.044169426],\n",
       " [619158.7615289204, 696365.0848557577],\n",
       " [619158.129640419, 696361.4339444265],\n",
       " [619156.2352872528, 696350.4887563437],\n",
       " [619155.4446064197, 696345.9198678434],\n",
       " [619154.9774157554, 696344.2620627582],\n",
       " [619151.5758477524, 696332.1954858452],\n",
       " [619150.0886460021, 696327.2237110063],\n",
       " [619149.3452091701, 696325.1466154233],\n",
       " [619143.75171642, 696311.1761709303],\n",
       " [619142.5027031712, 696308.0567545965],\n",
       " [619140.7842026688, 696304.8356324285],\n",
       " [619135.0552115031, 696294.098449178],\n",
       " [619132.7957015857, 696289.8638775945],\n",
       " [619131.1195238382, 696287.4111265913],\n",
       " [619123.8898795024, 696276.8304390907],\n",
       " [619121.0499901697, 696272.9255912602],\n",
       " [619110.8367560022, 696260.0128874257],\n",
       " [619099.1556770056, 696245.0988752618],\n",
       " [619098.6648643389, 696244.4305695072],\n",
       " [619095.5142800882, 696240.4522310123],\n",
       " [619089.5438195877, 696232.0113030076],\n",
       " [619075.7443065047, 696212.5018275902],\n",
       " [619071.6577005051, 696206.7246081755],\n",
       " [619065.9218195863, 696197.6055319235],\n",
       " [619054.0993366688, 696178.80898159],\n",
       " [619049.662337672, 696171.7548618466],\n",
       " [619044.9782919213, 696163.3277133405],\n",
       " [619036.601340171, 696148.2558930963],\n",
       " [619033.7506240867, 696143.1269663423],\n",
       " [619029.592495922, 696135.6453540102],\n",
       " [619026.2890248373, 696128.8609187603],\n",
       " [619014.6673289202, 696104.9925281778],\n",
       " [619011.507230252, 696098.5023836792],\n",
       " [619009.6243600026, 696094.0358571783],\n",
       " [619009.1309226714, 696092.8655839264],\n",
       " [618995.4593620859, 696060.4345464259],\n",
       " [618981.7946912535, 696022.1521426737],\n",
       " [618980.5522396713, 696018.670850426],\n",
       " [618977.4561172538, 696008.0911471769],\n",
       " [618974.019444339, 695996.3477323428],\n",
       " [618969.5995056704, 695981.244088009],\n",
       " [618968.09754017, 695976.1115523428],\n",
       " [618966.2727406695, 695968.1945734248],\n",
       " [618966.1477409191, 695967.6522516757],\n",
       " [618959.3629775867, 695938.218255423],\n",
       " [618958.137258254, 695932.9003526792],\n",
       " [618957.2632442527, 695927.7599430084],\n",
       " [618950.7051865049, 695889.1832485124],\n",
       " [618945.9092643373, 695849.0684993416],\n",
       " [618943.8023131713, 695807.5718631744],\n",
       " [618936.4411074221, 695719.2636408433],\n",
       " [618939.331193503, 695700.1478654295],\n",
       " [618957.4574695863, 695580.2524359301],\n",
       " [618963.6776015051, 695539.1098016798],\n",
       " [618974.2809267528, 695468.9767398462],\n",
       " [618986.6513088383, 695387.1547250077],\n",
       " [618987.8127238378, 695379.452640675],\n",
       " [618988.0446787551, 695371.6347429231],\n",
       " [618987.9377235882, 695366.3296354264],\n",
       " [618987.8688260876, 695364.473668009],\n",
       " [618987.8678418361, 695364.4507021755],\n",
       " [618987.6401520036, 695361.069147259],\n",
       " [618987.6355588362, 695360.9963127598],\n",
       " [618987.6286690868, 695360.8870610073],\n",
       " [618986.3140391707, 695349.2069662586],\n",
       " [618986.3114145026, 695349.1905620918],\n",
       " [618983.2241503373, 695334.3346206769],\n",
       " [618982.8334030882, 695333.1463028416],\n",
       " [618978.136234004, 695318.8582736775],\n",
       " [618977.3740964197, 695316.5400368422],\n",
       " [618976.194308754, 695314.0876139253],\n",
       " [618970.9695816711, 695303.22772751],\n",
       " [618969.2533777542, 695299.6601493433],\n",
       " [618967.7530526705, 695297.365862593],\n",
       " [618961.7130385041, 695288.130644843],\n",
       " [618959.0007735863, 695283.9836715087],\n",
       " [618957.6776135042, 695282.444304511],\n",
       " [618947.7724495865, 695270.9197212607],\n",
       " [618946.7911523357, 695269.7779912576],\n",
       " [618946.054605253, 695269.0319297612],\n",
       " [618945.8810491711, 695268.826877676],\n",
       " [618945.6815745048, 695268.6467599273],\n",
       " [618942.2219357528, 695265.30982434],\n",
       " [618934.0733300038, 695258.1920564249],\n",
       " [618933.9814666696, 695258.1192219257],\n",
       " [618933.8095510043, 695257.9899570942],\n",
       " [618933.088423837, 695257.4489476755],\n",
       " [618925.4739377536, 695251.7196284235],\n",
       " [618924.202942919, 695250.8479110077],\n",
       " [618914.8276335858, 695244.9676734284],\n",
       " [618891.1813554205, 695225.1655476764],\n",
       " [618886.6501965038, 695221.3712639287],\n",
       " [618878.5462100878, 695214.5835478455],\n",
       " [618838.76118467, 695181.2679976746],\n",
       " [618816.1890513375, 695162.3654764295],\n",
       " [618814.038793169, 695160.0121346787],\n",
       " [618806.317680005, 695151.5616922602],\n",
       " [618792.5421170034, 695136.4846226797]]"
      ]
     },
     "execution_count": 189,
     "metadata": {},
     "output_type": "execute_result"
    }
   ],
   "source": [
    "coords"
   ]
  },
  {
   "cell_type": "code",
   "execution_count": null,
   "metadata": {
    "collapsed": true
   },
   "outputs": [],
   "source": []
  }
 ],
 "metadata": {
  "kernelspec": {
   "display_name": "Python 2",
   "language": "python",
   "name": "python2"
  },
  "language_info": {
   "codemirror_mode": {
    "name": "ipython",
    "version": 2
   },
   "file_extension": ".py",
   "mimetype": "text/x-python",
   "name": "python",
   "nbconvert_exporter": "python",
   "pygments_lexer": "ipython2",
   "version": "2.7.13"
  }
 },
 "nbformat": 4,
 "nbformat_minor": 2
}
