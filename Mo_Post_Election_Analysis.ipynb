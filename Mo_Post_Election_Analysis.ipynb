{
 "cells": [
  {
   "cell_type": "code",
   "execution_count": 202,
   "metadata": {},
   "outputs": [
    {
     "data": {
      "text/html": [
       "<script>\n",
       "code_show=true; \n",
       "function code_toggle() {\n",
       " if (code_show){\n",
       " $('div.input').hide();\n",
       " } else {\n",
       " $('div.input').show();\n",
       " }\n",
       " code_show = !code_show\n",
       "} \n",
       "$( document ).ready(code_toggle);\n",
       "</script>\n",
       "<form action=\"javascript:code_toggle()\"><input type=\"submit\" value=\"Click here to toggle on/off the raw code.\"></form>"
      ],
      "text/plain": [
       "<IPython.core.display.HTML object>"
      ]
     },
     "execution_count": 202,
     "metadata": {},
     "output_type": "execute_result"
    }
   ],
   "source": [
    "from IPython.display import HTML\n",
    "\n",
    "HTML('''<script>\n",
    "code_show=true; \n",
    "function code_toggle() {\n",
    " if (code_show){\n",
    " $('div.input').hide();\n",
    " } else {\n",
    " $('div.input').show();\n",
    " }\n",
    " code_show = !code_show\n",
    "} \n",
    "$( document ).ready(code_toggle);\n",
    "</script>\n",
    "<form action=\"javascript:code_toggle()\"><input type=\"submit\" value=\"Click here to toggle on/off the raw code.\"></form>''')"
   ]
  },
  {
   "cell_type": "markdown",
   "metadata": {},
   "source": [
    "# Ward D Election Results"
   ]
  },
  {
   "cell_type": "markdown",
   "metadata": {},
   "source": [
    "Brendan Doohan  \n",
    "February 10, 2018"
   ]
  },
  {
   "cell_type": "code",
   "execution_count": 1,
   "metadata": {
    "collapsed": true
   },
   "outputs": [],
   "source": [
    "import pandas as pd\n",
    "import numpy as np\n",
    "import seaborn as sns; sns.set()\n",
    "import warnings\n",
    "warnings.filterwarnings('ignore')\n",
    "import matplotlib.pyplot as plt"
   ]
  },
  {
   "cell_type": "code",
   "execution_count": 3,
   "metadata": {
    "collapsed": true
   },
   "outputs": [],
   "source": [
    "import os\n",
    "#os.chdir(\"C:\\\\Users\\\\nwdoohanbr\\\\Desktop\\\\WardD\\\\Jersey-City-Ward-D-Election\")\n",
    "os.chdir(\"/Users/brendandoohan/Desktop/Jersey City Ward D Election/Jersey-City-Ward-D-Election\")"
   ]
  },
  {
   "cell_type": "markdown",
   "metadata": {},
   "source": [
    "<img src=\"https://github.com/bdoohan/Jersey-City-Ward-D-Election/blob/master/District%20Guide.jpeg?raw=true\" alt=\"Districts\" height=\"600\" width=\"600\" align=\"right\" hspace=0>\n",
    "<p align=\"left\">This whitepaper analyzes the results of Jersey City city council race for Ward D that was held on November 7th. In that election, incumbent Michael Yun (\"Yun\") ran against Moriah Kinberg (\"Mo\"), Carmen Vega (\"Vega\") and Rafael Torres (\"Torres\"). Yun won the election.</p>  \n",
    "\n",
    "- Yun won with **2,613** votes    \n",
    "- Mo had **1,335** votes  \n",
    "- Vega had **397** votes    \n",
    "- Torres had **131** votes\n",
    "\n",
    "<p>This paper breaks down the results by district, race, and candidate. The predictive model used to identify likely voters is also analyzed.</p>\n",
    "<br clear=\"left\"></br>\n",
    "<p>Specifically, this paper addresses the following questions:</p> "
   ]
  },
  {
   "cell_type": "code",
   "execution_count": 4,
   "metadata": {
    "collapsed": true
   },
   "outputs": [],
   "source": [
    "results = pd.read_csv(\"JC_WARD_D_edited.csv\", header=0, error_bad_lines=False, verbose=False, encoding=\"UTF-7\")"
   ]
  },
  {
   "cell_type": "code",
   "execution_count": 5,
   "metadata": {
    "collapsed": true
   },
   "outputs": [],
   "source": [
    "results = results.drop('Unnamed: 8', axis=1)"
   ]
  },
  {
   "cell_type": "markdown",
   "metadata": {},
   "source": [
    "### Questions to Ask"
   ]
  },
  {
   "cell_type": "markdown",
   "metadata": {},
   "source": [
    "1. How was turnout by district?\n",
    "2. What was the racial makeup of those who did vote?\n",
    "3. Did Mo's supporters come out and vote? \n",
    "4. Where did Mo perform best?\n",
    "5. Did the [Random Forest model](https://en.wikipedia.org/wiki/Random_forest) used to pinpoint likely voters accurately predict who would vote?"
   ]
  },
  {
   "cell_type": "markdown",
   "metadata": {},
   "source": [
    "The paper then concludes by aggregating these insights to summarize what can be learned from the results of election. The insights aim to shed light on the voting behavior of Ward D--a ward experiencing rapid changes in terms of development and demographics."
   ]
  },
  {
   "cell_type": "markdown",
   "metadata": {},
   "source": [
    "### Q1. How was turnout by district?"
   ]
  },
  {
   "cell_type": "markdown",
   "metadata": {},
   "source": [
    "<img src=\"https://raw.githubusercontent.com/bdoohan/Jersey-City-Ward-D-Election/master/All%20Voters%20Prcnt%20Labels.jpeg\" alt=\"Districts\" height=\"700\" width=\"700\" align=\"right\" hspace=0>\n",
    "<p align=\"left\">This chart breaks down voter turnout by District. The colors correspond to the percent of total voters that each district represents. Blue colors show districts that had a high percentage of the total votes.</p>  \n",
    "<br clear=\"left\"></br>\n",
    "    <p>Districts 13, 4, 5, 7 and 15 had high turnout. Overall, <b>the East side of the Heights came out and voted.</b> This is a section where Mo had strong support. The districts will be broken out for each candidate in the later sections.</p>\n",
    "<br clear=\"left\"></br>\n",
    "<p>Here are the vote totals for each district:</p> "
   ]
  },
  {
   "cell_type": "code",
   "execution_count": 235,
   "metadata": {},
   "outputs": [
    {
     "data": {
      "text/html": [
       "<div>\n",
       "<style>\n",
       "    .dataframe thead tr:only-child th {\n",
       "        text-align: right;\n",
       "    }\n",
       "\n",
       "    .dataframe thead th {\n",
       "        text-align: left;\n",
       "    }\n",
       "\n",
       "    .dataframe tbody tr th {\n",
       "        vertical-align: top;\n",
       "    }\n",
       "</style>\n",
       "<table border=\"1\" class=\"dataframe\">\n",
       "  <thead>\n",
       "    <tr style=\"text-align: right;\">\n",
       "      <th>Dist_VotI</th>\n",
       "      <th>1.0</th>\n",
       "      <th>2.0</th>\n",
       "      <th>3.0</th>\n",
       "      <th>4.0</th>\n",
       "      <th>5.0</th>\n",
       "      <th>6.0</th>\n",
       "      <th>7.0</th>\n",
       "      <th>8.0</th>\n",
       "      <th>9.0</th>\n",
       "      <th>10.0</th>\n",
       "      <th>11.0</th>\n",
       "      <th>12.0</th>\n",
       "      <th>13.0</th>\n",
       "      <th>14.0</th>\n",
       "      <th>15.0</th>\n",
       "      <th>16.0</th>\n",
       "      <th>17.0</th>\n",
       "      <th>18.0</th>\n",
       "      <th>19.0</th>\n",
       "      <th>20.0</th>\n",
       "      <th>21.0</th>\n",
       "      <th>22.0</th>\n",
       "      <th>23.0</th>\n",
       "      <th>24.0</th>\n",
       "      <th>25.0</th>\n",
       "      <th>26.0</th>\n",
       "      <th>27.0</th>\n",
       "      <th>28.0</th>\n",
       "      <th>29.0</th>\n",
       "    </tr>\n",
       "  </thead>\n",
       "  <tbody>\n",
       "    <tr>\n",
       "      <th>Voter_Count</th>\n",
       "      <td>180.0</td>\n",
       "      <td>180.0</td>\n",
       "      <td>212.0</td>\n",
       "      <td>306.0</td>\n",
       "      <td>276.0</td>\n",
       "      <td>206.0</td>\n",
       "      <td>250.0</td>\n",
       "      <td>227.0</td>\n",
       "      <td>255.0</td>\n",
       "      <td>243.0</td>\n",
       "      <td>148.0</td>\n",
       "      <td>240.0</td>\n",
       "      <td>365.0</td>\n",
       "      <td>154.0</td>\n",
       "      <td>252.0</td>\n",
       "      <td>161.0</td>\n",
       "      <td>213.0</td>\n",
       "      <td>181.0</td>\n",
       "      <td>213.0</td>\n",
       "      <td>277.0</td>\n",
       "      <td>228.0</td>\n",
       "      <td>228.0</td>\n",
       "      <td>161.0</td>\n",
       "      <td>145.0</td>\n",
       "      <td>243.0</td>\n",
       "      <td>195.0</td>\n",
       "      <td>260.0</td>\n",
       "      <td>74.0</td>\n",
       "      <td>235.0</td>\n",
       "    </tr>\n",
       "    <tr>\n",
       "      <th>District</th>\n",
       "      <td>1.0</td>\n",
       "      <td>2.0</td>\n",
       "      <td>3.0</td>\n",
       "      <td>4.0</td>\n",
       "      <td>5.0</td>\n",
       "      <td>6.0</td>\n",
       "      <td>7.0</td>\n",
       "      <td>8.0</td>\n",
       "      <td>9.0</td>\n",
       "      <td>10.0</td>\n",
       "      <td>11.0</td>\n",
       "      <td>12.0</td>\n",
       "      <td>13.0</td>\n",
       "      <td>14.0</td>\n",
       "      <td>15.0</td>\n",
       "      <td>16.0</td>\n",
       "      <td>17.0</td>\n",
       "      <td>18.0</td>\n",
       "      <td>19.0</td>\n",
       "      <td>20.0</td>\n",
       "      <td>21.0</td>\n",
       "      <td>22.0</td>\n",
       "      <td>23.0</td>\n",
       "      <td>24.0</td>\n",
       "      <td>25.0</td>\n",
       "      <td>26.0</td>\n",
       "      <td>27.0</td>\n",
       "      <td>28.0</td>\n",
       "      <td>29.0</td>\n",
       "    </tr>\n",
       "  </tbody>\n",
       "</table>\n",
       "</div>"
      ],
      "text/plain": [
       "Dist_VotI     1.0    2.0    3.0    4.0    5.0    6.0    7.0    8.0    9.0   \\\n",
       "Voter_Count  180.0  180.0  212.0  306.0  276.0  206.0  250.0  227.0  255.0   \n",
       "District       1.0    2.0    3.0    4.0    5.0    6.0    7.0    8.0    9.0   \n",
       "\n",
       "Dist_VotI     10.0   11.0   12.0   13.0   14.0   15.0   16.0   17.0   18.0  \\\n",
       "Voter_Count  243.0  148.0  240.0  365.0  154.0  252.0  161.0  213.0  181.0   \n",
       "District      10.0   11.0   12.0   13.0   14.0   15.0   16.0   17.0   18.0   \n",
       "\n",
       "Dist_VotI     19.0   20.0   21.0   22.0   23.0   24.0   25.0   26.0   27.0  \\\n",
       "Voter_Count  213.0  277.0  228.0  228.0  161.0  145.0  243.0  195.0  260.0   \n",
       "District      19.0   20.0   21.0   22.0   23.0   24.0   25.0   26.0   27.0   \n",
       "\n",
       "Dist_VotI    28.0   29.0  \n",
       "Voter_Count  74.0  235.0  \n",
       "District     28.0   29.0  "
      ]
     },
     "metadata": {},
     "output_type": "display_data"
    }
   ],
   "source": [
    "from IPython.display import display\n",
    "\n",
    "pd.options.display.max_columns = None\n",
    "\n",
    "adf = pd.DataFrame(\n",
    "    results[results.Dist_VotI!=31].groupby('Dist_VotI')[\"Voter_ID\"].count())\n",
    "adf[\"Dist\"] = adf.index\n",
    "adf.columns = [\"Voter_Count\", \"District\"]\n",
    "display(adf.transpose())"
   ]
  },
  {
   "cell_type": "markdown",
   "metadata": {},
   "source": [
    "### Q2. What was the racial makeup of those who did vote?"
   ]
  },
  {
   "cell_type": "markdown",
   "metadata": {},
   "source": [
    "#### White voters"
   ]
  },
  {
   "cell_type": "markdown",
   "metadata": {},
   "source": [
    "<img src=\"https://github.com/bdoohan/Jersey-City-Ward-D-Election/blob/master/Prcnt%20White%20Labels.jpeg?raw=true\" alt=\"White_Voters\" height=\"700\" width=\"700\" align=\"right\" hspace=0>\n",
    "<p align=\"left\">This chart shows the percent of Ward D <b>white voters</b> for each District. Blue colors show districts that had a high percentage of the total <b>white voters</b>.</p>  \n",
    "<br clear=\"left\"></br>\n",
    "    <p>Districts 4, 5, 7 and 9 have a high percentage of the total white votes. Overall, <b>the East side of the Heights is where much of the white voters live.</b> This is a section where Mo had strong support.</p>\n",
    "<br clear=\"left\"></br>"
   ]
  },
  {
   "cell_type": "markdown",
   "metadata": {},
   "source": [
    "#### Hispanic voters"
   ]
  },
  {
   "cell_type": "markdown",
   "metadata": {},
   "source": [
    "<img src=\"https://github.com/bdoohan/Jersey-City-Ward-D-Election/blob/master/Prcnt%20hispanic%20Labels.jpeg?raw=true\" alt=\"Hispanic_Voters\" height=\"700\" width=\"700\" align=\"right\" hspace=0>\n",
    "<p align=\"left\">This chart shows the percent of Ward D <b>hispanic voters</b> for each District. Blue colors show districts that had a high percentage of the total <b>hispanic voters</b>.</p>  \n",
    "<br clear=\"left\"></br>\n",
    "    <p>Districts 13, 20, 5, 27 and 22 have a high percentage of the total hispanic votes. Overall, <b>the North and West sides of the Heights are where much of the hispanic voters live.</b></p>\n",
    "<br clear=\"left\"></br>"
   ]
  },
  {
   "cell_type": "markdown",
   "metadata": {},
   "source": [
    "#### Black voters"
   ]
  },
  {
   "cell_type": "markdown",
   "metadata": {},
   "source": [
    "<img src=\"https://github.com/bdoohan/Jersey-City-Ward-D-Election/blob/master/Prcnt%20Black%20Labels.jpeg?raw=true\" alt=\"Black_Voters\" height=\"700\" width=\"700\" align=\"right\" hspace=0>\n",
    "<p align=\"left\">This chart shows the percent of Ward D <b>black voters</b> for each District. Blue colors show districts that had a high percentage of the total <b>black voters</b>.</p>  \n",
    "<br clear=\"left\"></br>\n",
    "    <p>Districts 12, 13, and 20 have a high percentage of the total black votes. Overall, <b>the center of the Heights is where much of the black voters live.</b></p>\n",
    "<br clear=\"left\"></br>"
   ]
  },
  {
   "cell_type": "markdown",
   "metadata": {},
   "source": [
    "#### Asian voters"
   ]
  },
  {
   "cell_type": "markdown",
   "metadata": {},
   "source": [
    "<img src=\"https://github.com/bdoohan/Jersey-City-Ward-D-Election/blob/master/Prcnt%20Asian%20Labels.jpeg?raw=true\" alt=\"Asian_Voters\" height=\"700\" width=\"700\" align=\"right\" hspace=0>\n",
    "<p align=\"left\">This chart shows the percent of Ward D <b>Asian voters</b> for each District. Blue colors show districts that had a high percentage of the total <b>Asian voters</b>.</p>  \n",
    "<br clear=\"left\"></br>\n",
    "    <p>Districts 22, 23, 25, 27 and 29 have a high percentage of the total Asian votes. Overall, <b>the westside of the Heights is where much of the Asian voters live.</b></p>\n",
    "<br clear=\"left\"></br>"
   ]
  },
  {
   "cell_type": "markdown",
   "metadata": {},
   "source": [
    "### Q3. Did Mo's supporters come out and vote?"
   ]
  },
  {
   "cell_type": "markdown",
   "metadata": {},
   "source": [
    "<img src=\"https://github.com/bdoohan/Jersey-City-Ward-D-Election/blob/master/Mo%20Supporters%20Prcnt%20Labels.jpeg?raw=true\" alt=\"Mo_supporters\" height=\"700\" width=\"700\" align=\"right\" hspace=0>\n",
    "<p align=\"left\">This chart shows where most of Mo's supporters live in Ward D. Blue colors show districts that had a high percentage of <b>Mo's supporters</b>.</p>  \n",
    "<br clear=\"left\"></br>\n",
    "    <p>Districts 4, 7 and 13 have a high percentage of Mo's supporters. Overall, <b>Mo's supporters live east of Central Avenue and near Congress Street.</b></p>\n",
    "<br clear=\"left\"></br>"
   ]
  },
  {
   "cell_type": "markdown",
   "metadata": {},
   "source": [
    "Overall, **52%** of Mo's supporters got out and voted. Here is the **percent turnout** by District:"
   ]
  },
  {
   "cell_type": "code",
   "execution_count": 85,
   "metadata": {
    "collapsed": true
   },
   "outputs": [],
   "source": [
    "results_mo[\"turnout_rate\"] = results_mo.voted.astype(float)/results_mo.mo_supporter.astype(float)\n",
    "results_mo[\"turnout_rate\"] = results_mo[\"turnout_rate\"].astype(float)"
   ]
  },
  {
   "cell_type": "code",
   "execution_count": 108,
   "metadata": {
    "collapsed": true
   },
   "outputs": [],
   "source": [
    "results_mo  = results_mo[results_mo[\"Dist_VotI_y\"] != 'District'].copy()"
   ]
  },
  {
   "cell_type": "code",
   "execution_count": 109,
   "metadata": {
    "collapsed": true
   },
   "outputs": [],
   "source": [
    "results_mo[\"Dist_VotI_x\"] = results_mo[\"Dist_VotI_x\"].astype(float)\n",
    "results_mo[\"Dist_VotI_y\"] = results_mo[\"Dist_VotI_y\"].astype(float)"
   ]
  },
  {
   "cell_type": "code",
   "execution_count": 119,
   "metadata": {
    "collapsed": true
   },
   "outputs": [],
   "source": [
    "results_mo[\"District\"] = results_mo[[\"Dist_VotI_x\", \"Dist_VotI_y\"]].max(axis=1)"
   ]
  },
  {
   "cell_type": "code",
   "execution_count": 164,
   "metadata": {
    "collapsed": true
   },
   "outputs": [],
   "source": [
    "turnout = pd.DataFrame(results_mo.groupby(\"District\")[\"turnout_rate\"].mean())\n",
    "turnout[\"District\"] = turnout.index\n",
    "turnout = turnout[turnout.District.between(1,29)]"
   ]
  },
  {
   "cell_type": "code",
   "execution_count": 165,
   "metadata": {
    "collapsed": true
   },
   "outputs": [],
   "source": [
    "turnout[\"District\"] = turnout.District.astype(int)"
   ]
  },
  {
   "cell_type": "code",
   "execution_count": 201,
   "metadata": {},
   "outputs": [
    {
     "data": {
      "image/png": "[encoded data removed]",
      "text/plain": [
       "<matplotlib.figure.Figure at 0x1a18b4de10>"
      ]
     },
     "metadata": {},
     "output_type": "display_data"
    }
   ],
   "source": [
    "import math \n",
    "turnout.set_index(turnout.District)\n",
    "turnout.turnout_rate.plot(kind=\"bar\")\n",
    "plt.xlabel(\"District\")\n",
    "plt.ylabel(\"Turnout Rate\")\n",
    "plt.title(\"Turnout Rate by District\", fontsize=20)\n",
    "plt.axhline(y=0.5, color='r', linestyle='--')\n",
    "plt.show()"
   ]
  },
  {
   "cell_type": "markdown",
   "metadata": {},
   "source": [
    "<img src=\"https://github.com/bdoohan/Jersey-City-Ward-D-Election/blob/master/District%20Guide.jpeg?raw=true\" alt=\"Districts\" height=\"600\" width=\"600\" align=\"right\" hspace=0>\n",
    "<p align=\"left\"> Districts <b>4, 5, 6, 7 and 19</b> stood out from the rest.</p>\n",
    "<br></br>\n",
    "<p align=\"left\"> Mo's base in <b>the eastern section of the Heights</b> came out and voted.</p>\n",
    "<br></br>\n",
    "<p align=\"left\"> Supporters outside of this section largely failed to come out on Election day.</p>"
   ]
  },
  {
   "cell_type": "markdown",
   "metadata": {},
   "source": [
    "### Q4. Where did Mo perform best?"
   ]
  },
  {
   "cell_type": "markdown",
   "metadata": {},
   "source": [
    "**N.B.** Color coding is specific to each candidate. Red colors show where the candidate did worse relative to his/her average number of votes. Blur shows where they did above average."
   ]
  },
  {
   "cell_type": "markdown",
   "metadata": {},
   "source": [
    "<img src=\"https://github.com/bdoohan/Jersey-City-Ward-D-Election/blob/master/Mo%20Total%20Labels.jpeg?raw=true\" alt=\"Mo_Voters\" height=\"700\" width=\"700\" align=\"right\" hspace=0>\n",
    "<p align=\"left\">This chart shows the <b>total</b> votes for Mo for each District. Blue colors show districts with higher vote counts.</p>  \n",
    "<br clear=\"left\"></br>\n",
    "    <p>Districts <b>3, 4, 5, 7, 8, 9 and 10</b> were the best for Mo.</p>\n",
    "<br clear=\"left\"></br>"
   ]
  },
  {
   "cell_type": "markdown",
   "metadata": {},
   "source": [
    "### Yun"
   ]
  },
  {
   "cell_type": "markdown",
   "metadata": {},
   "source": [
    "<img src=\"https://github.com/bdoohan/Jersey-City-Ward-D-Election/blob/master/Yun%20Total%20Labels.jpeg?raw=true\" alt=\"Yun_Voters\" height=\"700\" width=\"700\" align=\"right\" hspace=0>\n",
    "<p align=\"left\">This chart shows the <b>total</b> votes for Yun for each District. Blue colors show districts with higher vote counts.</p>  \n",
    "<br clear=\"left\"></br>"
   ]
  },
  {
   "cell_type": "markdown",
   "metadata": {},
   "source": [
    "### Vega"
   ]
  },
  {
   "cell_type": "markdown",
   "metadata": {},
   "source": [
    "<img src=\"https://github.com/bdoohan/Jersey-City-Ward-D-Election/blob/master/Carmen%20Total%20Labels.jpeg?raw=true\" alt=\"Yun_Voters\" height=\"700\" width=\"700\" align=\"right\" hspace=0>\n",
    "<p align=\"left\">This chart shows the <b>total</b> votes for Vega for each District. Blue colors show districts with higher vote counts.</p>  \n",
    "<br clear=\"left\"></br>"
   ]
  },
  {
   "cell_type": "markdown",
   "metadata": {},
   "source": [
    "### Torres"
   ]
  },
  {
   "cell_type": "markdown",
   "metadata": {},
   "source": [
    "<img src=\"https://github.com/bdoohan/Jersey-City-Ward-D-Election/blob/master/Torres%20Totals%20Labels.jpeg?raw=true\" alt=\"Yun_Voters\" height=\"700\" width=\"700\" align=\"right\" hspace=0>\n",
    "<p align=\"left\">This chart shows the <b>total</b> votes for Torres for each District. Blue colors show districts with higher vote counts.</p>  \n",
    "<br clear=\"left\"></br>"
   ]
  },
  {
   "cell_type": "markdown",
   "metadata": {},
   "source": [
    "### Q5. How did the model do at predicting whether someone was going to vote?"
   ]
  },
  {
   "cell_type": "markdown",
   "metadata": {},
   "source": [
    "For Mo's campaign a [Random Forest](https://en.wikipedia.org/wiki/Random_forest) model was used to predict who would vote. The model assigned a likelihood of voting to each voter. A likelihood close to 0 meant that the person was unlikely to vote; a value closer to 1 meant they were likely to vote. These predictions were then used to focus canvassing and phone banking efforts. \n",
    "\n",
    "Usually any likelihood greater than .50 (50%) is interpreted as a positive event. So, for example, if someone's likelihood was 0.55, they would be labelled as likely to vote. However, for this campaign, a decision was made to only label people with likelihoods of 0.85 or higher as people likely to vote. This made the model's predictions much more accurate. \n",
    "\n",
    "Using the 0.85 cutoff, the model had an accuracy of 75%. This means that the model correctly predicted whether or not a voter would vote 75% of the times."
   ]
  },
  {
   "cell_type": "markdown",
   "metadata": {},
   "source": [
    "### Summary"
   ]
  },
  {
   "cell_type": "markdown",
   "metadata": {},
   "source": [
    "- Mo won the white vote on the eastern side of the Ward.  \n",
    "- Mo lost the asian vote on western side of the Ward.  \n"
   ]
  },
  {
   "cell_type": "markdown",
   "metadata": {},
   "source": [
    "## Code"
   ]
  },
  {
   "cell_type": "code",
   "execution_count": 8,
   "metadata": {
    "collapsed": true
   },
   "outputs": [],
   "source": [
    "def get_last(string):\n",
    "    return(str(string).split(\"|\")[0])\n",
    "def get_first(string):\n",
    "    try:\n",
    "        return(str(string).split(\"|\")[1])\n",
    "    except:\n",
    "        return(\"\")\n",
    "def get_middle(string):\n",
    "    try:\n",
    "        return(str(string).split(\"|\")[2])\n",
    "    except:\n",
    "        return(\"\")\n",
    "\n",
    "results[\"last_name\"] = results.Voter_Name.apply(get_last)\n",
    "results[\"first_name\"] = results.Voter_Name.apply(get_first)\n",
    "results[\"middle_name\"] = results.Voter_Name.apply(get_middle)"
   ]
  },
  {
   "cell_type": "code",
   "execution_count": 9,
   "metadata": {
    "collapsed": true
   },
   "outputs": [],
   "source": [
    "url = 'https://raw.githubusercontent.com/fivethirtyeight/data/master/most-common-name/surnames.csv'\n",
    "races = pd.read_csv(url,index_col=0)"
   ]
  },
  {
   "cell_type": "code",
   "execution_count": 205,
   "metadata": {},
   "outputs": [],
   "source": [
    "races[\"last_name\"] = races.index\n",
    "races = races.reset_index()"
   ]
  },
  {
   "cell_type": "code",
   "execution_count": 11,
   "metadata": {
    "collapsed": true
   },
   "outputs": [],
   "source": [
    "def get_race(arow): \n",
    "    if arow[\"pctblack\"]==\"((S))\":\n",
    "        arow[\"pctblack\"] = 0.00\n",
    "    if arow[\"pctaian\"]==\"((S))\":\n",
    "        arow[\"pctaian\"] = 0.00\n",
    "    try:\n",
    "        guess = arow[[\"pctwhite\", \"pctblack\", \"pctapi\", \"pctaian\", \"pct2prace\", \"pcthispanic\"]].astype(float).idxmax(axis=1)\n",
    "        return(guess)\n",
    "    except:\n",
    "        return(\"Unidentified\")"
   ]
  },
  {
   "cell_type": "code",
   "execution_count": 12,
   "metadata": {
    "collapsed": true
   },
   "outputs": [],
   "source": [
    "mapping = {'(S)':.00001}\n",
    "races = races.replace({'pctblack': mapping, 'pctaian': mapping,\n",
    "               'pctwhite': mapping, 'pctapi': mapping, \n",
    "               'pct2prace': mapping, 'pcthispanic': mapping})"
   ]
  },
  {
   "cell_type": "code",
   "execution_count": 13,
   "metadata": {
    "collapsed": true
   },
   "outputs": [],
   "source": [
    "races[\"guess\"] = races.apply(lambda x: get_race(x), axis=1)"
   ]
  },
  {
   "cell_type": "code",
   "execution_count": 14,
   "metadata": {
    "collapsed": true
   },
   "outputs": [],
   "source": [
    "races[\"guess\"] = races.guess.str.replace(\"pct\", \"\")"
   ]
  },
  {
   "cell_type": "code",
   "execution_count": 17,
   "metadata": {
    "collapsed": true
   },
   "outputs": [],
   "source": [
    "results_race = pd.merge(results, races, on=\"last_name\", how=\"left\")"
   ]
  },
  {
   "cell_type": "code",
   "execution_count": 18,
   "metadata": {
    "collapsed": true
   },
   "outputs": [],
   "source": [
    "results_race.guess.fillna(\"Unidentified\", inplace=True)"
   ]
  },
  {
   "cell_type": "code",
   "execution_count": 20,
   "metadata": {},
   "outputs": [
    {
     "data": {
      "text/plain": [
       "<matplotlib.axes._subplots.AxesSubplot at 0x1a1b081a10>"
      ]
     },
     "execution_count": 20,
     "metadata": {},
     "output_type": "execute_result"
    }
   ],
   "source": [
    "sns.heatmap(results_race.groupby([\"Dist_VotI\", \"guess\"])[\"Voter_ID\"].count().fillna(0).replace('NaN', 0).unstack())"
   ]
  },
  {
   "cell_type": "code",
   "execution_count": 74,
   "metadata": {
    "collapsed": true
   },
   "outputs": [],
   "source": [
    "mo_base = pd.read_csv(\"Election Day Mo Supporter List - Master 11052017.csv\", \n",
    "                     names = [\"first_name\", \"last_name\", \"full_name\", \"address\", \"Dist_VotI\", \"email\", \"phone\"])"
   ]
  },
  {
   "cell_type": "code",
   "execution_count": 75,
   "metadata": {
    "collapsed": true
   },
   "outputs": [],
   "source": [
    "mo_base[\"mo_supporter\"] = int(1)"
   ]
  },
  {
   "cell_type": "code",
   "execution_count": 77,
   "metadata": {
    "collapsed": true
   },
   "outputs": [],
   "source": [
    "results['first_name'] = results['first_name'].apply(lambda x: x.strip(\" \"))\n",
    "results['first_name'] = results['first_name'].apply(lambda x: x.upper())"
   ]
  },
  {
   "cell_type": "code",
   "execution_count": 78,
   "metadata": {
    "collapsed": true
   },
   "outputs": [],
   "source": [
    "results['last_name'] = results['last_name'].apply(lambda x: x.strip(\" \"))\n",
    "results['last_name'] = results['last_name'].apply(lambda x: x.upper())"
   ]
  },
  {
   "cell_type": "code",
   "execution_count": 79,
   "metadata": {
    "collapsed": true
   },
   "outputs": [],
   "source": [
    "mo_base['first_name'] = mo_base['first_name'].astype(str).apply(lambda x: x.strip(\" \"))\n",
    "mo_base['last_name'] = mo_base['last_name'].astype(str).apply(lambda x: x.strip(\" \"))\n",
    "mo_base['first_name'] = mo_base['first_name'].astype(str).apply(lambda x: x.split(',', 1)[0])\n",
    "mo_base['last_name'] = mo_base['last_name'].apply(lambda x: x.upper())\n",
    "mo_base['first_name'] = mo_base['first_name'].apply(lambda x: x.upper())"
   ]
  },
  {
   "cell_type": "code",
   "execution_count": 80,
   "metadata": {
    "collapsed": true
   },
   "outputs": [],
   "source": [
    "results[\"voted\"] = int(1)"
   ]
  },
  {
   "cell_type": "code",
   "execution_count": 81,
   "metadata": {
    "collapsed": true
   },
   "outputs": [],
   "source": [
    "results_mo = pd.merge(results, mo_base[[\"first_name\", \"last_name\", \"mo_supporter\", \"Dist_VotI\"]],\n",
    "                          on=[\"last_name\", \"first_name\"], how=\"right\")"
   ]
  },
  {
   "cell_type": "code",
   "execution_count": 82,
   "metadata": {
    "collapsed": true
   },
   "outputs": [],
   "source": [
    "results_mo.drop_duplicates(inplace=True, subset=[\"Voter_ID\", \"last_name\", \"first_name\", \"voted\", \"mo_supporter\"])"
   ]
  },
  {
   "cell_type": "code",
   "execution_count": 83,
   "metadata": {
    "collapsed": true
   },
   "outputs": [],
   "source": [
    "results_mo.fillna(0, inplace=True)"
   ]
  },
  {
   "cell_type": "code",
   "execution_count": null,
   "metadata": {
    "collapsed": true
   },
   "outputs": [],
   "source": [
    "x = results_race_mo.groupby([\"Dist_VotI\", \"guess\"])[\"Voter_ID\"].count().unstack()\n",
    "races_dist = pd.DataFrame(x)\n",
    "races_dist[\"District\"] = races_dist.index"
   ]
  },
  {
   "cell_type": "code",
   "execution_count": null,
   "metadata": {
    "collapsed": true
   },
   "outputs": [],
   "source": [
    "x = results_race_mo.groupby(\"Dist_VotI\")[\"Voter_ID\"].count()\n",
    "votes = pd.DataFrame(x)\n",
    "votes[\"District\"] = votes.index"
   ]
  },
  {
   "cell_type": "code",
   "execution_count": null,
   "metadata": {
    "collapsed": true
   },
   "outputs": [],
   "source": [
    "mo_groupby = mo_base.groupby(\"Dist_VotI\", as_index=False).mo_supporter.count() "
   ]
  },
  {
   "cell_type": "code",
   "execution_count": null,
   "metadata": {
    "collapsed": true
   },
   "outputs": [],
   "source": [
    "results_race_mo[\"Dist_VotI\"] = results_race_mo.Dist_VotI.astype(str).copy()"
   ]
  },
  {
   "cell_type": "code",
   "execution_count": null,
   "metadata": {
    "collapsed": true
   },
   "outputs": [],
   "source": [
    "mo_groupby[\"Dist_VotI\"] = mo_groupby.Dist_VotI.astype(str).copy()"
   ]
  },
  {
   "cell_type": "code",
   "execution_count": null,
   "metadata": {
    "collapsed": true
   },
   "outputs": [],
   "source": [
    "results_race_mo[\"Dist_VotI\"] = results_race_mo.Dist_VotI.copy()"
   ]
  },
  {
   "cell_type": "code",
   "execution_count": null,
   "metadata": {
    "collapsed": true
   },
   "outputs": [],
   "source": [
    "results_groupby = pd.DataFrame(\n",
    "        results_race_mo.groupby([\"Dist_VotI\", \"mo_supporter\"])[\"Voter_ID\"].count().fillna(0).replace('NaN', 0)\n",
    "    )"
   ]
  },
  {
   "cell_type": "code",
   "execution_count": null,
   "metadata": {
    "collapsed": true
   },
   "outputs": [],
   "source": [
    "results_groupby.unstack()"
   ]
  },
  {
   "cell_type": "code",
   "execution_count": null,
   "metadata": {
    "collapsed": true
   },
   "outputs": [],
   "source": [
    "results_groupby = results_groupby.unstack()\n",
    "#results_groupby[\"Dist_VotI\"] = results_groupby.index\n",
    "#results_groupby[\"Dist_VotI\"] = results_groupby[\"Dist_VotI\"].round(0)"
   ]
  },
  {
   "cell_type": "code",
   "execution_count": null,
   "metadata": {
    "collapsed": true
   },
   "outputs": [],
   "source": [
    "mo_groupby = mo_groupby.convert_objects(convert_numeric=True)"
   ]
  },
  {
   "cell_type": "code",
   "execution_count": null,
   "metadata": {
    "collapsed": true
   },
   "outputs": [],
   "source": [
    "results_groupby.transpose().head()"
   ]
  },
  {
   "cell_type": "code",
   "execution_count": null,
   "metadata": {
    "collapsed": true
   },
   "outputs": [],
   "source": [
    "mo_turnout = pd.merge(\n",
    "    results_groupby.transpose(),\n",
    "    mo_groupby,\n",
    "    on=\"Dist_VotI\",\n",
    "    how=\"inner\")"
   ]
  },
  {
   "cell_type": "code",
   "execution_count": null,
   "metadata": {
    "collapsed": true
   },
   "outputs": [],
   "source": [
    "mo_turnout.columns = [\"District\", \"Total_Voters\", \"Mo_Voters\", \"District_x\", \"Mo_supporters\"]"
   ]
  },
  {
   "cell_type": "code",
   "execution_count": null,
   "metadata": {
    "collapsed": true
   },
   "outputs": [],
   "source": [
    "mo_turnout[\"turnout_rate\"] = mo_turnout[\"Mo_Voters\"]/ mo_turnout.Mo_supporters"
   ]
  },
  {
   "cell_type": "code",
   "execution_count": null,
   "metadata": {
    "collapsed": true
   },
   "outputs": [],
   "source": [
    "import matplotlib.pyplot as plt\n",
    "#import plotly.plotly as py\n",
    "# Learn about API authentication here: https://plot.ly/python/getting-started\n",
    "# Find your api_key here: https://plot.ly/settings/api\n",
    "\n",
    "y = mo_turnout.turnout_rate\n",
    "x = mo_turnout.District\n",
    "width = 1/1.5\n",
    "plt.bar(x, y, width, color=\"blue\")\n",
    "#fig = plt.gcf()\n",
    "#plot_url = py.plot_mpl(fig, filename='mpl-basic-bar')\n",
    "plt.show()"
   ]
  },
  {
   "cell_type": "code",
   "execution_count": null,
   "metadata": {
    "collapsed": true
   },
   "outputs": [],
   "source": [
    "probs = pd.read_csv(\"Data/voters_with_petition_flag.csv\")"
   ]
  },
  {
   "cell_type": "code",
   "execution_count": null,
   "metadata": {
    "collapsed": true
   },
   "outputs": [],
   "source": [
    "probs[\"Voter_ID\"] = probs[\"VOTER.ID\"].astype(str)\n",
    "results_race_mo[\"Voter_ID\"] = results_race_mo[\"Voter_ID\"].astype(str) "
   ]
  },
  {
   "cell_type": "code",
   "execution_count": null,
   "metadata": {
    "collapsed": true
   },
   "outputs": [],
   "source": [
    "model_eval = pd.merge(probs[[\"Voter_ID\", \"LAST.NAME\", \"FIRST.NAME\", \n",
    "                             \"likely_to_vote\"]], results_race_mo, on=\"Voter_ID\", how=\"left\")"
   ]
  },
  {
   "cell_type": "code",
   "execution_count": 206,
   "metadata": {
    "collapsed": true
   },
   "outputs": [],
   "source": [
    "model_eval = pd.read_csv(\"model_eval.csv\")"
   ]
  },
  {
   "cell_type": "code",
   "execution_count": 207,
   "metadata": {
    "collapsed": true
   },
   "outputs": [],
   "source": [
    "#model_eval.to_csv(\"model_eval.csv\", index=False)"
   ]
  },
  {
   "cell_type": "code",
   "execution_count": 221,
   "metadata": {
    "collapsed": true
   },
   "outputs": [],
   "source": [
    "model_eval[\"pred_vote\"] = model_eval.likely_to_vote.apply(lambda x: 1 if x>0.85 else 0)"
   ]
  },
  {
   "cell_type": "code",
   "execution_count": 222,
   "metadata": {
    "collapsed": true
   },
   "outputs": [],
   "source": [
    "import math\n",
    "model_eval[\"act_vote\"] = model_eval.Voter_Name.apply(lambda x: 0 if pd.isnull(x) == True else 1)"
   ]
  },
  {
   "cell_type": "code",
   "execution_count": 223,
   "metadata": {
    "collapsed": true
   },
   "outputs": [],
   "source": [
    "model_eval_deduped = pd.DataFrame(\n",
    "    model_eval.fillna(0).groupby([\"Voter_ID\", \"LAST.NAME\", \"FIRST.NAME\"])[[\"Dist_VotI\", \"pred_vote\", \"act_vote\"]].max()\n",
    ")"
   ]
  },
  {
   "cell_type": "code",
   "execution_count": 224,
   "metadata": {
    "collapsed": true
   },
   "outputs": [],
   "source": [
    "model_eval_deduped[\"Voter_ID\"] = model_eval_deduped.index.get_level_values(0)\n",
    "model_eval_deduped[\"LAST.NAME\"] = model_eval_deduped.index.get_level_values(1)\n",
    "model_eval_deduped[\"FIRST.NAME\"] = model_eval_deduped.index.get_level_values(2)"
   ]
  },
  {
   "cell_type": "code",
   "execution_count": 225,
   "metadata": {
    "collapsed": true
   },
   "outputs": [],
   "source": [
    "model_eval_deduped.sort_values(\"Voter_ID\", inplace=True)"
   ]
  },
  {
   "cell_type": "code",
   "execution_count": 226,
   "metadata": {},
   "outputs": [
    {
     "data": {
      "text/html": [
       "<div>\n",
       "<style>\n",
       "    .dataframe thead tr:only-child th {\n",
       "        text-align: right;\n",
       "    }\n",
       "\n",
       "    .dataframe thead th {\n",
       "        text-align: left;\n",
       "    }\n",
       "\n",
       "    .dataframe tbody tr th {\n",
       "        vertical-align: top;\n",
       "    }\n",
       "</style>\n",
       "<table border=\"1\" class=\"dataframe\">\n",
       "  <thead>\n",
       "    <tr style=\"text-align: right;\">\n",
       "      <th>pred_vote</th>\n",
       "      <th>0</th>\n",
       "      <th>1</th>\n",
       "    </tr>\n",
       "    <tr>\n",
       "      <th>act_vote</th>\n",
       "      <th></th>\n",
       "      <th></th>\n",
       "    </tr>\n",
       "  </thead>\n",
       "  <tbody>\n",
       "    <tr>\n",
       "      <th>0</th>\n",
       "      <td>12516</td>\n",
       "      <td>1857</td>\n",
       "    </tr>\n",
       "    <tr>\n",
       "      <th>1</th>\n",
       "      <td>3238</td>\n",
       "      <td>3295</td>\n",
       "    </tr>\n",
       "  </tbody>\n",
       "</table>\n",
       "</div>"
      ],
      "text/plain": [
       "pred_vote      0     1\n",
       "act_vote              \n",
       "0          12516  1857\n",
       "1           3238  3295"
      ]
     },
     "execution_count": 226,
     "metadata": {},
     "output_type": "execute_result"
    }
   ],
   "source": [
    "pd.crosstab(model_eval.act_vote, model_eval.pred_vote, values=model_eval.Voter_ID, aggfunc=\"count\")"
   ]
  },
  {
   "cell_type": "code",
   "execution_count": 227,
   "metadata": {},
   "outputs": [
    {
     "data": {
      "text/html": [
       "<div>\n",
       "<style>\n",
       "    .dataframe thead tr:only-child th {\n",
       "        text-align: right;\n",
       "    }\n",
       "\n",
       "    .dataframe thead th {\n",
       "        text-align: left;\n",
       "    }\n",
       "\n",
       "    .dataframe tbody tr th {\n",
       "        vertical-align: top;\n",
       "    }\n",
       "</style>\n",
       "<table border=\"1\" class=\"dataframe\">\n",
       "  <thead>\n",
       "    <tr style=\"text-align: right;\">\n",
       "      <th>pred_vote</th>\n",
       "      <th>0</th>\n",
       "      <th>1</th>\n",
       "    </tr>\n",
       "    <tr>\n",
       "      <th>act_vote</th>\n",
       "      <th></th>\n",
       "      <th></th>\n",
       "    </tr>\n",
       "  </thead>\n",
       "  <tbody>\n",
       "    <tr>\n",
       "      <th>0</th>\n",
       "      <td>11770</td>\n",
       "      <td>1857</td>\n",
       "    </tr>\n",
       "    <tr>\n",
       "      <th>1</th>\n",
       "      <td>3029</td>\n",
       "      <td>3288</td>\n",
       "    </tr>\n",
       "  </tbody>\n",
       "</table>\n",
       "</div>"
      ],
      "text/plain": [
       "pred_vote      0     1\n",
       "act_vote              \n",
       "0          11770  1857\n",
       "1           3029  3288"
      ]
     },
     "execution_count": 227,
     "metadata": {},
     "output_type": "execute_result"
    }
   ],
   "source": [
    "pd.crosstab(model_eval_deduped.act_vote, model_eval_deduped.pred_vote, \n",
    "            values=model_eval_deduped.Voter_ID, aggfunc=\"count\")\n"
   ]
  },
  {
   "cell_type": "code",
   "execution_count": 228,
   "metadata": {
    "collapsed": true
   },
   "outputs": [],
   "source": [
    "from sklearn.metrics import cohen_kappa_score\n",
    "from sklearn.metrics import accuracy_score"
   ]
  },
  {
   "cell_type": "code",
   "execution_count": 229,
   "metadata": {},
   "outputs": [
    {
     "data": {
      "text/plain": [
       "0.39811424473055634"
      ]
     },
     "execution_count": 229,
     "metadata": {},
     "output_type": "execute_result"
    }
   ],
   "source": [
    "cohen_kappa_score(model_eval.act_vote, model_eval.pred_vote, labels=None, weights=None)"
   ]
  },
  {
   "cell_type": "code",
   "execution_count": 230,
   "metadata": {},
   "outputs": [
    {
     "data": {
      "text/plain": [
       "0.40434811327339037"
      ]
     },
     "execution_count": 230,
     "metadata": {},
     "output_type": "execute_result"
    }
   ],
   "source": [
    "cohen_kappa_score(model_eval_deduped.act_vote, model_eval_deduped.pred_vote, labels=None, weights=None)"
   ]
  },
  {
   "cell_type": "code",
   "execution_count": 231,
   "metadata": {},
   "outputs": [
    {
     "data": {
      "text/plain": [
       "0.75629006026977896"
      ]
     },
     "execution_count": 231,
     "metadata": {},
     "output_type": "execute_result"
    }
   ],
   "source": [
    "accuracy_score(model_eval.act_vote, model_eval.pred_vote)"
   ]
  },
  {
   "cell_type": "code",
   "execution_count": 232,
   "metadata": {},
   "outputs": [
    {
     "data": {
      "text/plain": [
       "0.75501403931006816"
      ]
     },
     "execution_count": 232,
     "metadata": {},
     "output_type": "execute_result"
    }
   ],
   "source": [
    "accuracy_score(model_eval_deduped.act_vote, model_eval_deduped.pred_vote)\n"
   ]
  }
 ],
 "metadata": {
  "kernelspec": {
   "display_name": "Python 2",
   "language": "python",
   "name": "python2"
  },
  "language_info": {
   "codemirror_mode": {
    "name": "ipython",
    "version": 2
   },
   "file_extension": ".py",
   "mimetype": "text/x-python",
   "name": "python",
   "nbconvert_exporter": "python",
   "pygments_lexer": "ipython2",
   "version": "2.7.13"
  }
 },
 "nbformat": 4,
 "nbformat_minor": 2
}
